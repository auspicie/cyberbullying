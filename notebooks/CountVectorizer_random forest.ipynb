{
  "cells": [
    {
      "cell_type": "markdown",
      "metadata": {
        "id": "view-in-github",
        "colab_type": "text"
      },
      "source": [
        "<a href=\"https://colab.research.google.com/github/thayeylolu/cyberbullying/blob/main/notebooks/CountVectorizer_random%20forest.ipynb\" target=\"_parent\"><img src=\"https://colab.research.google.com/assets/colab-badge.svg\" alt=\"Open In Colab\"/></a>"
      ]
    },
    {
      "cell_type": "markdown",
      "metadata": {
        "id": "7DpQQK8I60NZ"
      },
      "source": [
        "## Import Libraries"
      ]
    },
    {
      "cell_type": "code",
      "execution_count": 132,
      "metadata": {
        "id": "nYziVIuLPWo3"
      },
      "outputs": [],
      "source": [
        "import pandas as pd\n",
        "import random\n",
        "import matplotlib.pyplot as plt\n",
        "from sklearn.ensemble import RandomForestClassifier\n",
        "from sklearn.feature_extraction.text import TfidfVectorizer\n",
        "from sklearn.model_selection import train_test_split\n",
        "from sklearn.preprocessing import LabelEncoder\n",
        "from sklearn.metrics import confusion_matrix\n",
        "from sklearn import metrics\n",
        "import numpy as np\n",
        "from sklearn.model_selection import cross_val_score\n",
        "\n",
        "import numpy as np\n",
        "from sklearn.feature_extraction.text import CountVectorizer\n",
        "\n",
        "from sklearn.model_selection import (\n",
        "    cross_val_score,\n",
        "    cross_validate,\n",
        "    train_test_split,\n",
        ")\n",
        "\n",
        "%matplotlib inline"
      ]
    },
    {
      "cell_type": "markdown",
      "metadata": {
        "id": "o961VBybpKEp"
      },
      "source": [
        "## Mount Drive to connect data present in google drive"
      ]
    },
    {
      "cell_type": "code",
      "execution_count": 133,
      "metadata": {
        "colab": {
          "base_uri": "https://localhost:8080/"
        },
        "id": "BkxK4FAH1sb7",
        "outputId": "6ed92790-cd5c-4cc4-ffaa-cd4d4480f3fc"
      },
      "outputs": [
        {
          "output_type": "stream",
          "name": "stdout",
          "text": [
            "Drive already mounted at /drive; to attempt to forcibly remount, call drive.mount(\"/drive\", force_remount=True).\n"
          ]
        }
      ],
      "source": [
        "from google.colab import drive\n",
        "drive.mount('/drive')"
      ]
    },
    {
      "cell_type": "code",
      "execution_count": 134,
      "metadata": {
        "id": "7wsb1mSlzAnp"
      },
      "outputs": [],
      "source": [
        "np.random.seed(3040)\n",
        "random.seed(3040)"
      ]
    },
    {
      "cell_type": "markdown",
      "metadata": {
        "id": "oosp3I-spV1y"
      },
      "source": [
        "## Read CSV "
      ]
    },
    {
      "cell_type": "code",
      "execution_count": 135,
      "metadata": {
        "id": "h-cPzULj3s3o"
      },
      "outputs": [],
      "source": [
        "url = '/drive/MyDrive//NLP/train_data.csv'\n",
        "df = pd.read_csv(url)"
      ]
    },
    {
      "cell_type": "markdown",
      "metadata": {
        "id": "FylK6culpgJq"
      },
      "source": [
        "### Load information about the Dataset and preview the 10 rows randomly"
      ]
    },
    {
      "cell_type": "code",
      "execution_count": 136,
      "metadata": {
        "colab": {
          "base_uri": "https://localhost:8080/",
          "height": 536
        },
        "id": "Me91VaUh4P2s",
        "outputId": "1f4736ac-964a-4f6e-f80d-7d72eee7dbc5"
      },
      "outputs": [
        {
          "output_type": "stream",
          "name": "stdout",
          "text": [
            "<class 'pandas.core.frame.DataFrame'>\n",
            "RangeIndex: 47692 entries, 0 to 47691\n",
            "Data columns (total 3 columns):\n",
            " #   Column              Non-Null Count  Dtype \n",
            "---  ------              --------------  ----- \n",
            " 0   Unnamed: 0          47692 non-null  int64 \n",
            " 1   clean_txt_emoji     47349 non-null  object\n",
            " 2   cyberbullying_type  47692 non-null  object\n",
            "dtypes: int64(1), object(2)\n",
            "memory usage: 1.1+ MB\n"
          ]
        },
        {
          "output_type": "execute_result",
          "data": {
            "text/plain": [
              "       Unnamed: 0                                    clean_txt_emoji  \\\n",
              "24705       24705                                      will try that   \n",
              "10588       10588                       clue who she harry might was   \n",
              "46499       46499  leaving your impression people the most import...   \n",
              "15331       15331                                           what way   \n",
              "20280       20280  being christian woman cannot say you did right...   \n",
              "46707       46707  what these people with dyed black hair niggers...   \n",
              "16224       16224                    except isn muslim and you idiot   \n",
              "14181       14181  darlingwestallen not gonna apologize for rape ...   \n",
              "14713       14713  think the phrase got raped enter test name her...   \n",
              "14868       14868  fat jokes gay jokes black jokes and rape jokes...   \n",
              "\n",
              "        cyberbullying_type  \n",
              "24705  other_cyberbullying  \n",
              "10588               gender  \n",
              "46499            ethnicity  \n",
              "15331               gender  \n",
              "20280             religion  \n",
              "46707            ethnicity  \n",
              "16224             religion  \n",
              "14181               gender  \n",
              "14713               gender  \n",
              "14868               gender  "
            ],
            "text/html": [
              "\n",
              "  <div id=\"df-686041c8-ae6d-4a51-8dba-74667efe2d73\">\n",
              "    <div class=\"colab-df-container\">\n",
              "      <div>\n",
              "<style scoped>\n",
              "    .dataframe tbody tr th:only-of-type {\n",
              "        vertical-align: middle;\n",
              "    }\n",
              "\n",
              "    .dataframe tbody tr th {\n",
              "        vertical-align: top;\n",
              "    }\n",
              "\n",
              "    .dataframe thead th {\n",
              "        text-align: right;\n",
              "    }\n",
              "</style>\n",
              "<table border=\"1\" class=\"dataframe\">\n",
              "  <thead>\n",
              "    <tr style=\"text-align: right;\">\n",
              "      <th></th>\n",
              "      <th>Unnamed: 0</th>\n",
              "      <th>clean_txt_emoji</th>\n",
              "      <th>cyberbullying_type</th>\n",
              "    </tr>\n",
              "  </thead>\n",
              "  <tbody>\n",
              "    <tr>\n",
              "      <th>24705</th>\n",
              "      <td>24705</td>\n",
              "      <td>will try that</td>\n",
              "      <td>other_cyberbullying</td>\n",
              "    </tr>\n",
              "    <tr>\n",
              "      <th>10588</th>\n",
              "      <td>10588</td>\n",
              "      <td>clue who she harry might was</td>\n",
              "      <td>gender</td>\n",
              "    </tr>\n",
              "    <tr>\n",
              "      <th>46499</th>\n",
              "      <td>46499</td>\n",
              "      <td>leaving your impression people the most import...</td>\n",
              "      <td>ethnicity</td>\n",
              "    </tr>\n",
              "    <tr>\n",
              "      <th>15331</th>\n",
              "      <td>15331</td>\n",
              "      <td>what way</td>\n",
              "      <td>gender</td>\n",
              "    </tr>\n",
              "    <tr>\n",
              "      <th>20280</th>\n",
              "      <td>20280</td>\n",
              "      <td>being christian woman cannot say you did right...</td>\n",
              "      <td>religion</td>\n",
              "    </tr>\n",
              "    <tr>\n",
              "      <th>46707</th>\n",
              "      <td>46707</td>\n",
              "      <td>what these people with dyed black hair niggers...</td>\n",
              "      <td>ethnicity</td>\n",
              "    </tr>\n",
              "    <tr>\n",
              "      <th>16224</th>\n",
              "      <td>16224</td>\n",
              "      <td>except isn muslim and you idiot</td>\n",
              "      <td>religion</td>\n",
              "    </tr>\n",
              "    <tr>\n",
              "      <th>14181</th>\n",
              "      <td>14181</td>\n",
              "      <td>darlingwestallen not gonna apologize for rape ...</td>\n",
              "      <td>gender</td>\n",
              "    </tr>\n",
              "    <tr>\n",
              "      <th>14713</th>\n",
              "      <td>14713</td>\n",
              "      <td>think the phrase got raped enter test name her...</td>\n",
              "      <td>gender</td>\n",
              "    </tr>\n",
              "    <tr>\n",
              "      <th>14868</th>\n",
              "      <td>14868</td>\n",
              "      <td>fat jokes gay jokes black jokes and rape jokes...</td>\n",
              "      <td>gender</td>\n",
              "    </tr>\n",
              "  </tbody>\n",
              "</table>\n",
              "</div>\n",
              "      <button class=\"colab-df-convert\" onclick=\"convertToInteractive('df-686041c8-ae6d-4a51-8dba-74667efe2d73')\"\n",
              "              title=\"Convert this dataframe to an interactive table.\"\n",
              "              style=\"display:none;\">\n",
              "        \n",
              "  <svg xmlns=\"http://www.w3.org/2000/svg\" height=\"24px\"viewBox=\"0 0 24 24\"\n",
              "       width=\"24px\">\n",
              "    <path d=\"M0 0h24v24H0V0z\" fill=\"none\"/>\n",
              "    <path d=\"M18.56 5.44l.94 2.06.94-2.06 2.06-.94-2.06-.94-.94-2.06-.94 2.06-2.06.94zm-11 1L8.5 8.5l.94-2.06 2.06-.94-2.06-.94L8.5 2.5l-.94 2.06-2.06.94zm10 10l.94 2.06.94-2.06 2.06-.94-2.06-.94-.94-2.06-.94 2.06-2.06.94z\"/><path d=\"M17.41 7.96l-1.37-1.37c-.4-.4-.92-.59-1.43-.59-.52 0-1.04.2-1.43.59L10.3 9.45l-7.72 7.72c-.78.78-.78 2.05 0 2.83L4 21.41c.39.39.9.59 1.41.59.51 0 1.02-.2 1.41-.59l7.78-7.78 2.81-2.81c.8-.78.8-2.07 0-2.86zM5.41 20L4 18.59l7.72-7.72 1.47 1.35L5.41 20z\"/>\n",
              "  </svg>\n",
              "      </button>\n",
              "      \n",
              "  <style>\n",
              "    .colab-df-container {\n",
              "      display:flex;\n",
              "      flex-wrap:wrap;\n",
              "      gap: 12px;\n",
              "    }\n",
              "\n",
              "    .colab-df-convert {\n",
              "      background-color: #E8F0FE;\n",
              "      border: none;\n",
              "      border-radius: 50%;\n",
              "      cursor: pointer;\n",
              "      display: none;\n",
              "      fill: #1967D2;\n",
              "      height: 32px;\n",
              "      padding: 0 0 0 0;\n",
              "      width: 32px;\n",
              "    }\n",
              "\n",
              "    .colab-df-convert:hover {\n",
              "      background-color: #E2EBFA;\n",
              "      box-shadow: 0px 1px 2px rgba(60, 64, 67, 0.3), 0px 1px 3px 1px rgba(60, 64, 67, 0.15);\n",
              "      fill: #174EA6;\n",
              "    }\n",
              "\n",
              "    [theme=dark] .colab-df-convert {\n",
              "      background-color: #3B4455;\n",
              "      fill: #D2E3FC;\n",
              "    }\n",
              "\n",
              "    [theme=dark] .colab-df-convert:hover {\n",
              "      background-color: #434B5C;\n",
              "      box-shadow: 0px 1px 3px 1px rgba(0, 0, 0, 0.15);\n",
              "      filter: drop-shadow(0px 1px 2px rgba(0, 0, 0, 0.3));\n",
              "      fill: #FFFFFF;\n",
              "    }\n",
              "  </style>\n",
              "\n",
              "      <script>\n",
              "        const buttonEl =\n",
              "          document.querySelector('#df-686041c8-ae6d-4a51-8dba-74667efe2d73 button.colab-df-convert');\n",
              "        buttonEl.style.display =\n",
              "          google.colab.kernel.accessAllowed ? 'block' : 'none';\n",
              "\n",
              "        async function convertToInteractive(key) {\n",
              "          const element = document.querySelector('#df-686041c8-ae6d-4a51-8dba-74667efe2d73');\n",
              "          const dataTable =\n",
              "            await google.colab.kernel.invokeFunction('convertToInteractive',\n",
              "                                                     [key], {});\n",
              "          if (!dataTable) return;\n",
              "\n",
              "          const docLinkHtml = 'Like what you see? Visit the ' +\n",
              "            '<a target=\"_blank\" href=https://colab.research.google.com/notebooks/data_table.ipynb>data table notebook</a>'\n",
              "            + ' to learn more about interactive tables.';\n",
              "          element.innerHTML = '';\n",
              "          dataTable['output_type'] = 'display_data';\n",
              "          await google.colab.output.renderOutput(dataTable, element);\n",
              "          const docLink = document.createElement('div');\n",
              "          docLink.innerHTML = docLinkHtml;\n",
              "          element.appendChild(docLink);\n",
              "        }\n",
              "      </script>\n",
              "    </div>\n",
              "  </div>\n",
              "  "
            ]
          },
          "metadata": {},
          "execution_count": 136
        }
      ],
      "source": [
        "df.info()\n",
        "df.sample(10)"
      ]
    },
    {
      "cell_type": "markdown",
      "metadata": {
        "id": "O9GZZRuaprRA"
      },
      "source": [
        "### Data Cleaning\n",
        "\n",
        "- Strip white spaces in the `clean_txt_emoji` column \n",
        "- Drop empty rows and `Unnamed: 0` column\n",
        "- Select `cyberbullying_type` and `clean_txt_emoji`\n",
        "- Split the data into test , validate and train dataset that and set a random state for the split\n",
        "- Check the value count for each classes"
      ]
    },
    {
      "cell_type": "code",
      "execution_count": 137,
      "metadata": {
        "id": "9uiD3O1UzAnv"
      },
      "outputs": [],
      "source": [
        "df['clean_txt_emoji'] = df['clean_txt_emoji'].str.strip()\n",
        "df = df.dropna()\n",
        "df = df.drop(columns = [\"Unnamed: 0\"])"
      ]
    },
    {
      "cell_type": "code",
      "execution_count": 138,
      "metadata": {
        "colab": {
          "base_uri": "https://localhost:8080/"
        },
        "id": "wzW3LbYIqr3K",
        "outputId": "e6194bef-60aa-4dea-a571-780ac7484641"
      },
      "outputs": [
        {
          "output_type": "execute_result",
          "data": {
            "text/plain": [
              "ethnicity              2491\n",
              "religion               2444\n",
              "not_cyberbullying      2371\n",
              "age                    2338\n",
              "gender                 2337\n",
              "other_cyberbullying    2224\n",
              "Name: cyberbullying_type, dtype: int64"
            ]
          },
          "metadata": {},
          "execution_count": 138
        }
      ],
      "source": [
        "np.random.seed(3040)\n",
        "random.seed(3040)\n",
        "\n",
        "df = df[['cyberbullying_type', 'clean_txt_emoji']]\n",
        "train, test = train_test_split(df,train_size= 0.70, random_state= 3040)\n",
        "test['cyberbullying_type'].value_counts()"
      ]
    },
    {
      "cell_type": "markdown",
      "metadata": {
        "id": "A1LjrB8Gr1D8"
      },
      "source": [
        "### Encode the labels into numerical labels"
      ]
    },
    {
      "cell_type": "code",
      "execution_count": 139,
      "metadata": {
        "id": "u1Ejq0cIqhab"
      },
      "outputs": [],
      "source": [
        "classes = df['cyberbullying_type'].unique()\n",
        "encoder = LabelEncoder()\n",
        "y = encoder.fit_transform(df['cyberbullying_type'])"
      ]
    },
    {
      "cell_type": "markdown",
      "metadata": {
        "id": "jpUR3GCfr8yv"
      },
      "source": [
        "### Split train, test and validate data into X and y"
      ]
    },
    {
      "cell_type": "code",
      "execution_count": 140,
      "metadata": {
        "id": "pVh8IuFTvaYb"
      },
      "outputs": [],
      "source": [
        "X_train, y_train = train.drop(columns=[\"cyberbullying_type\"]), train[\"cyberbullying_type\"]\n",
        "X_test, y_test = test.drop(columns=[\"cyberbullying_type\"]), test[\"cyberbullying_type\"]"
      ]
    },
    {
      "cell_type": "markdown",
      "metadata": {
        "id": "O82pIvZOsaR9"
      },
      "source": [
        "## Define a Count Vectorizer\n",
        "\n",
        "- Save the train_X data as the corpus to train the vecotrizer on\n",
        "- Initialize the count vectorizer\n",
        "- Fit and transformer the train data on the vecotrizer\n",
        "-  extract feature vectors"
      ]
    },
    {
      "cell_type": "code",
      "execution_count": 141,
      "metadata": {
        "colab": {
          "base_uri": "https://localhost:8080/"
        },
        "id": "kR6_O1qlsZoF",
        "outputId": "1fc0a111-0b90-4854-d664-340a5db6e26a"
      },
      "outputs": [
        {
          "output_type": "execute_result",
          "data": {
            "text/plain": [
              "(33144, 33382)"
            ]
          },
          "metadata": {},
          "execution_count": 141
        }
      ],
      "source": [
        "corpus_train = X_train['clean_txt_emoji']\n",
        "vectorizer = CountVectorizer()\n",
        "X_train_vec = vectorizer.fit_transform(corpus_train)\n",
        "feat_names = vectorizer.get_feature_names_out()\n",
        "feat_names.shape\n",
        "X_train_vec.shape"
      ]
    },
    {
      "cell_type": "markdown",
      "metadata": {
        "id": "6fW-Y9pytxPy"
      },
      "source": [
        "## Transform Test Data\n",
        "\n",
        "- Transformer the validate and test corpus data on the vecotrizer\n",
        "- extract feature vectors"
      ]
    },
    {
      "cell_type": "code",
      "execution_count": 142,
      "metadata": {
        "colab": {
          "base_uri": "https://localhost:8080/"
        },
        "id": "Ay4rCo4mtwVg",
        "outputId": "76f1c832-1ea6-4c60-84bb-e20c88bac60e"
      },
      "outputs": [
        {
          "output_type": "stream",
          "name": "stdout",
          "text": [
            "(14205, 33382)\n"
          ]
        }
      ],
      "source": [
        "X_test_vec = vectorizer.transform(X_test['clean_txt_emoji'])\n",
        "feat_names = vectorizer.get_feature_names_out()\n",
        "print(X_test_vec.shape)"
      ]
    },
    {
      "cell_type": "markdown",
      "metadata": {
        "id": "o4g7zYmGtZLO"
      },
      "source": [
        "## Model Selection \n",
        "\n",
        "- for every criteria, The function loops over a series of `depth` to find the best hyperparameter to train the decision tree classfier on.\n",
        "\n",
        "- For each depth, the validation score, train score and model is stored in a dictionary\n",
        "\n"
      ]
    },
    {
      "cell_type": "code",
      "execution_count": 143,
      "metadata": {
        "id": "QOQJjAjyvs6e"
      },
      "outputs": [],
      "source": [
        "\n",
        "np.random.seed(3040)\n",
        "random.seed(3040)\n",
        "def select_model(train_X, train_y, depths):\n",
        "  res  = {key:{} for key in [\"entropy\", \"gini\"]}\n",
        "\n",
        "  for criterion in res:\n",
        "    best_d = None\n",
        "    best_acc = 0\n",
        "    for dep in depths :\n",
        "      tree = RandomForestClassifier(criterion=criterion, max_depth=dep)\n",
        "      score = cross_val_score(tree, train_X, train_y, cv=5, scoring='accuracy') \n",
        "      res[criterion][dep] = {'depth': round(np.mean(score),4)}\n",
        "\n",
        "  return res"
      ]
    },
    {
      "cell_type": "code",
      "source": [
        "best_model = select_model(X_train_vec , y_train, depths = [5, 7, 11, 15, 20])\n"
      ],
      "metadata": {
        "id": "p_DRKo6qSIQW"
      },
      "execution_count": 144,
      "outputs": []
    },
    {
      "cell_type": "markdown",
      "metadata": {
        "id": "dAzUtwXOzpO1"
      },
      "source": [
        "## Select the model parameters with highest validation accuracy"
      ]
    },
    {
      "cell_type": "code",
      "source": [
        "entropy_result = max(best_model['entropy'].items(), key=lambda k: k[1].get('depth'))\n",
        "gini_result = max(best_model['gini'].items(), key=lambda k: k[1].get('depth'))"
      ],
      "metadata": {
        "id": "ksCJ2b0Ggf6Y"
      },
      "execution_count": 145,
      "outputs": []
    },
    {
      "cell_type": "code",
      "execution_count": 146,
      "metadata": {
        "id": "PJf-GmhK3uje"
      },
      "outputs": [],
      "source": [
        "result = []\n",
        "if entropy_result[1]['depth'] >= gini_result[1]['depth']:\n",
        "    result .append(entropy_result)\n",
        "    result.append['entropy']\n",
        "else:\n",
        "    result.append(gini_result)\n",
        "    result.append('gini')"
      ]
    },
    {
      "cell_type": "code",
      "source": [
        "depth = result[0][0]\n",
        "val_accuracy = result[0][1]['depth']\n",
        "criteria = result[1]\n",
        "val_accuracy"
      ],
      "metadata": {
        "colab": {
          "base_uri": "https://localhost:8080/"
        },
        "id": "MFj_1IoXYyHN",
        "outputId": "19f19ea8-fd76-4e70-8926-17229bd368e1"
      },
      "execution_count": 147,
      "outputs": [
        {
          "output_type": "execute_result",
          "data": {
            "text/plain": [
              "0.7868"
            ]
          },
          "metadata": {},
          "execution_count": 147
        }
      ]
    },
    {
      "cell_type": "markdown",
      "metadata": {
        "id": "k8QUJeAH4B_B"
      },
      "source": [
        "## Train the RandomForest with the parameters\n",
        "- Trains the model on the best hyper parameters\n",
        "- Predicts the test"
      ]
    },
    {
      "cell_type": "code",
      "execution_count": 148,
      "metadata": {
        "id": "uTZT4u9360f2"
      },
      "outputs": [],
      "source": [
        "# The best performing decision tree was depth 55 with gini criterion so check its confusion matrix\n",
        "best_forest = RandomForestClassifier(criterion=criteria, max_depth=depth , random_state=3040)\n",
        "best_forest = best_forest.fit(X_train_vec, y_train)\n",
        "y_test_predicted = best_forest.predict(X_test_vec)\n"
      ]
    },
    {
      "cell_type": "markdown",
      "source": [
        "### Accuracy Score"
      ],
      "metadata": {
        "id": "gh-PqSJz4GcP"
      }
    },
    {
      "cell_type": "code",
      "source": [
        "from sklearn.metrics import accuracy_score\n",
        "acc_score = accuracy_score(y_test, y_test_predicted)\n",
        "\n",
        "acc_score"
      ],
      "metadata": {
        "colab": {
          "base_uri": "https://localhost:8080/"
        },
        "id": "qE5qvA2wzsly",
        "outputId": "15ff9d93-1e08-42d9-f1b4-9dae7c5c1a55"
      },
      "execution_count": 149,
      "outputs": [
        {
          "output_type": "execute_result",
          "data": {
            "text/plain": [
              "0.7947201689545934"
            ]
          },
          "metadata": {},
          "execution_count": 149
        }
      ]
    },
    {
      "cell_type": "markdown",
      "metadata": {
        "id": "BIOIHJ5p4Jpo"
      },
      "source": [
        "## Generate a Confusion Matrix"
      ]
    },
    {
      "cell_type": "code",
      "execution_count": 151,
      "metadata": {
        "colab": {
          "base_uri": "https://localhost:8080/",
          "height": 295
        },
        "id": "aDSV2EGL685y",
        "outputId": "58731ba6-e56f-4a71-ff51-f18529bd2434"
      },
      "outputs": [
        {
          "output_type": "display_data",
          "data": {
            "text/plain": [
              "<Figure size 432x288 with 2 Axes>"
            ],
            "image/png": "[encoded data removed]"
          },
          "metadata": {
            "needs_background": "light"
          }
        }
      ],
      "source": [
        "# Generate a more visual representation of the confusion matrix\n",
        "cm = metrics.confusion_matrix(y_test, y_test_predicted, labels=best_forest.classes_)\n",
        "disp = metrics.ConfusionMatrixDisplay(confusion_matrix=cm, display_labels=['not', 'gender', 'religion', 'other', 'age', 'ethnicity'])\n",
        "disp.plot()\n",
        "fig\n",
        "plt.title(\"Confusion Matrix for Best Random Forest Classifier\")\n",
        "plt.show()"
      ]
    },
    {
      "cell_type": "code",
      "source": [],
      "metadata": {
        "id": "n-Dk0yLe4FEm"
      },
      "execution_count": null,
      "outputs": []
    }
  ],
  "metadata": {
    "colab": {
      "provenance": [],
      "include_colab_link": true
    },
    "gpuClass": "standard",
    "kernelspec": {
      "display_name": "Python 3.9.12 ('dsci572env')",
      "language": "python",
      "name": "python3"
    },
    "language_info": {
      "codemirror_mode": {
        "name": "ipython",
        "version": 3
      },
      "file_extension": ".py",
      "mimetype": "text/x-python",
      "name": "python",
      "nbconvert_exporter": "python",
      "pygments_lexer": "ipython3",
      "version": "3.9.12"
    },
    "vscode": {
      "interpreter": {
        "hash": "49c76ddf62ca98de74eedc2bb55b33e27315dcb91d5e2af2ea84b0e3308bb054"
      }
    }
  },
  "nbformat": 4,
  "nbformat_minor": 0
}