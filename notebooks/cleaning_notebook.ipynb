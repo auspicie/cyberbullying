{
  "cells": [
    {
      "cell_type": "markdown",
      "metadata": {
        "id": "view-in-github",
        "colab_type": "text"
      },
      "source": [
        "<a href=\"https://colab.research.google.com/github/thayeylolu/cyberbullying/blob/main/notebooks/cleaning_notebook.ipynb\" target=\"_parent\"><img src=\"https://colab.research.google.com/assets/colab-badge.svg\" alt=\"Open In Colab\"/></a>"
      ]
    },
    {
      "cell_type": "markdown",
      "source": [],
      "metadata": {
        "id": "BNsQfVrY7kfe"
      }
    },
    {
      "cell_type": "code",
      "source": [
        "! pip install demoji"
      ],
      "metadata": {
        "id": "GlP1qVwz7jyx",
        "colab": {
          "base_uri": "https://localhost:8080/"
        },
        "outputId": "42200e31-2cd9-4bd2-f094-18fc95c7a6c4"
      },
      "execution_count": 17,
      "outputs": [
        {
          "output_type": "stream",
          "name": "stdout",
          "text": [
            "Looking in indexes: https://pypi.org/simple, https://us-python.pkg.dev/colab-wheels/public/simple/\n",
            "Requirement already satisfied: demoji in /usr/local/lib/python3.7/dist-packages (1.1.0)\n"
          ]
        }
      ]
    },
    {
      "cell_type": "markdown",
      "source": [
        "## Import Libaries"
      ],
      "metadata": {
        "id": "QsX2yWyt7lw_"
      }
    },
    {
      "cell_type": "code",
      "execution_count": 18,
      "metadata": {
        "id": "sEWxlmuyJjKm",
        "colab": {
          "base_uri": "https://localhost:8080/"
        },
        "outputId": "ae53c726-765b-49d6-a6e3-5b5fc52bb0c4"
      },
      "outputs": [
        {
          "output_type": "stream",
          "name": "stderr",
          "text": [
            "[nltk_data] Downloading package stopwords to /root/nltk_data...\n",
            "[nltk_data]   Package stopwords is already up-to-date!\n"
          ]
        }
      ],
      "source": [
        "# importing libraries\n",
        "\n",
        "import demoji\n",
        "import json\n",
        "import pandas as pd\n",
        "import re, nltk\n",
        "import warnings\n",
        "\n",
        "from nltk.tokenize import word_tokenize\n",
        "from nltk import word_tokenize\n",
        "from nltk.corpus import stopwords\n",
        "\n",
        "nltk.download('stopwords')\n",
        "nltk.download('punkt')\n",
        "stop_word = stopwords.words('english')\n",
        "warnings.filterwarnings(action=\"ignore\")\n"
      ]
    },
    {
      "cell_type": "markdown",
      "source": [
        "### Mount Drive"
      ],
      "metadata": {
        "id": "tJ1TaeFRst0M"
      }
    },
    {
      "cell_type": "code",
      "source": [],
      "metadata": {
        "id": "liXijqHkstN7"
      },
      "execution_count": 18,
      "outputs": []
    },
    {
      "cell_type": "code",
      "source": [
        "from google.colab import drive\n",
        "drive.mount('/drive')"
      ],
      "metadata": {
        "colab": {
          "base_uri": "https://localhost:8080/"
        },
        "id": "v3IesQgcsqoD",
        "outputId": "fd743901-e08f-43ec-9d05-26d782b3b50a"
      },
      "execution_count": 19,
      "outputs": [
        {
          "output_type": "stream",
          "name": "stdout",
          "text": [
            "Drive already mounted at /drive; to attempt to forcibly remount, call drive.mount(\"/drive\", force_remount=True).\n"
          ]
        }
      ]
    },
    {
      "cell_type": "markdown",
      "source": [
        "## Read CSV"
      ],
      "metadata": {
        "id": "v3-y37G87prR"
      }
    },
    {
      "cell_type": "code",
      "execution_count": 20,
      "metadata": {
        "id": "rgfeyPIXJjK4",
        "outputId": "6e65b79c-4830-4b40-ac75-167c4700b092",
        "colab": {
          "base_uri": "https://localhost:8080/",
          "height": 206
        }
      },
      "outputs": [
        {
          "output_type": "execute_result",
          "data": {
            "text/plain": [
              "                                          tweet_text cyberbullying_type\n",
              "0  In other words #katandandre, your food was cra...  not_cyberbullying\n",
              "1  Why is #aussietv so white? #MKR #theblock #ImA...  not_cyberbullying\n",
              "2  @XochitlSuckkks a classy whore? Or more red ve...  not_cyberbullying\n",
              "3  @Jason_Gio meh. :P  thanks for the heads up, b...  not_cyberbullying\n",
              "4  @RudhoeEnglish This is an ISIS account pretend...  not_cyberbullying"
            ],
            "text/html": [
              "\n",
              "  <div id=\"df-cbb6e797-64fb-4674-aebb-9799e58cbba0\">\n",
              "    <div class=\"colab-df-container\">\n",
              "      <div>\n",
              "<style scoped>\n",
              "    .dataframe tbody tr th:only-of-type {\n",
              "        vertical-align: middle;\n",
              "    }\n",
              "\n",
              "    .dataframe tbody tr th {\n",
              "        vertical-align: top;\n",
              "    }\n",
              "\n",
              "    .dataframe thead th {\n",
              "        text-align: right;\n",
              "    }\n",
              "</style>\n",
              "<table border=\"1\" class=\"dataframe\">\n",
              "  <thead>\n",
              "    <tr style=\"text-align: right;\">\n",
              "      <th></th>\n",
              "      <th>tweet_text</th>\n",
              "      <th>cyberbullying_type</th>\n",
              "    </tr>\n",
              "  </thead>\n",
              "  <tbody>\n",
              "    <tr>\n",
              "      <th>0</th>\n",
              "      <td>In other words #katandandre, your food was cra...</td>\n",
              "      <td>not_cyberbullying</td>\n",
              "    </tr>\n",
              "    <tr>\n",
              "      <th>1</th>\n",
              "      <td>Why is #aussietv so white? #MKR #theblock #ImA...</td>\n",
              "      <td>not_cyberbullying</td>\n",
              "    </tr>\n",
              "    <tr>\n",
              "      <th>2</th>\n",
              "      <td>@XochitlSuckkks a classy whore? Or more red ve...</td>\n",
              "      <td>not_cyberbullying</td>\n",
              "    </tr>\n",
              "    <tr>\n",
              "      <th>3</th>\n",
              "      <td>@Jason_Gio meh. :P  thanks for the heads up, b...</td>\n",
              "      <td>not_cyberbullying</td>\n",
              "    </tr>\n",
              "    <tr>\n",
              "      <th>4</th>\n",
              "      <td>@RudhoeEnglish This is an ISIS account pretend...</td>\n",
              "      <td>not_cyberbullying</td>\n",
              "    </tr>\n",
              "  </tbody>\n",
              "</table>\n",
              "</div>\n",
              "      <button class=\"colab-df-convert\" onclick=\"convertToInteractive('df-cbb6e797-64fb-4674-aebb-9799e58cbba0')\"\n",
              "              title=\"Convert this dataframe to an interactive table.\"\n",
              "              style=\"display:none;\">\n",
              "        \n",
              "  <svg xmlns=\"http://www.w3.org/2000/svg\" height=\"24px\"viewBox=\"0 0 24 24\"\n",
              "       width=\"24px\">\n",
              "    <path d=\"M0 0h24v24H0V0z\" fill=\"none\"/>\n",
              "    <path d=\"M18.56 5.44l.94 2.06.94-2.06 2.06-.94-2.06-.94-.94-2.06-.94 2.06-2.06.94zm-11 1L8.5 8.5l.94-2.06 2.06-.94-2.06-.94L8.5 2.5l-.94 2.06-2.06.94zm10 10l.94 2.06.94-2.06 2.06-.94-2.06-.94-.94-2.06-.94 2.06-2.06.94z\"/><path d=\"M17.41 7.96l-1.37-1.37c-.4-.4-.92-.59-1.43-.59-.52 0-1.04.2-1.43.59L10.3 9.45l-7.72 7.72c-.78.78-.78 2.05 0 2.83L4 21.41c.39.39.9.59 1.41.59.51 0 1.02-.2 1.41-.59l7.78-7.78 2.81-2.81c.8-.78.8-2.07 0-2.86zM5.41 20L4 18.59l7.72-7.72 1.47 1.35L5.41 20z\"/>\n",
              "  </svg>\n",
              "      </button>\n",
              "      \n",
              "  <style>\n",
              "    .colab-df-container {\n",
              "      display:flex;\n",
              "      flex-wrap:wrap;\n",
              "      gap: 12px;\n",
              "    }\n",
              "\n",
              "    .colab-df-convert {\n",
              "      background-color: #E8F0FE;\n",
              "      border: none;\n",
              "      border-radius: 50%;\n",
              "      cursor: pointer;\n",
              "      display: none;\n",
              "      fill: #1967D2;\n",
              "      height: 32px;\n",
              "      padding: 0 0 0 0;\n",
              "      width: 32px;\n",
              "    }\n",
              "\n",
              "    .colab-df-convert:hover {\n",
              "      background-color: #E2EBFA;\n",
              "      box-shadow: 0px 1px 2px rgba(60, 64, 67, 0.3), 0px 1px 3px 1px rgba(60, 64, 67, 0.15);\n",
              "      fill: #174EA6;\n",
              "    }\n",
              "\n",
              "    [theme=dark] .colab-df-convert {\n",
              "      background-color: #3B4455;\n",
              "      fill: #D2E3FC;\n",
              "    }\n",
              "\n",
              "    [theme=dark] .colab-df-convert:hover {\n",
              "      background-color: #434B5C;\n",
              "      box-shadow: 0px 1px 3px 1px rgba(0, 0, 0, 0.15);\n",
              "      filter: drop-shadow(0px 1px 2px rgba(0, 0, 0, 0.3));\n",
              "      fill: #FFFFFF;\n",
              "    }\n",
              "  </style>\n",
              "\n",
              "      <script>\n",
              "        const buttonEl =\n",
              "          document.querySelector('#df-cbb6e797-64fb-4674-aebb-9799e58cbba0 button.colab-df-convert');\n",
              "        buttonEl.style.display =\n",
              "          google.colab.kernel.accessAllowed ? 'block' : 'none';\n",
              "\n",
              "        async function convertToInteractive(key) {\n",
              "          const element = document.querySelector('#df-cbb6e797-64fb-4674-aebb-9799e58cbba0');\n",
              "          const dataTable =\n",
              "            await google.colab.kernel.invokeFunction('convertToInteractive',\n",
              "                                                     [key], {});\n",
              "          if (!dataTable) return;\n",
              "\n",
              "          const docLinkHtml = 'Like what you see? Visit the ' +\n",
              "            '<a target=\"_blank\" href=https://colab.research.google.com/notebooks/data_table.ipynb>data table notebook</a>'\n",
              "            + ' to learn more about interactive tables.';\n",
              "          element.innerHTML = '';\n",
              "          dataTable['output_type'] = 'display_data';\n",
              "          await google.colab.output.renderOutput(dataTable, element);\n",
              "          const docLink = document.createElement('div');\n",
              "          docLink.innerHTML = docLinkHtml;\n",
              "          element.appendChild(docLink);\n",
              "        }\n",
              "      </script>\n",
              "    </div>\n",
              "  </div>\n",
              "  "
            ]
          },
          "metadata": {},
          "execution_count": 20
        }
      ],
      "source": [
        "url = \"/drive/MyDrive/NLP/cyberbullying_tweets.csv\"\n",
        "df = pd.read_csv(url)\n",
        "df.head()"
      ]
    },
    {
      "cell_type": "markdown",
      "source": [
        "## Checkin Unique Classes"
      ],
      "metadata": {
        "id": "p1gXiy-J7slI"
      }
    },
    {
      "cell_type": "code",
      "execution_count": 21,
      "metadata": {
        "id": "NOmBjTrXJjK9",
        "outputId": "8b47a8ad-f501-410a-b9fb-04555d8f3271",
        "colab": {
          "base_uri": "https://localhost:8080/"
        }
      },
      "outputs": [
        {
          "output_type": "execute_result",
          "data": {
            "text/plain": [
              "array(['not_cyberbullying', 'gender', 'religion', 'other_cyberbullying',\n",
              "       'age', 'ethnicity'], dtype=object)"
            ]
          },
          "metadata": {},
          "execution_count": 21
        }
      ],
      "source": [
        "df['cyberbullying_type'].unique()"
      ]
    },
    {
      "cell_type": "markdown",
      "metadata": {
        "id": "VHUNU96xJjLB"
      },
      "source": [
        "## data cleaning steps\n",
        "\n",
        "- do eda on all the datzset \n",
        "- replace emojis with word\n",
        "- keep hastags, but remove # \n",
        "- remove usernames \n",
        "- remove punctuation\n",
        "- remove stop words and two letter words\n",
        "- tokenize\n",
        "\n",
        "\n",
        "- find profanity words using word2vec or not <>\n",
        "- add more words to the list of profanity???\n",
        "- remove non english words\n",
        "- contraction \n"
      ]
    },
    {
      "cell_type": "markdown",
      "source": [
        "## List of possibel contractions in english\n",
        "- Sourced from  https://gist.github.com/MLWhiz/a603656c482ce13f3f2affc1d35f287d"
      ],
      "metadata": {
        "id": "FyBw2BYQ7x4M"
      }
    },
    {
      "cell_type": "code",
      "execution_count": 22,
      "metadata": {
        "id": "dtWKNbSuJjLF"
      },
      "outputs": [],
      "source": [
        "# refernce : https://gist.github.com/MLWhiz/a603656c482ce13f3f2affc1d35f287d\n",
        "\n",
        "contraction_dict = {\"ain't\": \"is not\", \"aren't\": \"are not\",\"can't\": \"cannot\", \"'cause\": \"because\", \"could've\": \"could have\", \"couldn't\": \"could not\", \"didn't\": \"did not\",  \"doesn't\": \"does not\", \"don't\": \"do not\", \"hadn't\": \"had not\", \"hasn't\": \"has not\", \"haven't\": \"have not\", \"he'd\": \"he would\",\"he'll\": \"he will\", \"he's\": \"he is\", \"how'd\": \"how did\", \"how'd'y\": \"how do you\", \"how'll\": \"how will\", \"how's\": \"how is\",  \"I'd\": \"I would\", \"I'd've\": \"I would have\", \"I'll\": \"I will\", \"I'll've\": \"I will have\",\"I'm\": \"I am\", \"I've\": \"I have\", \"i'd\": \"i would\", \"i'd've\": \"i would have\", \"i'll\": \"i will\",  \"i'll've\": \"i will have\",\"i'm\": \"i am\", \"i've\": \"i have\", \"isn't\": \"is not\", \"it'd\": \"it would\", \"it'd've\": \"it would have\", \"it'll\": \"it will\", \"it'll've\": \"it will have\",\"it's\": \"it is\", \"let's\": \"let us\", \"ma'am\": \"madam\", \"mayn't\": \"may not\", \"might've\": \"might have\",\"mightn't\": \"might not\",\"mightn't've\": \"might not have\", \"must've\": \"must have\", \"mustn't\": \"must not\", \"mustn't've\": \"must not have\", \"needn't\": \"need not\", \"needn't've\": \"need not have\",\"o'clock\": \"of the clock\", \"oughtn't\": \"ought not\", \"oughtn't've\": \"ought not have\", \"shan't\": \"shall not\", \"sha'n't\": \"shall not\", \"shan't've\": \"shall not have\", \"she'd\": \"she would\", \"she'd've\": \"she would have\", \"she'll\": \"she will\", \"she'll've\": \"she will have\", \"she's\": \"she is\", \"should've\": \"should have\", \"shouldn't\": \"should not\", \"shouldn't've\": \"should not have\", \"so've\": \"so have\",\"so's\": \"so as\", \"this's\": \"this is\",\"that'd\": \"that would\", \"that'd've\": \"that would have\", \"that's\": \"that is\", \"there'd\": \"there would\", \"there'd've\": \"there would have\", \"there's\": \"there is\", \"here's\": \"here is\",\"they'd\": \"they would\", \"they'd've\": \"they would have\", \"they'll\": \"they will\", \"they'll've\": \"they will have\", \"they're\": \"they are\", \"they've\": \"they have\", \"to've\": \"to have\", \"wasn't\": \"was not\", \"we'd\": \"we would\", \"we'd've\": \"we would have\", \"we'll\": \"we will\", \"we'll've\": \"we will have\", \"we're\": \"we are\", \"we've\": \"we have\", \"weren't\": \"were not\", \"what'll\": \"what will\", \"what'll've\": \"what will have\", \"what're\": \"what are\",  \"what's\": \"what is\", \"what've\": \"what have\", \"when's\": \"when is\", \"when've\": \"when have\", \"where'd\": \"where did\", \"where's\": \"where is\", \"where've\": \"where have\", \"who'll\": \"who will\", \"who'll've\": \"who will have\", \"who's\": \"who is\", \"who've\": \"who have\", \"why's\": \"why is\", \"why've\": \"why have\", \"will've\": \"will have\", \"won't\": \"will not\", \"won't've\": \"will not have\", \"would've\": \"would have\", \"wouldn't\": \"would not\", \"wouldn't've\": \"would not have\", \"y'all\": \"you all\", \"y'all'd\": \"you all would\",\"y'all'd've\": \"you all would have\",\"y'all're\": \"you all are\",\"y'all've\": \"you all have\",\"you'd\": \"you would\", \"you'd've\": \"you would have\", \"you'll\": \"you will\", \"you'll've\": \"you will have\", \"you're\": \"you are\", \"you've\": \"you have\"}\n"
      ]
    },
    {
      "cell_type": "markdown",
      "source": [
        "## Replace contraction with  the full word\n",
        "\n",
        "Example: \n",
        "\n",
        "```python\n",
        "replace_contractions(\"this's a text with contraction\")\n",
        ">>> 'this is a text with contraction'\n",
        "```\n"
      ],
      "metadata": {
        "id": "s_uvS_s18UwY"
      }
    },
    {
      "cell_type": "code",
      "execution_count": 23,
      "metadata": {
        "id": "V-w2Ml0fJjLI"
      },
      "outputs": [],
      "source": [
        "def _get_contractions(contraction_dict):\n",
        "    contraction_re = re.compile('(%s)' % '|'.join(contraction_dict.keys()))\n",
        "    return contraction_dict, contraction_re\n",
        "contractions, contractions_re = _get_contractions(contraction_dict)\n",
        "\n",
        "def replace_contractions(text):\n",
        "    def replace(match):\n",
        "        return contractions[match.group(0)]\n",
        "    return contractions_re.sub(replace, text)\n",
        "    "
      ]
    },
    {
      "cell_type": "markdown",
      "source": [
        "### Cleaning Function\n",
        "- Load Profanity Data sourced from  https://github.com/zacanger/profane-words/blob/master/words.json"
      ],
      "metadata": {
        "id": "YrlZ_Leg9Dum"
      }
    },
    {
      "cell_type": "code",
      "execution_count": 24,
      "metadata": {
        "id": "v6WnpZJEJjLM"
      },
      "outputs": [],
      "source": [
        "def super_clean(df):\n",
        "    profanity_url = \"/drive/MyDrive/NLP/profanity_list.json\"\n",
        "\n",
        "    # Opening JSON file\n",
        "    f = open(profanity_url) \n",
        "    profanity_data = json.load(f)\n",
        "\n",
        "    # extract emojis\n",
        "    def extract_emoji(txt):\n",
        "        emoji_txt = demoji.findall(txt)\n",
        "        emoji_keys = emoji_txt.keys()\n",
        "        emoji_values = emoji_txt.values()\n",
        "        return  ' '.join(list(map(str, emoji_keys))), ' '.join(list(map(str, emoji_values)))\n",
        "\n",
        "    # extract hashtags\n",
        "    def hashtags(txt):\n",
        "        txt = re.findall(\"#([a-zA-Z0-9_]{1,50})\", txt)\n",
        "        return ' '.join(list(map(str, txt)))\n",
        "    \n",
        "    # extract mentions\n",
        "    def mentions(txt):\n",
        "        txt = re.findall(\"@([a-zA-Z0-9_]{1,50})\", txt)\n",
        "        return ' '.join(list(map(str, txt)))\n",
        "\n",
        "    # lookup profanity manually\n",
        "    def find_profanity(text):\n",
        "        profanity_set = set() \n",
        "        for word in text.split(): \n",
        "            if word in profanity_data:\n",
        "                profanity_set.add(word)\n",
        "        return ' '.join(list(map(str, profanity_set)))\n",
        "\n",
        "      \n",
        "    df['profanity_list'] = df['tweet_text'].apply(lambda x: find_profanity(x)) # get curse words\n",
        "    df['hashtags'] = df['tweet_text'].apply(lambda x: hashtags(x)) # get hashtags\n",
        "    df['mentions'] = df['tweet_text'].apply(lambda x: mentions(x)) # get mentions\n",
        "    df['emoji_names'] =  df['tweet_text'].apply(lambda x:extract_emoji(x)[1]) # get names of emojis\n",
        "\n",
        "    \n",
        "    df['clean_txt'] = df['tweet_text'].apply(lambda x: replace_contractions(x)) # replace contraction\n",
        "    df['clean_txt'] = df['clean_txt'].apply(lambda x: ' '.join(word for word in x.split() if word not in stop_word or len(word) > 2)) # remove stopwords\n",
        "    df['clean_txt'] =  df['clean_txt'].apply(lambda x: re.sub(\"@[A-Za-z0-9_]+\",\"\", x)) # mentions\n",
        "    df['clean_txt'] =  df['clean_txt'].apply(lambda x: re.sub(\"#[A-Za-z0-9_]+\",\"\", x)) # remove hashtags\n",
        "\n",
        "    df['clean_txt_emoji'] =   df['clean_txt'] + \" \" + df['emoji_names'] # add emoji as text to tweet\n",
        "    df['clean_txt_emoji'] =  df['clean_txt_emoji'].str.lower() # to lower case\n",
        "    df['clean_txt_emoji'] = df['clean_txt_emoji'].apply(lambda x: re.sub(r\"http\\S+\", \"\", x)) # remove links\n",
        "    df['clean_txt_emoji'] =   df['clean_txt_emoji']+ \" \" + df['hashtags'] # add hashtags as text to tweet\n",
        "    df['clean_txt_emoji'] = df['clean_txt_emoji'].str.replace(\"[^a-zA-Z#]\", \" \") # punctuation\n",
        "    df['clean_txt_emoji'] = df['clean_txt_emoji'].apply(lambda x: ' '.join(word for word in x.split() if len(word) > 2)) #remove stop words AGAIN\n",
        "   \n",
        "    df['clean_txt_emoji'] = df['clean_txt_emoji'].str.strip() # rmeove white space\n",
        "    df['tokenized'] = df['clean_txt_emoji'].apply(word_tokenize) # tokenize\n",
        "   \n",
        "    return df\n"
      ]
    },
    {
      "cell_type": "markdown",
      "source": [
        "## Run cleaning Function"
      ],
      "metadata": {
        "id": "dAkH9Lo1-6Or"
      }
    },
    {
      "cell_type": "code",
      "execution_count": 27,
      "metadata": {
        "id": "WcuTFjaJJjLP"
      },
      "outputs": [],
      "source": [
        "# cleaning_time < 5 minutes\n",
        "clean_df = super_clean(df)\n"
      ]
    },
    {
      "cell_type": "markdown",
      "source": [
        "Save `clean_txt_emoji` and `cyberbullying_type` in a new dataframe called `train_df`"
      ],
      "metadata": {
        "id": "kj28C01U_AVr"
      }
    },
    {
      "cell_type": "code",
      "execution_count": 28,
      "metadata": {
        "id": "jhOBjXUTJjLQ"
      },
      "outputs": [],
      "source": [
        "train_df = clean_df[['clean_txt_emoji', 'cyberbullying_type']]"
      ]
    },
    {
      "cell_type": "markdown",
      "metadata": {
        "id": "LQbSEu4CJjLR"
      },
      "source": [
        "### After cleaning \n"
      ]
    },
    {
      "cell_type": "code",
      "execution_count": 29,
      "metadata": {
        "id": "MVhCWk0vJjLT",
        "outputId": "8d7cb646-3459-4494-8e5f-58609e51d55e",
        "colab": {
          "base_uri": "https://localhost:8080/",
          "height": 358
        }
      },
      "outputs": [
        {
          "output_type": "execute_result",
          "data": {
            "text/plain": [
              "                                              tweet_text   cyberbullying_type  \\\n",
              "47281  “@tedddydgaf: I hate niggers .” You sound dumb...            ethnicity   \n",
              "28383  RT @gater_ebooks: Just trying to make people I...  other_cyberbullying   \n",
              "7500   Bullying e otimo!... Apartir do momento que nã...    not_cyberbullying   \n",
              "28303  RT @DearIsamar_: *inserts boring ass halo eye ...  other_cyberbullying   \n",
              "\n",
              "      profanity_list hashtags      mentions emoji_names  \\\n",
              "47281        niggers             tedddydgaf               \n",
              "28383                          gater_ebooks               \n",
              "7500                                                      \n",
              "28303            ass            DearIsamar_               \n",
              "\n",
              "                                               clean_txt  \\\n",
              "47281          “: I hate niggers .” You sound dumb fuck.   \n",
              "28383  RT : Just trying make people I care about gend...   \n",
              "7500   Bullying e otimo!... Apartir momento que não e...   \n",
              "28303  RT : *inserts boring ass halo eye look the TL ...   \n",
              "\n",
              "                                         clean_txt_emoji  \\\n",
              "47281                   hate niggers you sound dumb fuck   \n",
              "28383    just trying make people care about gender fluid   \n",
              "7500   bullying otimo apartir momento que praticado c...   \n",
              "28303               inserts boring ass halo eye look the   \n",
              "\n",
              "                                               tokenized  \n",
              "47281            [hate, niggers, you, sound, dumb, fuck]  \n",
              "28383  [just, trying, make, people, care, about, gend...  \n",
              "7500   [bullying, otimo, apartir, momento, que, prati...  \n",
              "28303       [inserts, boring, ass, halo, eye, look, the]  "
            ],
            "text/html": [
              "\n",
              "  <div id=\"df-26f2e6a6-ab15-4ef9-942e-805d9bd7f92e\">\n",
              "    <div class=\"colab-df-container\">\n",
              "      <div>\n",
              "<style scoped>\n",
              "    .dataframe tbody tr th:only-of-type {\n",
              "        vertical-align: middle;\n",
              "    }\n",
              "\n",
              "    .dataframe tbody tr th {\n",
              "        vertical-align: top;\n",
              "    }\n",
              "\n",
              "    .dataframe thead th {\n",
              "        text-align: right;\n",
              "    }\n",
              "</style>\n",
              "<table border=\"1\" class=\"dataframe\">\n",
              "  <thead>\n",
              "    <tr style=\"text-align: right;\">\n",
              "      <th></th>\n",
              "      <th>tweet_text</th>\n",
              "      <th>cyberbullying_type</th>\n",
              "      <th>profanity_list</th>\n",
              "      <th>hashtags</th>\n",
              "      <th>mentions</th>\n",
              "      <th>emoji_names</th>\n",
              "      <th>clean_txt</th>\n",
              "      <th>clean_txt_emoji</th>\n",
              "      <th>tokenized</th>\n",
              "    </tr>\n",
              "  </thead>\n",
              "  <tbody>\n",
              "    <tr>\n",
              "      <th>47281</th>\n",
              "      <td>“@tedddydgaf: I hate niggers .” You sound dumb...</td>\n",
              "      <td>ethnicity</td>\n",
              "      <td>niggers</td>\n",
              "      <td></td>\n",
              "      <td>tedddydgaf</td>\n",
              "      <td></td>\n",
              "      <td>“: I hate niggers .” You sound dumb fuck.</td>\n",
              "      <td>hate niggers you sound dumb fuck</td>\n",
              "      <td>[hate, niggers, you, sound, dumb, fuck]</td>\n",
              "    </tr>\n",
              "    <tr>\n",
              "      <th>28383</th>\n",
              "      <td>RT @gater_ebooks: Just trying to make people I...</td>\n",
              "      <td>other_cyberbullying</td>\n",
              "      <td></td>\n",
              "      <td></td>\n",
              "      <td>gater_ebooks</td>\n",
              "      <td></td>\n",
              "      <td>RT : Just trying make people I care about gend...</td>\n",
              "      <td>just trying make people care about gender fluid</td>\n",
              "      <td>[just, trying, make, people, care, about, gend...</td>\n",
              "    </tr>\n",
              "    <tr>\n",
              "      <th>7500</th>\n",
              "      <td>Bullying e otimo!... Apartir do momento que nã...</td>\n",
              "      <td>not_cyberbullying</td>\n",
              "      <td></td>\n",
              "      <td></td>\n",
              "      <td></td>\n",
              "      <td></td>\n",
              "      <td>Bullying e otimo!... Apartir momento que não e...</td>\n",
              "      <td>bullying otimo apartir momento que praticado c...</td>\n",
              "      <td>[bullying, otimo, apartir, momento, que, prati...</td>\n",
              "    </tr>\n",
              "    <tr>\n",
              "      <th>28303</th>\n",
              "      <td>RT @DearIsamar_: *inserts boring ass halo eye ...</td>\n",
              "      <td>other_cyberbullying</td>\n",
              "      <td>ass</td>\n",
              "      <td></td>\n",
              "      <td>DearIsamar_</td>\n",
              "      <td></td>\n",
              "      <td>RT : *inserts boring ass halo eye look the TL ...</td>\n",
              "      <td>inserts boring ass halo eye look the</td>\n",
              "      <td>[inserts, boring, ass, halo, eye, look, the]</td>\n",
              "    </tr>\n",
              "  </tbody>\n",
              "</table>\n",
              "</div>\n",
              "      <button class=\"colab-df-convert\" onclick=\"convertToInteractive('df-26f2e6a6-ab15-4ef9-942e-805d9bd7f92e')\"\n",
              "              title=\"Convert this dataframe to an interactive table.\"\n",
              "              style=\"display:none;\">\n",
              "        \n",
              "  <svg xmlns=\"http://www.w3.org/2000/svg\" height=\"24px\"viewBox=\"0 0 24 24\"\n",
              "       width=\"24px\">\n",
              "    <path d=\"M0 0h24v24H0V0z\" fill=\"none\"/>\n",
              "    <path d=\"M18.56 5.44l.94 2.06.94-2.06 2.06-.94-2.06-.94-.94-2.06-.94 2.06-2.06.94zm-11 1L8.5 8.5l.94-2.06 2.06-.94-2.06-.94L8.5 2.5l-.94 2.06-2.06.94zm10 10l.94 2.06.94-2.06 2.06-.94-2.06-.94-.94-2.06-.94 2.06-2.06.94z\"/><path d=\"M17.41 7.96l-1.37-1.37c-.4-.4-.92-.59-1.43-.59-.52 0-1.04.2-1.43.59L10.3 9.45l-7.72 7.72c-.78.78-.78 2.05 0 2.83L4 21.41c.39.39.9.59 1.41.59.51 0 1.02-.2 1.41-.59l7.78-7.78 2.81-2.81c.8-.78.8-2.07 0-2.86zM5.41 20L4 18.59l7.72-7.72 1.47 1.35L5.41 20z\"/>\n",
              "  </svg>\n",
              "      </button>\n",
              "      \n",
              "  <style>\n",
              "    .colab-df-container {\n",
              "      display:flex;\n",
              "      flex-wrap:wrap;\n",
              "      gap: 12px;\n",
              "    }\n",
              "\n",
              "    .colab-df-convert {\n",
              "      background-color: #E8F0FE;\n",
              "      border: none;\n",
              "      border-radius: 50%;\n",
              "      cursor: pointer;\n",
              "      display: none;\n",
              "      fill: #1967D2;\n",
              "      height: 32px;\n",
              "      padding: 0 0 0 0;\n",
              "      width: 32px;\n",
              "    }\n",
              "\n",
              "    .colab-df-convert:hover {\n",
              "      background-color: #E2EBFA;\n",
              "      box-shadow: 0px 1px 2px rgba(60, 64, 67, 0.3), 0px 1px 3px 1px rgba(60, 64, 67, 0.15);\n",
              "      fill: #174EA6;\n",
              "    }\n",
              "\n",
              "    [theme=dark] .colab-df-convert {\n",
              "      background-color: #3B4455;\n",
              "      fill: #D2E3FC;\n",
              "    }\n",
              "\n",
              "    [theme=dark] .colab-df-convert:hover {\n",
              "      background-color: #434B5C;\n",
              "      box-shadow: 0px 1px 3px 1px rgba(0, 0, 0, 0.15);\n",
              "      filter: drop-shadow(0px 1px 2px rgba(0, 0, 0, 0.3));\n",
              "      fill: #FFFFFF;\n",
              "    }\n",
              "  </style>\n",
              "\n",
              "      <script>\n",
              "        const buttonEl =\n",
              "          document.querySelector('#df-26f2e6a6-ab15-4ef9-942e-805d9bd7f92e button.colab-df-convert');\n",
              "        buttonEl.style.display =\n",
              "          google.colab.kernel.accessAllowed ? 'block' : 'none';\n",
              "\n",
              "        async function convertToInteractive(key) {\n",
              "          const element = document.querySelector('#df-26f2e6a6-ab15-4ef9-942e-805d9bd7f92e');\n",
              "          const dataTable =\n",
              "            await google.colab.kernel.invokeFunction('convertToInteractive',\n",
              "                                                     [key], {});\n",
              "          if (!dataTable) return;\n",
              "\n",
              "          const docLinkHtml = 'Like what you see? Visit the ' +\n",
              "            '<a target=\"_blank\" href=https://colab.research.google.com/notebooks/data_table.ipynb>data table notebook</a>'\n",
              "            + ' to learn more about interactive tables.';\n",
              "          element.innerHTML = '';\n",
              "          dataTable['output_type'] = 'display_data';\n",
              "          await google.colab.output.renderOutput(dataTable, element);\n",
              "          const docLink = document.createElement('div');\n",
              "          docLink.innerHTML = docLinkHtml;\n",
              "          element.appendChild(docLink);\n",
              "        }\n",
              "      </script>\n",
              "    </div>\n",
              "  </div>\n",
              "  "
            ]
          },
          "metadata": {},
          "execution_count": 29
        }
      ],
      "source": [
        "clean_df.sample(4)"
      ]
    },
    {
      "cell_type": "markdown",
      "source": [
        "### Save cleaned dataset and train dataset"
      ],
      "metadata": {
        "id": "L76YOkzt_dDU"
      }
    },
    {
      "cell_type": "code",
      "execution_count": 30,
      "metadata": {
        "id": "97NOo-srJjLb"
      },
      "outputs": [],
      "source": [
        "\n",
        "clean_df.to_csv(\"clean_df.csv\")\n"
      ]
    },
    {
      "cell_type": "code",
      "execution_count": 31,
      "metadata": {
        "id": "nYMxwpwSJjLd"
      },
      "outputs": [],
      "source": [
        "train_df.to_csv(\"train_data.csv\")"
      ]
    },
    {
      "cell_type": "code",
      "execution_count": 32,
      "metadata": {
        "id": "dfHUX9F-JjLg",
        "outputId": "8de7b802-0ee7-4a8a-cefd-922226cb39b7",
        "colab": {
          "base_uri": "https://localhost:8080/",
          "height": 363
        }
      },
      "outputs": [
        {
          "output_type": "execute_result",
          "data": {
            "text/plain": [
              "                                         clean_txt_emoji   cyberbullying_type\n",
              "8305   dave chapelle offensive you not like rape anti...               gender\n",
              "41241  sooo this fuck nigger still leaves the house w...            ethnicity\n",
              "47170  dumb nigger just repeated what said fuck you a...            ethnicity\n",
              "7309   bullying victims fight back with help from bra...    not_cyberbullying\n",
              "21505  idiot you who play muslim muslim game since yo...             religion\n",
              "32566  the exact same writing every girl who bullied ...                  age\n",
              "10200  twinkle twinkle little bitch close your legs s...               gender\n",
              "24674                                          that face  other_cyberbullying\n",
              "3602   envious your education knowing how interpret s...    not_cyberbullying\n",
              "19247  such death destruction always accompanies jiha...             religion"
            ],
            "text/html": [
              "\n",
              "  <div id=\"df-8451b60e-a15a-45f0-84fe-19251afc1507\">\n",
              "    <div class=\"colab-df-container\">\n",
              "      <div>\n",
              "<style scoped>\n",
              "    .dataframe tbody tr th:only-of-type {\n",
              "        vertical-align: middle;\n",
              "    }\n",
              "\n",
              "    .dataframe tbody tr th {\n",
              "        vertical-align: top;\n",
              "    }\n",
              "\n",
              "    .dataframe thead th {\n",
              "        text-align: right;\n",
              "    }\n",
              "</style>\n",
              "<table border=\"1\" class=\"dataframe\">\n",
              "  <thead>\n",
              "    <tr style=\"text-align: right;\">\n",
              "      <th></th>\n",
              "      <th>clean_txt_emoji</th>\n",
              "      <th>cyberbullying_type</th>\n",
              "    </tr>\n",
              "  </thead>\n",
              "  <tbody>\n",
              "    <tr>\n",
              "      <th>8305</th>\n",
              "      <td>dave chapelle offensive you not like rape anti...</td>\n",
              "      <td>gender</td>\n",
              "    </tr>\n",
              "    <tr>\n",
              "      <th>41241</th>\n",
              "      <td>sooo this fuck nigger still leaves the house w...</td>\n",
              "      <td>ethnicity</td>\n",
              "    </tr>\n",
              "    <tr>\n",
              "      <th>47170</th>\n",
              "      <td>dumb nigger just repeated what said fuck you a...</td>\n",
              "      <td>ethnicity</td>\n",
              "    </tr>\n",
              "    <tr>\n",
              "      <th>7309</th>\n",
              "      <td>bullying victims fight back with help from bra...</td>\n",
              "      <td>not_cyberbullying</td>\n",
              "    </tr>\n",
              "    <tr>\n",
              "      <th>21505</th>\n",
              "      <td>idiot you who play muslim muslim game since yo...</td>\n",
              "      <td>religion</td>\n",
              "    </tr>\n",
              "    <tr>\n",
              "      <th>32566</th>\n",
              "      <td>the exact same writing every girl who bullied ...</td>\n",
              "      <td>age</td>\n",
              "    </tr>\n",
              "    <tr>\n",
              "      <th>10200</th>\n",
              "      <td>twinkle twinkle little bitch close your legs s...</td>\n",
              "      <td>gender</td>\n",
              "    </tr>\n",
              "    <tr>\n",
              "      <th>24674</th>\n",
              "      <td>that face</td>\n",
              "      <td>other_cyberbullying</td>\n",
              "    </tr>\n",
              "    <tr>\n",
              "      <th>3602</th>\n",
              "      <td>envious your education knowing how interpret s...</td>\n",
              "      <td>not_cyberbullying</td>\n",
              "    </tr>\n",
              "    <tr>\n",
              "      <th>19247</th>\n",
              "      <td>such death destruction always accompanies jiha...</td>\n",
              "      <td>religion</td>\n",
              "    </tr>\n",
              "  </tbody>\n",
              "</table>\n",
              "</div>\n",
              "      <button class=\"colab-df-convert\" onclick=\"convertToInteractive('df-8451b60e-a15a-45f0-84fe-19251afc1507')\"\n",
              "              title=\"Convert this dataframe to an interactive table.\"\n",
              "              style=\"display:none;\">\n",
              "        \n",
              "  <svg xmlns=\"http://www.w3.org/2000/svg\" height=\"24px\"viewBox=\"0 0 24 24\"\n",
              "       width=\"24px\">\n",
              "    <path d=\"M0 0h24v24H0V0z\" fill=\"none\"/>\n",
              "    <path d=\"M18.56 5.44l.94 2.06.94-2.06 2.06-.94-2.06-.94-.94-2.06-.94 2.06-2.06.94zm-11 1L8.5 8.5l.94-2.06 2.06-.94-2.06-.94L8.5 2.5l-.94 2.06-2.06.94zm10 10l.94 2.06.94-2.06 2.06-.94-2.06-.94-.94-2.06-.94 2.06-2.06.94z\"/><path d=\"M17.41 7.96l-1.37-1.37c-.4-.4-.92-.59-1.43-.59-.52 0-1.04.2-1.43.59L10.3 9.45l-7.72 7.72c-.78.78-.78 2.05 0 2.83L4 21.41c.39.39.9.59 1.41.59.51 0 1.02-.2 1.41-.59l7.78-7.78 2.81-2.81c.8-.78.8-2.07 0-2.86zM5.41 20L4 18.59l7.72-7.72 1.47 1.35L5.41 20z\"/>\n",
              "  </svg>\n",
              "      </button>\n",
              "      \n",
              "  <style>\n",
              "    .colab-df-container {\n",
              "      display:flex;\n",
              "      flex-wrap:wrap;\n",
              "      gap: 12px;\n",
              "    }\n",
              "\n",
              "    .colab-df-convert {\n",
              "      background-color: #E8F0FE;\n",
              "      border: none;\n",
              "      border-radius: 50%;\n",
              "      cursor: pointer;\n",
              "      display: none;\n",
              "      fill: #1967D2;\n",
              "      height: 32px;\n",
              "      padding: 0 0 0 0;\n",
              "      width: 32px;\n",
              "    }\n",
              "\n",
              "    .colab-df-convert:hover {\n",
              "      background-color: #E2EBFA;\n",
              "      box-shadow: 0px 1px 2px rgba(60, 64, 67, 0.3), 0px 1px 3px 1px rgba(60, 64, 67, 0.15);\n",
              "      fill: #174EA6;\n",
              "    }\n",
              "\n",
              "    [theme=dark] .colab-df-convert {\n",
              "      background-color: #3B4455;\n",
              "      fill: #D2E3FC;\n",
              "    }\n",
              "\n",
              "    [theme=dark] .colab-df-convert:hover {\n",
              "      background-color: #434B5C;\n",
              "      box-shadow: 0px 1px 3px 1px rgba(0, 0, 0, 0.15);\n",
              "      filter: drop-shadow(0px 1px 2px rgba(0, 0, 0, 0.3));\n",
              "      fill: #FFFFFF;\n",
              "    }\n",
              "  </style>\n",
              "\n",
              "      <script>\n",
              "        const buttonEl =\n",
              "          document.querySelector('#df-8451b60e-a15a-45f0-84fe-19251afc1507 button.colab-df-convert');\n",
              "        buttonEl.style.display =\n",
              "          google.colab.kernel.accessAllowed ? 'block' : 'none';\n",
              "\n",
              "        async function convertToInteractive(key) {\n",
              "          const element = document.querySelector('#df-8451b60e-a15a-45f0-84fe-19251afc1507');\n",
              "          const dataTable =\n",
              "            await google.colab.kernel.invokeFunction('convertToInteractive',\n",
              "                                                     [key], {});\n",
              "          if (!dataTable) return;\n",
              "\n",
              "          const docLinkHtml = 'Like what you see? Visit the ' +\n",
              "            '<a target=\"_blank\" href=https://colab.research.google.com/notebooks/data_table.ipynb>data table notebook</a>'\n",
              "            + ' to learn more about interactive tables.';\n",
              "          element.innerHTML = '';\n",
              "          dataTable['output_type'] = 'display_data';\n",
              "          await google.colab.output.renderOutput(dataTable, element);\n",
              "          const docLink = document.createElement('div');\n",
              "          docLink.innerHTML = docLinkHtml;\n",
              "          element.appendChild(docLink);\n",
              "        }\n",
              "      </script>\n",
              "    </div>\n",
              "  </div>\n",
              "  "
            ]
          },
          "metadata": {},
          "execution_count": 32
        }
      ],
      "source": [
        "train_df.sample(10)"
      ]
    }
  ],
  "metadata": {
    "kernelspec": {
      "display_name": "Python 3.9.12 ('dsci572env')",
      "language": "python",
      "name": "python3"
    },
    "language_info": {
      "codemirror_mode": {
        "name": "ipython",
        "version": 3
      },
      "file_extension": ".py",
      "mimetype": "text/x-python",
      "name": "python",
      "nbconvert_exporter": "python",
      "pygments_lexer": "ipython3",
      "version": "3.9.12"
    },
    "orig_nbformat": 4,
    "vscode": {
      "interpreter": {
        "hash": "49c76ddf62ca98de74eedc2bb55b33e27315dcb91d5e2af2ea84b0e3308bb054"
      }
    },
    "colab": {
      "provenance": [],
      "include_colab_link": true
    }
  },
  "nbformat": 4,
  "nbformat_minor": 0
}