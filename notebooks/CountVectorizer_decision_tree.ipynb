{
  "cells": [
    {
      "cell_type": "markdown",
      "metadata": {
        "colab_type": "text",
        "id": "view-in-github"
      },
      "source": [
        "<a href=\"https://colab.research.google.com/github/thayeylolu/cyberbullying/blob/main/notebooks/CountVectorizer_decision_tree.ipynb\" target=\"_parent\"><img src=\"https://colab.research.google.com/assets/colab-badge.svg\" alt=\"Open In Colab\"/></a>"
      ]
    },
    {
      "cell_type": "markdown",
      "metadata": {
        "id": "7DpQQK8I60NZ"
      },
      "source": [
        "## Import Libraries"
      ]
    },
    {
      "cell_type": "code",
      "execution_count": 11,
      "metadata": {
        "id": "nYziVIuLPWo3"
      },
      "outputs": [],
      "source": [
        "import pandas as pd\n",
        "import random\n",
        "import matplotlib.pyplot as plt\n",
        "from sklearn.tree import DecisionTreeClassifier\n",
        "from sklearn.feature_extraction.text import TfidfVectorizer\n",
        "from sklearn.model_selection import train_test_split\n",
        "from sklearn.preprocessing import LabelEncoder\n",
        "from sklearn.metrics import confusion_matrix\n",
        "from sklearn import metrics\n",
        "import numpy as np\n",
        "from sklearn.feature_extraction.text import CountVectorizer\n",
        "\n",
        "from sklearn.model_selection import (\n",
        "    cross_val_score,\n",
        "    cross_validate,\n",
        "    train_test_split,\n",
        ")\n",
        "\n",
        "%matplotlib inline"
      ]
    },
    {
      "cell_type": "markdown",
      "metadata": {
        "id": "o961VBybpKEp"
      },
      "source": [
        "## Mount Drive to connect data present in google drive"
      ]
    },
    {
      "cell_type": "code",
      "execution_count": 12,
      "metadata": {
        "colab": {
          "base_uri": "https://localhost:8080/"
        },
        "id": "BkxK4FAH1sb7",
        "outputId": "87ed62e0-1c08-4bb6-83eb-d6baac0e6767"
      },
      "outputs": [],
      "source": [
        "# from google.colab import drive\n",
        "# drive.mount('/drive')"
      ]
    },
    {
      "cell_type": "code",
      "execution_count": 13,
      "metadata": {},
      "outputs": [],
      "source": [
        "np.random.seed(3040)\n",
        "random.seed(3040)"
      ]
    },
    {
      "cell_type": "markdown",
      "metadata": {
        "id": "oosp3I-spV1y"
      },
      "source": [
        "## Read CSV "
      ]
    },
    {
      "cell_type": "code",
      "execution_count": 14,
      "metadata": {
        "id": "h-cPzULj3s3o"
      },
      "outputs": [],
      "source": [
        "url = '/drive/MyDrive//NLP/train_data.csv'\n",
        "url = \"../data/processed/train_data.csv\"\n",
        "df = pd.read_csv(url)"
      ]
    },
    {
      "cell_type": "markdown",
      "metadata": {
        "id": "FylK6culpgJq"
      },
      "source": [
        "### Load information about the Dataset and preview the 5 rows randomly"
      ]
    },
    {
      "cell_type": "code",
      "execution_count": 15,
      "metadata": {
        "colab": {
          "base_uri": "https://localhost:8080/",
          "height": 365
        },
        "id": "Me91VaUh4P2s",
        "outputId": "579147db-ef98-49ab-9f9c-d1215730830f"
      },
      "outputs": [
        {
          "name": "stdout",
          "output_type": "stream",
          "text": [
            "<class 'pandas.core.frame.DataFrame'>\n",
            "RangeIndex: 47692 entries, 0 to 47691\n",
            "Data columns (total 3 columns):\n",
            " #   Column              Non-Null Count  Dtype \n",
            "---  ------              --------------  ----- \n",
            " 0   Unnamed: 0          47692 non-null  int64 \n",
            " 1   clean_txt_emoji     47349 non-null  object\n",
            " 2   cyberbullying_type  47692 non-null  object\n",
            "dtypes: int64(1), object(2)\n",
            "memory usage: 1.1+ MB\n"
          ]
        },
        {
          "data": {
            "text/html": [
              "<div>\n",
              "<style scoped>\n",
              "    .dataframe tbody tr th:only-of-type {\n",
              "        vertical-align: middle;\n",
              "    }\n",
              "\n",
              "    .dataframe tbody tr th {\n",
              "        vertical-align: top;\n",
              "    }\n",
              "\n",
              "    .dataframe thead th {\n",
              "        text-align: right;\n",
              "    }\n",
              "</style>\n",
              "<table border=\"1\" class=\"dataframe\">\n",
              "  <thead>\n",
              "    <tr style=\"text-align: right;\">\n",
              "      <th></th>\n",
              "      <th>Unnamed: 0</th>\n",
              "      <th>clean_txt_emoji</th>\n",
              "      <th>cyberbullying_type</th>\n",
              "    </tr>\n",
              "  </thead>\n",
              "  <tbody>\n",
              "    <tr>\n",
              "      <th>0</th>\n",
              "      <td>0</td>\n",
              "      <td>other words your food was crapilicious katanda...</td>\n",
              "      <td>not_cyberbullying</td>\n",
              "    </tr>\n",
              "    <tr>\n",
              "      <th>1</th>\n",
              "      <td>1</td>\n",
              "      <td>why white aussietv MKR theblock ImACelebrityAU...</td>\n",
              "      <td>not_cyberbullying</td>\n",
              "    </tr>\n",
              "    <tr>\n",
              "      <th>2</th>\n",
              "      <td>2</td>\n",
              "      <td>classy whore more red velvet cupcakes</td>\n",
              "      <td>not_cyberbullying</td>\n",
              "    </tr>\n",
              "    <tr>\n",
              "      <th>3</th>\n",
              "      <td>3</td>\n",
              "      <td>meh thanks for the heads but not too concerned...</td>\n",
              "      <td>not_cyberbullying</td>\n",
              "    </tr>\n",
              "    <tr>\n",
              "      <th>4</th>\n",
              "      <td>4</td>\n",
              "      <td>this isis account pretending kurdish account l...</td>\n",
              "      <td>not_cyberbullying</td>\n",
              "    </tr>\n",
              "  </tbody>\n",
              "</table>\n",
              "</div>"
            ],
            "text/plain": [
              "   Unnamed: 0                                    clean_txt_emoji  \\\n",
              "0           0  other words your food was crapilicious katanda...   \n",
              "1           1  why white aussietv MKR theblock ImACelebrityAU...   \n",
              "2           2              classy whore more red velvet cupcakes   \n",
              "3           3  meh thanks for the heads but not too concerned...   \n",
              "4           4  this isis account pretending kurdish account l...   \n",
              "\n",
              "  cyberbullying_type  \n",
              "0  not_cyberbullying  \n",
              "1  not_cyberbullying  \n",
              "2  not_cyberbullying  \n",
              "3  not_cyberbullying  \n",
              "4  not_cyberbullying  "
            ]
          },
          "execution_count": 15,
          "metadata": {},
          "output_type": "execute_result"
        }
      ],
      "source": [
        "df.info()\n",
        "df.sample(5)"
      ]
    },
    {
      "cell_type": "markdown",
      "metadata": {
        "id": "O9GZZRuaprRA"
      },
      "source": [
        "### Data Cleaning\n",
        "\n",
        "- Strip white spaces in the `clean_txt_emoji` column \n",
        "- Drop empty rows and `Unnamed: 0` column\n",
        "- Select `cyberbullying_type` and `clean_txt_emoji`\n",
        "- Split the data into test , validate and train dataset that and set a random state for the split\n",
        "- Check the value count for each classes"
      ]
    },
    {
      "cell_type": "code",
      "execution_count": 16,
      "metadata": {},
      "outputs": [
        {
          "data": {
            "text/html": [
              "<div>\n",
              "<style scoped>\n",
              "    .dataframe tbody tr th:only-of-type {\n",
              "        vertical-align: middle;\n",
              "    }\n",
              "\n",
              "    .dataframe tbody tr th {\n",
              "        vertical-align: top;\n",
              "    }\n",
              "\n",
              "    .dataframe thead th {\n",
              "        text-align: right;\n",
              "    }\n",
              "</style>\n",
              "<table border=\"1\" class=\"dataframe\">\n",
              "  <thead>\n",
              "    <tr style=\"text-align: right;\">\n",
              "      <th></th>\n",
              "      <th>Unnamed: 0</th>\n",
              "      <th>clean_txt_emoji</th>\n",
              "      <th>cyberbullying_type</th>\n",
              "    </tr>\n",
              "  </thead>\n",
              "  <tbody>\n",
              "    <tr>\n",
              "      <th>0</th>\n",
              "      <td>0</td>\n",
              "      <td>other words your food was crapilicious katanda...</td>\n",
              "      <td>not_cyberbullying</td>\n",
              "    </tr>\n",
              "    <tr>\n",
              "      <th>1</th>\n",
              "      <td>1</td>\n",
              "      <td>why white aussietv MKR theblock ImACelebrityAU...</td>\n",
              "      <td>not_cyberbullying</td>\n",
              "    </tr>\n",
              "    <tr>\n",
              "      <th>2</th>\n",
              "      <td>2</td>\n",
              "      <td>classy whore more red velvet cupcakes</td>\n",
              "      <td>not_cyberbullying</td>\n",
              "    </tr>\n",
              "    <tr>\n",
              "      <th>3</th>\n",
              "      <td>3</td>\n",
              "      <td>meh thanks for the heads but not too concerned...</td>\n",
              "      <td>not_cyberbullying</td>\n",
              "    </tr>\n",
              "    <tr>\n",
              "      <th>4</th>\n",
              "      <td>4</td>\n",
              "      <td>this isis account pretending kurdish account l...</td>\n",
              "      <td>not_cyberbullying</td>\n",
              "    </tr>\n",
              "    <tr>\n",
              "      <th>...</th>\n",
              "      <td>...</td>\n",
              "      <td>...</td>\n",
              "      <td>...</td>\n",
              "    </tr>\n",
              "    <tr>\n",
              "      <th>47687</th>\n",
              "      <td>47687</td>\n",
              "      <td>black ppl are not expected anything depended f...</td>\n",
              "      <td>ethnicity</td>\n",
              "    </tr>\n",
              "    <tr>\n",
              "      <th>47688</th>\n",
              "      <td>47688</td>\n",
              "      <td>turner did not withhold his disappointment tur...</td>\n",
              "      <td>ethnicity</td>\n",
              "    </tr>\n",
              "    <tr>\n",
              "      <th>47689</th>\n",
              "      <td>47689</td>\n",
              "      <td>swear god this dumb nigger bitch have got blea...</td>\n",
              "      <td>ethnicity</td>\n",
              "    </tr>\n",
              "    <tr>\n",
              "      <th>47690</th>\n",
              "      <td>47690</td>\n",
              "      <td>yea fuck you youre nigger fucking unfollow fuc...</td>\n",
              "      <td>ethnicity</td>\n",
              "    </tr>\n",
              "    <tr>\n",
              "      <th>47691</th>\n",
              "      <td>47691</td>\n",
              "      <td>bro gotta chill dog fuck that dumb nigger bitc...</td>\n",
              "      <td>ethnicity</td>\n",
              "    </tr>\n",
              "  </tbody>\n",
              "</table>\n",
              "<p>47692 rows × 3 columns</p>\n",
              "</div>"
            ],
            "text/plain": [
              "       Unnamed: 0                                    clean_txt_emoji  \\\n",
              "0               0  other words your food was crapilicious katanda...   \n",
              "1               1  why white aussietv MKR theblock ImACelebrityAU...   \n",
              "2               2              classy whore more red velvet cupcakes   \n",
              "3               3  meh thanks for the heads but not too concerned...   \n",
              "4               4  this isis account pretending kurdish account l...   \n",
              "...           ...                                                ...   \n",
              "47687       47687  black ppl are not expected anything depended f...   \n",
              "47688       47688  turner did not withhold his disappointment tur...   \n",
              "47689       47689  swear god this dumb nigger bitch have got blea...   \n",
              "47690       47690  yea fuck you youre nigger fucking unfollow fuc...   \n",
              "47691       47691  bro gotta chill dog fuck that dumb nigger bitc...   \n",
              "\n",
              "      cyberbullying_type  \n",
              "0      not_cyberbullying  \n",
              "1      not_cyberbullying  \n",
              "2      not_cyberbullying  \n",
              "3      not_cyberbullying  \n",
              "4      not_cyberbullying  \n",
              "...                  ...  \n",
              "47687          ethnicity  \n",
              "47688          ethnicity  \n",
              "47689          ethnicity  \n",
              "47690          ethnicity  \n",
              "47691          ethnicity  \n",
              "\n",
              "[47692 rows x 3 columns]"
            ]
          },
          "execution_count": 16,
          "metadata": {},
          "output_type": "execute_result"
        }
      ],
      "source": [
        "df"
      ]
    },
    {
      "cell_type": "code",
      "execution_count": 17,
      "metadata": {
        "colab": {
          "base_uri": "https://localhost:8080/"
        },
        "id": "wzW3LbYIqr3K",
        "outputId": "7a91c914-4038-46da-f9b9-302288e1a405"
      },
      "outputs": [
        {
          "data": {
            "text/plain": [
              "religion               1245\n",
              "ethnicity              1241\n",
              "not_cyberbullying      1208\n",
              "age                    1150\n",
              "gender                 1133\n",
              "other_cyberbullying    1125\n",
              "Name: cyberbullying_type, dtype: int64"
            ]
          },
          "execution_count": 17,
          "metadata": {},
          "output_type": "execute_result"
        }
      ],
      "source": [
        "\n",
        "df['clean_txt_emoji'] = df['clean_txt_emoji'].str.strip()\n",
        "df = df.dropna()\n",
        "df = df.drop(columns = [\"Unnamed: 0\"])\n",
        "df = df[['cyberbullying_type', 'clean_txt_emoji']]\n",
        "df['clean_txt_emoji']\n",
        "\n",
        "train, test_valid = train_test_split(df,train_size= 0.70, random_state= 3040)\n",
        "test, valid = train_test_split(test_valid,train_size= .50, random_state= 3040)\n",
        "test['cyberbullying_type'].value_counts()"
      ]
    },
    {
      "cell_type": "markdown",
      "metadata": {
        "id": "A1LjrB8Gr1D8"
      },
      "source": [
        "### Encode the labels into numerical labels"
      ]
    },
    {
      "cell_type": "code",
      "execution_count": 18,
      "metadata": {
        "id": "u1Ejq0cIqhab"
      },
      "outputs": [],
      "source": [
        "classes = df['cyberbullying_type'].unique()\n",
        "\n",
        "encoder = LabelEncoder()\n",
        "y = encoder.fit_transform(df['cyberbullying_type'])"
      ]
    },
    {
      "cell_type": "markdown",
      "metadata": {
        "id": "jpUR3GCfr8yv"
      },
      "source": [
        "### Split train, test and validate data into X and y"
      ]
    },
    {
      "cell_type": "code",
      "execution_count": 19,
      "metadata": {
        "id": "pVh8IuFTvaYb"
      },
      "outputs": [],
      "source": [
        "X_train, y_train = train.drop(columns=[\"cyberbullying_type\"]), train[\"cyberbullying_type\"]\n",
        "X_test, y_test = test.drop(columns=[\"cyberbullying_type\"]), test[\"cyberbullying_type\"]\n",
        "X_val, y_valid =  valid.drop(columns=[\"cyberbullying_type\"]),valid[\"cyberbullying_type\"]"
      ]
    },
    {
      "cell_type": "markdown",
      "metadata": {
        "id": "O82pIvZOsaR9"
      },
      "source": [
        "## Define a Count Vectorizer\n",
        "\n",
        "- Save the train_X data as the corpus to train the vecotrizer on\n",
        "- Initialize the count vectorizer\n",
        "- Fit and transformer the train data on the vecotrizer\n",
        "-  extract feature vectors"
      ]
    },
    {
      "cell_type": "code",
      "execution_count": 20,
      "metadata": {
        "colab": {
          "base_uri": "https://localhost:8080/"
        },
        "id": "kR6_O1qlsZoF",
        "outputId": "08bde282-6457-4493-dcf9-66be9113d2f8"
      },
      "outputs": [
        {
          "data": {
            "text/plain": [
              "(33144, 33381)"
            ]
          },
          "execution_count": 20,
          "metadata": {},
          "output_type": "execute_result"
        }
      ],
      "source": [
        "\n",
        "corpus_train = X_train['clean_txt_emoji']\n",
        "vectorizer = CountVectorizer()\n",
        "X_train_vec = vectorizer.fit_transform(corpus_train)\n",
        "feat_names = vectorizer.get_feature_names_out()\n",
        "feat_names.shape\n",
        "X_train_vec.shape"
      ]
    },
    {
      "cell_type": "markdown",
      "metadata": {
        "id": "6fW-Y9pytxPy"
      },
      "source": [
        "## Transform Valid and Test Data\n",
        "\n",
        "- Transformer the validate and test corpus data on the vecotrizer\n",
        "- extract feature vectors"
      ]
    },
    {
      "cell_type": "code",
      "execution_count": 21,
      "metadata": {
        "colab": {
          "base_uri": "https://localhost:8080/"
        },
        "id": "Ay4rCo4mtwVg",
        "outputId": "c8304e76-6eab-49ef-a126-1bfe77c6c705"
      },
      "outputs": [
        {
          "name": "stdout",
          "output_type": "stream",
          "text": [
            "(7103, 33381)\n",
            "(7102, 33381)\n"
          ]
        }
      ],
      "source": [
        "corpus_val = X_val['clean_txt_emoji']\n",
        "X_valid_vec = vectorizer.transform(corpus_val)\n",
        "feat_names = vectorizer.get_feature_names_out()\n",
        "print(X_valid_vec.shape)\n",
        "\n",
        "X_test_vec = vectorizer.transform(X_test['clean_txt_emoji'])\n",
        "feat_names = vectorizer.get_feature_names_out()\n",
        "print(X_test_vec.shape)"
      ]
    },
    {
      "cell_type": "markdown",
      "metadata": {
        "id": "o4g7zYmGtZLO"
      },
      "source": [
        "## Model Selection \n",
        "Code adopted from Vecotr AI institute Assignment 2 notebook\n",
        "- The function loops over the a series of `depth` to find the best hyperparameter to train the decision tree classfier on.\n",
        "\n",
        "- For each depth, the validation score, train score and model is stored in a dictionary\n",
        "\n"
      ]
    },
    {
      "cell_type": "code",
      "execution_count": 22,
      "metadata": {
        "id": "QOQJjAjyvs6e"
      },
      "outputs": [],
      "source": [
        "\n",
        "## Code adopted from Vecotr AI institute Assignment 4 notebook\n",
        "\n",
        "def select_model(depths, train_X, train_y, val_X, val_y, criteria):\n",
        "    out = {}\n",
        "    for dep in depths:\n",
        "        # Evaluating on depth\n",
        "        out[dep] = {}\n",
        "\n",
        "        tree = DecisionTreeClassifier(criterion=criteria, max_depth=dep)\n",
        "        tree = tree.fit(train_X, train_y)\n",
        "\n",
        "        # Evaluating the model in the train and val datasets\n",
        "        out[dep]['val'] = tree.score(val_X, val_y)\n",
        "        out[dep]['train'] = tree.score(train_X, train_y)\n",
        "        out[dep]['model'] = tree\n",
        "    return out\n",
        "\n"
      ]
    },
    {
      "cell_type": "markdown",
      "metadata": {
        "id": "qUzp-7MlywuH"
      },
      "source": [
        "## Finding the best model\n",
        "Code adopted from Vecotr AI institute Assignment 4 notebook\n",
        "- loop through different types and sizes of decision tree to find best performer based on the accuracy of the validation score\n",
        "- Store the best model parameters and score in the `best_model` \n"
      ]
    },
    {
      "cell_type": "code",
      "execution_count": 23,
      "metadata": {
        "colab": {
          "base_uri": "https://localhost:8080/"
        },
        "id": "wGt7nebpwCJ1",
        "outputId": "7e255ff4-4dd5-4382-81fe-16402e71eabf"
      },
      "outputs": [
        {
          "name": "stdout",
          "output_type": "stream",
          "text": [
            "\n",
            "Using criterion entropy\n",
            "Depth: 5   Train: 0.5904839488293507    Val: 0.5934112346895678\n",
            "Depth: 10   Train: 0.6919201062032344    Val: 0.6949176404336196\n",
            "Depth: 15   Train: 0.7455648081100652    Val: 0.74475573701253\n",
            "Depth: 20   Train: 0.7995112237509051    Val: 0.7905110516683092\n",
            "Depth: 25   Train: 0.8294713975380159    Val: 0.815289314374208\n",
            "Depth: 30   Train: 0.8387038377986966    Val: 0.8192313107137829\n",
            "Depth: 35   Train: 0.8468501086169442    Val: 0.8196536674644517\n",
            "Depth: 40   Train: 0.8590695148443157    Val: 0.8209207377164578\n",
            "Depth: 45   Train: 0.8663106444605359    Val: 0.8237364493875827\n",
            "Depth: 50   Train: 0.8749396572531981    Val: 0.8247219484724764\n",
            "Depth: 55   Train: 0.8807627323195751    Val: 0.8252850908067014\n",
            "Depth: 60   Train: 0.8866159787593532    Val: 0.8259890187244826\n",
            "Depth: 65   Train: 0.8908701424088824    Val: 0.8258482331409264\n",
            "Depth: 70   Train: 0.8950941346850109    Val: 0.8252850908067014\n",
            "Depth: 75   Train: 0.8987146994931209    Val: 0.8272560889764888\n",
            "Depth: 80   Train: 0.9027274921554429    Val: 0.8259890187244826\n",
            "Depth: 85   Train: 0.907041998551774    Val: 0.8235956638040265\n",
            "Depth: 90   Train: 0.9104815351194786    Val: 0.8216246656342391\n",
            "Best depth: 75    Test: 0.8142776682624613\n",
            "\n",
            "Using criterion gini\n",
            "Depth: 5   Train: 0.5866823557808352    Val: 0.5897508095171055\n",
            "Depth: 10   Train: 0.6935795317402849    Val: 0.6994227791074193\n",
            "Depth: 15   Train: 0.7672580255853246    Val: 0.7660143601295227\n",
            "Depth: 20   Train: 0.8061790972725078    Val: 0.7999436857665775\n",
            "Depth: 25   Train: 0.8304368814868452    Val: 0.815289314374208\n",
            "Depth: 30   Train: 0.8428071445812213    Val: 0.8189497395466704\n",
            "Depth: 35   Train: 0.8522809558291093    Val: 0.8217654512177953\n",
            "Depth: 40   Train: 0.8606685976345644    Val: 0.8251443052231452\n",
            "Depth: 45   Train: 0.8656770456191166    Val: 0.822750950302689\n",
            "Depth: 50   Train: 0.8710777214578808    Val: 0.8276784457271575\n",
            "Depth: 55   Train: 0.8748793145063963    Val: 0.8269745178093764\n",
            "Depth: 60   Train: 0.8783791938209027    Val: 0.8262705898915951\n",
            "Depth: 65   Train: 0.8825730147236303    Val: 0.8282415880613825\n",
            "Depth: 70   Train: 0.8865556360125513    Val: 0.8265521610587075\n",
            "Depth: 75   Train: 0.8920166545981173    Val: 0.8252850908067014\n",
            "Depth: 80   Train: 0.8954863625392228    Val: 0.8261298043080388\n",
            "Depth: 85   Train: 0.9008266956311851    Val: 0.8242995917218077\n",
            "Depth: 90   Train: 0.9038740043446778    Val: 0.8220470223849078\n",
            "Best depth: 65    Test: 0.8137144466347508\n"
          ]
        }
      ],
      "source": [
        "# loop through different types and sizes of decision tree to find best performer\n",
        "\n",
        "best_model = {}\n",
        "for criterion in (\"entropy\", \"gini\"):\n",
        "    print(\"\\nUsing criterion {}\".format(criterion))\n",
        "    res = select_model(range(5, 95, 5), X_train_vec, y_train, X_valid_vec, y_valid, criterion)\n",
        "    best_d = None\n",
        "    best_acc = 0\n",
        "    for d in res:\n",
        "        val_acc = res[d]['val']\n",
        "        print(\"Depth: {}   Train: {}    Val: {}\".format(d, res[d]['train'], val_acc))\n",
        "\n",
        "        if val_acc > best_acc:\n",
        "            best_d = d\n",
        "            best_acc = val_acc\n",
        "\n",
        "    test_score = res[best_d]['model'].score(X_test_vec, y_test)\n",
        "\n",
        "    \n",
        "    best_model[criterion] = [best_d , test_score]\n",
        "    print(\"Best depth: {}    Test: {}\".format(best_d, test_score))"
      ]
    },
    {
      "cell_type": "markdown",
      "metadata": {
        "id": "dAzUtwXOzpO1"
      },
      "source": [
        "## Select the model parameters with highest accuracy"
      ]
    },
    {
      "cell_type": "code",
      "execution_count": 24,
      "metadata": {
        "colab": {
          "base_uri": "https://localhost:8080/"
        },
        "id": "PJf-GmhK3uje",
        "outputId": "15c005f6-9b85-488e-f844-45a2c3831db5"
      },
      "outputs": [
        {
          "data": {
            "text/plain": [
              "{'entropy': [75, 0.8142776682624613], 'gini': [65, 0.8137144466347508]}"
            ]
          },
          "execution_count": 24,
          "metadata": {},
          "output_type": "execute_result"
        }
      ],
      "source": [
        "best_model"
      ]
    },
    {
      "cell_type": "code",
      "execution_count": 25,
      "metadata": {
        "colab": {
          "base_uri": "https://localhost:8080/"
        },
        "id": "T0klip6E2baM",
        "outputId": "2b256a77-51b4-431a-f219-985c285fd1a8"
      },
      "outputs": [
        {
          "data": {
            "text/plain": [
              "([75, 0.8142776682624613], 'entropy')"
            ]
          },
          "execution_count": 25,
          "metadata": {},
          "output_type": "execute_result"
        }
      ],
      "source": [
        "\n",
        "train_params= max([(value, key) for key, value in best_model.items()])\n",
        "train_params\n"
      ]
    },
    {
      "cell_type": "markdown",
      "metadata": {
        "id": "k8QUJeAH4B_B"
      },
      "source": [
        "## Train the Decision Tree with the parameters\n",
        "- Triains the model on the best hyper parameters\n",
        "- Predicts the test"
      ]
    },
    {
      "cell_type": "code",
      "execution_count": 26,
      "metadata": {
        "id": "uTZT4u9360f2"
      },
      "outputs": [],
      "source": [
        "# The best performing decision tree was depth 55 with gini criterion so check its confusion matrix\n",
        "best_tree = DecisionTreeClassifier(criterion=train_params[1], max_depth=train_params[0][0])\n",
        "best_tree = best_tree.fit(X_train_vec, y_train)\n",
        "y_test_predicted = best_tree.predict(X_test_vec)\n"
      ]
    },
    {
      "cell_type": "markdown",
      "metadata": {
        "id": "BIOIHJ5p4Jpo"
      },
      "source": [
        "## Generate a Confusion Matrix"
      ]
    },
    {
      "cell_type": "code",
      "execution_count": 27,
      "metadata": {
        "colab": {
          "base_uri": "https://localhost:8080/",
          "height": 294
        },
        "id": "aDSV2EGL685y",
        "outputId": "0c11c752-01a1-4310-b16d-5a69b12bdd4c"
      },
      "outputs": [
        {
          "data": {
            "image/png": "[encoded data removed]",
            "text/plain": [
              "<Figure size 432x288 with 2 Axes>"
            ]
          },
          "metadata": {
            "needs_background": "light"
          },
          "output_type": "display_data"
        }
      ],
      "source": [
        "# Generate a more visual representation of the confusion matrix\n",
        "cm = metrics.confusion_matrix(y_test, y_test_predicted, labels=best_tree.classes_)\n",
        "disp = metrics.ConfusionMatrixDisplay(confusion_matrix=cm, display_labels=['not', 'gender', 'religion', 'other', 'age', 'ethnicity'])\n",
        "disp.plot()\n",
        "plt.title(\"Confusion Matrix for Best Decision Tree Classifier\")\n",
        "plt.show()"
      ]
    },
    {
      "cell_type": "markdown",
      "metadata": {
        "id": "0-o8-OSm4dLS"
      },
      "source": [
        "### Evaluating Models Performance \n"
      ]
    },
    {
      "cell_type": "code",
      "execution_count": 28,
      "metadata": {
        "colab": {
          "base_uri": "https://localhost:8080/",
          "height": 411
        },
        "id": "hqRus9eq4VEY",
        "outputId": "dd2c405e-1cc4-4394-a846-fd90aa750378"
      },
      "outputs": [
        {
          "data": {
            "text/html": [
              "<div>\n",
              "<style scoped>\n",
              "    .dataframe tbody tr th:only-of-type {\n",
              "        vertical-align: middle;\n",
              "    }\n",
              "\n",
              "    .dataframe tbody tr th {\n",
              "        vertical-align: top;\n",
              "    }\n",
              "\n",
              "    .dataframe thead th {\n",
              "        text-align: right;\n",
              "    }\n",
              "</style>\n",
              "<table border=\"1\" class=\"dataframe\">\n",
              "  <thead>\n",
              "    <tr style=\"text-align: right;\">\n",
              "      <th></th>\n",
              "      <th>cyberbullying_type</th>\n",
              "      <th>clean_txt_emoji</th>\n",
              "      <th>predicition</th>\n",
              "    </tr>\n",
              "  </thead>\n",
              "  <tbody>\n",
              "    <tr>\n",
              "      <th>9465</th>\n",
              "      <td>gender</td>\n",
              "      <td>not sexist but woman head teacher isnt physica...</td>\n",
              "      <td>gender</td>\n",
              "    </tr>\n",
              "    <tr>\n",
              "      <th>31886</th>\n",
              "      <td>age</td>\n",
              "      <td>was bullied school too wrote song just like yo...</td>\n",
              "      <td>not_cyberbullying</td>\n",
              "    </tr>\n",
              "    <tr>\n",
              "      <th>10936</th>\n",
              "      <td>gender</td>\n",
              "      <td>doesn everyone call their female colleagues fu...</td>\n",
              "      <td>gender</td>\n",
              "    </tr>\n",
              "    <tr>\n",
              "      <th>2611</th>\n",
              "      <td>not_cyberbullying</td>\n",
              "      <td>would not fair kat knows nothing fair wtf hypo...</td>\n",
              "      <td>not_cyberbullying</td>\n",
              "    </tr>\n",
              "    <tr>\n",
              "      <th>46625</th>\n",
              "      <td>ethnicity</td>\n",
              "      <td>told you jaycen not just dumb nigger very gift...</td>\n",
              "      <td>ethnicity</td>\n",
              "    </tr>\n",
              "    <tr>\n",
              "      <th>...</th>\n",
              "      <td>...</td>\n",
              "      <td>...</td>\n",
              "      <td>...</td>\n",
              "    </tr>\n",
              "    <tr>\n",
              "      <th>42623</th>\n",
              "      <td>ethnicity</td>\n",
              "      <td>fuck obama dumb nigger bullshit electric cars ...</td>\n",
              "      <td>ethnicity</td>\n",
              "    </tr>\n",
              "    <tr>\n",
              "      <th>9757</th>\n",
              "      <td>gender</td>\n",
              "      <td>thicke txlege rape jokes harassment our cultur...</td>\n",
              "      <td>gender</td>\n",
              "    </tr>\n",
              "    <tr>\n",
              "      <th>40304</th>\n",
              "      <td>ethnicity</td>\n",
              "      <td>how can you say niggers are ugly girl make sin...</td>\n",
              "      <td>ethnicity</td>\n",
              "    </tr>\n",
              "    <tr>\n",
              "      <th>3853</th>\n",
              "      <td>not_cyberbullying</td>\n",
              "      <td>interesting tho that still found most them</td>\n",
              "      <td>other_cyberbullying</td>\n",
              "    </tr>\n",
              "    <tr>\n",
              "      <th>44892</th>\n",
              "      <td>ethnicity</td>\n",
              "      <td>mex ewr flight landed with women with dogs boa...</td>\n",
              "      <td>ethnicity</td>\n",
              "    </tr>\n",
              "  </tbody>\n",
              "</table>\n",
              "<p>7102 rows × 3 columns</p>\n",
              "</div>"
            ],
            "text/plain": [
              "      cyberbullying_type                                    clean_txt_emoji  \\\n",
              "9465              gender  not sexist but woman head teacher isnt physica...   \n",
              "31886                age  was bullied school too wrote song just like yo...   \n",
              "10936             gender  doesn everyone call their female colleagues fu...   \n",
              "2611   not_cyberbullying  would not fair kat knows nothing fair wtf hypo...   \n",
              "46625          ethnicity  told you jaycen not just dumb nigger very gift...   \n",
              "...                  ...                                                ...   \n",
              "42623          ethnicity  fuck obama dumb nigger bullshit electric cars ...   \n",
              "9757              gender  thicke txlege rape jokes harassment our cultur...   \n",
              "40304          ethnicity  how can you say niggers are ugly girl make sin...   \n",
              "3853   not_cyberbullying         interesting tho that still found most them   \n",
              "44892          ethnicity  mex ewr flight landed with women with dogs boa...   \n",
              "\n",
              "               predicition  \n",
              "9465                gender  \n",
              "31886    not_cyberbullying  \n",
              "10936               gender  \n",
              "2611     not_cyberbullying  \n",
              "46625            ethnicity  \n",
              "...                    ...  \n",
              "42623            ethnicity  \n",
              "9757                gender  \n",
              "40304            ethnicity  \n",
              "3853   other_cyberbullying  \n",
              "44892            ethnicity  \n",
              "\n",
              "[7102 rows x 3 columns]"
            ]
          },
          "execution_count": 28,
          "metadata": {},
          "output_type": "execute_result"
        }
      ],
      "source": [
        "test['predicition']= y_test_predicted\n",
        "test"
      ]
    },
    {
      "cell_type": "code",
      "execution_count": 29,
      "metadata": {
        "colab": {
          "base_uri": "https://localhost:8080/",
          "height": 411
        },
        "id": "m3fyUkmF5AU9",
        "outputId": "20a4e6bf-da92-4200-a33f-26e7d78db14c"
      },
      "outputs": [
        {
          "data": {
            "text/html": [
              "<div>\n",
              "<style scoped>\n",
              "    .dataframe tbody tr th:only-of-type {\n",
              "        vertical-align: middle;\n",
              "    }\n",
              "\n",
              "    .dataframe tbody tr th {\n",
              "        vertical-align: top;\n",
              "    }\n",
              "\n",
              "    .dataframe thead th {\n",
              "        text-align: right;\n",
              "    }\n",
              "</style>\n",
              "<table border=\"1\" class=\"dataframe\">\n",
              "  <thead>\n",
              "    <tr style=\"text-align: right;\">\n",
              "      <th></th>\n",
              "      <th>cyberbullying_type</th>\n",
              "      <th>clean_txt_emoji</th>\n",
              "      <th>predicition</th>\n",
              "    </tr>\n",
              "  </thead>\n",
              "  <tbody>\n",
              "    <tr>\n",
              "      <th>31886</th>\n",
              "      <td>age</td>\n",
              "      <td>was bullied school too wrote song just like yo...</td>\n",
              "      <td>not_cyberbullying</td>\n",
              "    </tr>\n",
              "    <tr>\n",
              "      <th>29672</th>\n",
              "      <td>other_cyberbullying</td>\n",
              "      <td>and the people thinks crazy and bully</td>\n",
              "      <td>not_cyberbullying</td>\n",
              "    </tr>\n",
              "    <tr>\n",
              "      <th>3849</th>\n",
              "      <td>not_cyberbullying</td>\n",
              "      <td>all men should follow lead please move will he...</td>\n",
              "      <td>other_cyberbullying</td>\n",
              "    </tr>\n",
              "    <tr>\n",
              "      <th>35279</th>\n",
              "      <td>age</td>\n",
              "      <td>way fuck bitch year old</td>\n",
              "      <td>other_cyberbullying</td>\n",
              "    </tr>\n",
              "    <tr>\n",
              "      <th>39079</th>\n",
              "      <td>age</td>\n",
              "      <td>watch little girl live her life after bullying...</td>\n",
              "      <td>other_cyberbullying</td>\n",
              "    </tr>\n",
              "    <tr>\n",
              "      <th>...</th>\n",
              "      <td>...</td>\n",
              "      <td>...</td>\n",
              "      <td>...</td>\n",
              "    </tr>\n",
              "    <tr>\n",
              "      <th>8266</th>\n",
              "      <td>gender</td>\n",
              "      <td>who said anything about hitting</td>\n",
              "      <td>other_cyberbullying</td>\n",
              "    </tr>\n",
              "    <tr>\n",
              "      <th>26849</th>\n",
              "      <td>other_cyberbullying</td>\n",
              "      <td>for the first time ever could not tell been wr...</td>\n",
              "      <td>gender</td>\n",
              "    </tr>\n",
              "    <tr>\n",
              "      <th>33919</th>\n",
              "      <td>age</td>\n",
              "      <td>dude fucking twitter not the fucking play scho...</td>\n",
              "      <td>not_cyberbullying</td>\n",
              "    </tr>\n",
              "    <tr>\n",
              "      <th>3232</th>\n",
              "      <td>not_cyberbullying</td>\n",
              "      <td>thank you roooobbb</td>\n",
              "      <td>other_cyberbullying</td>\n",
              "    </tr>\n",
              "    <tr>\n",
              "      <th>3853</th>\n",
              "      <td>not_cyberbullying</td>\n",
              "      <td>interesting tho that still found most them</td>\n",
              "      <td>other_cyberbullying</td>\n",
              "    </tr>\n",
              "  </tbody>\n",
              "</table>\n",
              "<p>1342 rows × 3 columns</p>\n",
              "</div>"
            ],
            "text/plain": [
              "        cyberbullying_type                                    clean_txt_emoji  \\\n",
              "31886                  age  was bullied school too wrote song just like yo...   \n",
              "29672  other_cyberbullying              and the people thinks crazy and bully   \n",
              "3849     not_cyberbullying  all men should follow lead please move will he...   \n",
              "35279                  age                            way fuck bitch year old   \n",
              "39079                  age  watch little girl live her life after bullying...   \n",
              "...                    ...                                                ...   \n",
              "8266                gender                    who said anything about hitting   \n",
              "26849  other_cyberbullying  for the first time ever could not tell been wr...   \n",
              "33919                  age  dude fucking twitter not the fucking play scho...   \n",
              "3232     not_cyberbullying                                 thank you roooobbb   \n",
              "3853     not_cyberbullying         interesting tho that still found most them   \n",
              "\n",
              "               predicition  \n",
              "31886    not_cyberbullying  \n",
              "29672    not_cyberbullying  \n",
              "3849   other_cyberbullying  \n",
              "35279  other_cyberbullying  \n",
              "39079  other_cyberbullying  \n",
              "...                    ...  \n",
              "8266   other_cyberbullying  \n",
              "26849               gender  \n",
              "33919    not_cyberbullying  \n",
              "3232   other_cyberbullying  \n",
              "3853   other_cyberbullying  \n",
              "\n",
              "[1342 rows x 3 columns]"
            ]
          },
          "execution_count": 29,
          "metadata": {},
          "output_type": "execute_result"
        }
      ],
      "source": [
        "test[test.predicition != test.cyberbullying_type]"
      ]
    },
    {
      "cell_type": "markdown",
      "metadata": {
        "id": "jZ31Hb8A5va_"
      },
      "source": [
        "### Conclusion \n",
        "\n",
        "- The Decision Tree Predicts a total of 1342 rows incorrectly\n"
      ]
    }
  ],
  "metadata": {
    "colab": {
      "include_colab_link": true,
      "provenance": []
    },
    "gpuClass": "standard",
    "kernelspec": {
      "display_name": "Python 3.9.12 ('dsci572env')",
      "language": "python",
      "name": "python3"
    },
    "language_info": {
      "codemirror_mode": {
        "name": "ipython",
        "version": 3
      },
      "file_extension": ".py",
      "mimetype": "text/x-python",
      "name": "python",
      "nbconvert_exporter": "python",
      "pygments_lexer": "ipython3",
      "version": "3.9.12"
    },
    "vscode": {
      "interpreter": {
        "hash": "49c76ddf62ca98de74eedc2bb55b33e27315dcb91d5e2af2ea84b0e3308bb054"
      }
    }
  },
  "nbformat": 4,
  "nbformat_minor": 0
}
