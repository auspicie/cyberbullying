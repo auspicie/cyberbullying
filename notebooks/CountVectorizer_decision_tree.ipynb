{
  "nbformat": 4,
  "nbformat_minor": 0,
  "metadata": {
    "colab": {
      "provenance": [],
      "include_colab_link": true
    },
    "kernelspec": {
      "name": "python3",
      "display_name": "Python 3"
    },
    "language_info": {
      "name": "python"
    },
    "gpuClass": "standard"
  },
  "cells": [
    {
      "cell_type": "markdown",
      "metadata": {
        "id": "view-in-github",
        "colab_type": "text"
      },
      "source": [
        "<a href=\"https://colab.research.google.com/github/thayeylolu/cyberbullying/blob/main/notebooks/CountVectorizer_decision_tree.ipynb\" target=\"_parent\"><img src=\"https://colab.research.google.com/assets/colab-badge.svg\" alt=\"Open In Colab\"/></a>"
      ]
    },
    {
      "cell_type": "markdown",
      "source": [
        "## Import Libraries"
      ],
      "metadata": {
        "id": "7DpQQK8I60NZ"
      }
    },
    {
      "cell_type": "code",
      "metadata": {
        "id": "nYziVIuLPWo3"
      },
      "source": [
        "import pandas as pd\n",
        "import matplotlib.pyplot as plt\n",
        "from sklearn.tree import DecisionTreeClassifier\n",
        "from sklearn.feature_extraction.text import TfidfVectorizer\n",
        "from sklearn.model_selection import train_test_split\n",
        "from sklearn.preprocessing import LabelEncoder\n",
        "from sklearn.metrics import confusion_matrix\n",
        "from sklearn import metrics\n",
        "import numpy as np\n",
        "from sklearn.feature_extraction.text import CountVectorizer\n",
        "\n",
        "from sklearn.model_selection import (\n",
        "    cross_val_score,\n",
        "    cross_validate,\n",
        "    train_test_split,\n",
        ")\n",
        "\n",
        "%matplotlib inline"
      ],
      "execution_count": null,
      "outputs": []
    },
    {
      "cell_type": "markdown",
      "source": [
        "## Mount Drive to connect data present in google drive"
      ],
      "metadata": {
        "id": "o961VBybpKEp"
      }
    },
    {
      "cell_type": "code",
      "source": [
        "from google.colab import drive\n",
        "drive.mount('/drive')"
      ],
      "metadata": {
        "colab": {
          "base_uri": "https://localhost:8080/"
        },
        "id": "BkxK4FAH1sb7",
        "outputId": "87ed62e0-1c08-4bb6-83eb-d6baac0e6767"
      },
      "execution_count": null,
      "outputs": [
        {
          "output_type": "stream",
          "name": "stdout",
          "text": [
            "Drive already mounted at /drive; to attempt to forcibly remount, call drive.mount(\"/drive\", force_remount=True).\n"
          ]
        }
      ]
    },
    {
      "cell_type": "markdown",
      "source": [
        "## Read CSV "
      ],
      "metadata": {
        "id": "oosp3I-spV1y"
      }
    },
    {
      "cell_type": "code",
      "source": [
        "df = pd.read_csv('/drive/MyDrive//NLP/train_data.csv')"
      ],
      "metadata": {
        "id": "h-cPzULj3s3o"
      },
      "execution_count": null,
      "outputs": []
    },
    {
      "cell_type": "markdown",
      "source": [
        "## Load information about the Dataset and preview the first 5 rows"
      ],
      "metadata": {
        "id": "FylK6culpgJq"
      }
    },
    {
      "cell_type": "code",
      "source": [
        "df.info()\n",
        "df.head()"
      ],
      "metadata": {
        "colab": {
          "base_uri": "https://localhost:8080/",
          "height": 365
        },
        "id": "Me91VaUh4P2s",
        "outputId": "579147db-ef98-49ab-9f9c-d1215730830f"
      },
      "execution_count": null,
      "outputs": [
        {
          "output_type": "stream",
          "name": "stdout",
          "text": [
            "<class 'pandas.core.frame.DataFrame'>\n",
            "RangeIndex: 47692 entries, 0 to 47691\n",
            "Data columns (total 3 columns):\n",
            " #   Column              Non-Null Count  Dtype \n",
            "---  ------              --------------  ----- \n",
            " 0   Unnamed: 0          47692 non-null  int64 \n",
            " 1   clean_txt_emoji     47692 non-null  object\n",
            " 2   cyberbullying_type  47692 non-null  object\n",
            "dtypes: int64(1), object(2)\n",
            "memory usage: 1.1+ MB\n"
          ]
        },
        {
          "output_type": "execute_result",
          "data": {
            "text/plain": [
              "   Unnamed: 0                                    clean_txt_emoji  \\\n",
              "0           0            words food crapilicious katandandre mkr   \n",
              "1           1  white aussietv MKR theblock ImACelebrityAU tod...   \n",
              "2           2                  classy whore red velvet cupcakes    \n",
              "3           3  meh thanks heads concerned another angry dude ...   \n",
              "4           4  isis account pretending kurdish account like i...   \n",
              "\n",
              "  cyberbullying_type  \n",
              "0  not_cyberbullying  \n",
              "1  not_cyberbullying  \n",
              "2  not_cyberbullying  \n",
              "3  not_cyberbullying  \n",
              "4  not_cyberbullying  "
            ],
            "text/html": [
              "\n",
              "  <div id=\"df-766a6e15-2c77-4b45-8d0e-6de5c6b5ca60\">\n",
              "    <div class=\"colab-df-container\">\n",
              "      <div>\n",
              "<style scoped>\n",
              "    .dataframe tbody tr th:only-of-type {\n",
              "        vertical-align: middle;\n",
              "    }\n",
              "\n",
              "    .dataframe tbody tr th {\n",
              "        vertical-align: top;\n",
              "    }\n",
              "\n",
              "    .dataframe thead th {\n",
              "        text-align: right;\n",
              "    }\n",
              "</style>\n",
              "<table border=\"1\" class=\"dataframe\">\n",
              "  <thead>\n",
              "    <tr style=\"text-align: right;\">\n",
              "      <th></th>\n",
              "      <th>Unnamed: 0</th>\n",
              "      <th>clean_txt_emoji</th>\n",
              "      <th>cyberbullying_type</th>\n",
              "    </tr>\n",
              "  </thead>\n",
              "  <tbody>\n",
              "    <tr>\n",
              "      <th>0</th>\n",
              "      <td>0</td>\n",
              "      <td>words food crapilicious katandandre mkr</td>\n",
              "      <td>not_cyberbullying</td>\n",
              "    </tr>\n",
              "    <tr>\n",
              "      <th>1</th>\n",
              "      <td>1</td>\n",
              "      <td>white aussietv MKR theblock ImACelebrityAU tod...</td>\n",
              "      <td>not_cyberbullying</td>\n",
              "    </tr>\n",
              "    <tr>\n",
              "      <th>2</th>\n",
              "      <td>2</td>\n",
              "      <td>classy whore red velvet cupcakes</td>\n",
              "      <td>not_cyberbullying</td>\n",
              "    </tr>\n",
              "    <tr>\n",
              "      <th>3</th>\n",
              "      <td>3</td>\n",
              "      <td>meh thanks heads concerned another angry dude ...</td>\n",
              "      <td>not_cyberbullying</td>\n",
              "    </tr>\n",
              "    <tr>\n",
              "      <th>4</th>\n",
              "      <td>4</td>\n",
              "      <td>isis account pretending kurdish account like i...</td>\n",
              "      <td>not_cyberbullying</td>\n",
              "    </tr>\n",
              "  </tbody>\n",
              "</table>\n",
              "</div>\n",
              "      <button class=\"colab-df-convert\" onclick=\"convertToInteractive('df-766a6e15-2c77-4b45-8d0e-6de5c6b5ca60')\"\n",
              "              title=\"Convert this dataframe to an interactive table.\"\n",
              "              style=\"display:none;\">\n",
              "        \n",
              "  <svg xmlns=\"http://www.w3.org/2000/svg\" height=\"24px\"viewBox=\"0 0 24 24\"\n",
              "       width=\"24px\">\n",
              "    <path d=\"M0 0h24v24H0V0z\" fill=\"none\"/>\n",
              "    <path d=\"M18.56 5.44l.94 2.06.94-2.06 2.06-.94-2.06-.94-.94-2.06-.94 2.06-2.06.94zm-11 1L8.5 8.5l.94-2.06 2.06-.94-2.06-.94L8.5 2.5l-.94 2.06-2.06.94zm10 10l.94 2.06.94-2.06 2.06-.94-2.06-.94-.94-2.06-.94 2.06-2.06.94z\"/><path d=\"M17.41 7.96l-1.37-1.37c-.4-.4-.92-.59-1.43-.59-.52 0-1.04.2-1.43.59L10.3 9.45l-7.72 7.72c-.78.78-.78 2.05 0 2.83L4 21.41c.39.39.9.59 1.41.59.51 0 1.02-.2 1.41-.59l7.78-7.78 2.81-2.81c.8-.78.8-2.07 0-2.86zM5.41 20L4 18.59l7.72-7.72 1.47 1.35L5.41 20z\"/>\n",
              "  </svg>\n",
              "      </button>\n",
              "      \n",
              "  <style>\n",
              "    .colab-df-container {\n",
              "      display:flex;\n",
              "      flex-wrap:wrap;\n",
              "      gap: 12px;\n",
              "    }\n",
              "\n",
              "    .colab-df-convert {\n",
              "      background-color: #E8F0FE;\n",
              "      border: none;\n",
              "      border-radius: 50%;\n",
              "      cursor: pointer;\n",
              "      display: none;\n",
              "      fill: #1967D2;\n",
              "      height: 32px;\n",
              "      padding: 0 0 0 0;\n",
              "      width: 32px;\n",
              "    }\n",
              "\n",
              "    .colab-df-convert:hover {\n",
              "      background-color: #E2EBFA;\n",
              "      box-shadow: 0px 1px 2px rgba(60, 64, 67, 0.3), 0px 1px 3px 1px rgba(60, 64, 67, 0.15);\n",
              "      fill: #174EA6;\n",
              "    }\n",
              "\n",
              "    [theme=dark] .colab-df-convert {\n",
              "      background-color: #3B4455;\n",
              "      fill: #D2E3FC;\n",
              "    }\n",
              "\n",
              "    [theme=dark] .colab-df-convert:hover {\n",
              "      background-color: #434B5C;\n",
              "      box-shadow: 0px 1px 3px 1px rgba(0, 0, 0, 0.15);\n",
              "      filter: drop-shadow(0px 1px 2px rgba(0, 0, 0, 0.3));\n",
              "      fill: #FFFFFF;\n",
              "    }\n",
              "  </style>\n",
              "\n",
              "      <script>\n",
              "        const buttonEl =\n",
              "          document.querySelector('#df-766a6e15-2c77-4b45-8d0e-6de5c6b5ca60 button.colab-df-convert');\n",
              "        buttonEl.style.display =\n",
              "          google.colab.kernel.accessAllowed ? 'block' : 'none';\n",
              "\n",
              "        async function convertToInteractive(key) {\n",
              "          const element = document.querySelector('#df-766a6e15-2c77-4b45-8d0e-6de5c6b5ca60');\n",
              "          const dataTable =\n",
              "            await google.colab.kernel.invokeFunction('convertToInteractive',\n",
              "                                                     [key], {});\n",
              "          if (!dataTable) return;\n",
              "\n",
              "          const docLinkHtml = 'Like what you see? Visit the ' +\n",
              "            '<a target=\"_blank\" href=https://colab.research.google.com/notebooks/data_table.ipynb>data table notebook</a>'\n",
              "            + ' to learn more about interactive tables.';\n",
              "          element.innerHTML = '';\n",
              "          dataTable['output_type'] = 'display_data';\n",
              "          await google.colab.output.renderOutput(dataTable, element);\n",
              "          const docLink = document.createElement('div');\n",
              "          docLink.innerHTML = docLinkHtml;\n",
              "          element.appendChild(docLink);\n",
              "        }\n",
              "      </script>\n",
              "    </div>\n",
              "  </div>\n",
              "  "
            ]
          },
          "metadata": {},
          "execution_count": 20
        }
      ]
    },
    {
      "cell_type": "markdown",
      "source": [
        "### Data Cleaning\n",
        "\n",
        "- Strip white spaces in the `clean_txt_emoji` column \n",
        "- Drop empty rows and `Unnamed: 0` column\n",
        "- Select `cyberbullying_type` and `clean_txt_emoji`\n",
        "- Split the data into test , validate and train dataset that and set a random state for the split\n",
        "- Check the value count for each classes"
      ],
      "metadata": {
        "id": "O9GZZRuaprRA"
      }
    },
    {
      "cell_type": "code",
      "source": [
        "\n",
        "df['clean_txt_emoji'] = df['clean_txt_emoji'].str.strip()\n",
        "df = df.dropna()\n",
        "df = df.drop(columns = [\"Unnamed: 0\"])\n",
        "# still need to  remove empty space or trim each clean_txt_emoji\n",
        "\n",
        "#df['cyberbullying_type'] = df['cyberbullying_type'].apply(encode_label)\n",
        "df = df[['cyberbullying_type', 'clean_txt_emoji']]\n",
        "df['clean_txt_emoji']\n",
        "\n",
        "train, test_valid = train_test_split(df,train_size= 0.70, random_state= 3040)\n",
        "test, valid = train_test_split(test_valid,train_size= .50, random_state= 3040)\n",
        "test['cyberbullying_type'].value_counts()"
      ],
      "metadata": {
        "id": "wzW3LbYIqr3K",
        "colab": {
          "base_uri": "https://localhost:8080/"
        },
        "outputId": "7a91c914-4038-46da-f9b9-302288e1a405"
      },
      "execution_count": null,
      "outputs": [
        {
          "output_type": "execute_result",
          "data": {
            "text/plain": [
              "religion               1238\n",
              "not_cyberbullying      1232\n",
              "gender                 1214\n",
              "ethnicity              1197\n",
              "age                    1167\n",
              "other_cyberbullying    1106\n",
              "Name: cyberbullying_type, dtype: int64"
            ]
          },
          "metadata": {},
          "execution_count": 21
        }
      ]
    },
    {
      "cell_type": "markdown",
      "source": [
        "### Encode the labels into numerical labels"
      ],
      "metadata": {
        "id": "A1LjrB8Gr1D8"
      }
    },
    {
      "cell_type": "code",
      "source": [
        "classes = df['cyberbullying_type'].unique()\n",
        "\n",
        "encoder = LabelEncoder()\n",
        "y = encoder.fit_transform(df['cyberbullying_type'])"
      ],
      "metadata": {
        "id": "u1Ejq0cIqhab"
      },
      "execution_count": null,
      "outputs": []
    },
    {
      "cell_type": "markdown",
      "source": [
        "### Split train, test and validate data into X and y"
      ],
      "metadata": {
        "id": "jpUR3GCfr8yv"
      }
    },
    {
      "cell_type": "code",
      "source": [
        "X_train, y_train = train.drop(columns=[\"cyberbullying_type\"]), train[\"cyberbullying_type\"]\n",
        "X_test, y_test = test.drop(columns=[\"cyberbullying_type\"]), test[\"cyberbullying_type\"]\n",
        "X_val, y_valid =  valid.drop(columns=[\"cyberbullying_type\"]),valid[\"cyberbullying_type\"]"
      ],
      "metadata": {
        "id": "pVh8IuFTvaYb"
      },
      "execution_count": null,
      "outputs": []
    },
    {
      "cell_type": "markdown",
      "source": [
        "## Define a Count Vectorizer\n",
        "\n",
        "- Save the train_X data as the corpus to train the vecotrizer on\n",
        "- Initialize the count vectorizer\n",
        "- Fit and transformer the train data on the vecotrizer\n",
        "-  extract feature vectors"
      ],
      "metadata": {
        "id": "O82pIvZOsaR9"
      }
    },
    {
      "cell_type": "code",
      "source": [
        "\n",
        "corpus_train = X_train['clean_txt_emoji']\n",
        "vectorizer = CountVectorizer()\n",
        "X_train_vec = vectorizer.fit_transform(corpus_train)\n",
        "feat_names = vectorizer.get_feature_names_out()\n",
        "feat_names.shape\n",
        "X_train_vec.shape"
      ],
      "metadata": {
        "colab": {
          "base_uri": "https://localhost:8080/"
        },
        "id": "kR6_O1qlsZoF",
        "outputId": "08bde282-6457-4493-dcf9-66be9113d2f8"
      },
      "execution_count": null,
      "outputs": [
        {
          "output_type": "execute_result",
          "data": {
            "text/plain": [
              "(33384, 33769)"
            ]
          },
          "metadata": {},
          "execution_count": 61
        }
      ]
    },
    {
      "cell_type": "markdown",
      "source": [
        "## Transform Valid and Test Data\n",
        "\n",
        "- Transformer the validate and test corpus data on the vecotrizer\n",
        "- extract feature vectors"
      ],
      "metadata": {
        "id": "6fW-Y9pytxPy"
      }
    },
    {
      "cell_type": "code",
      "source": [
        "corpus_val = X_val['clean_txt_emoji']\n",
        "X_valid_vec = vectorizer.transform(corpus_val)\n",
        "feat_names = vectorizer.get_feature_names_out()\n",
        "print(X_valid_vec.shape)\n",
        "\n",
        "X_test_vec = vectorizer.transform(X_test['clean_txt_emoji'])\n",
        "feat_names = vectorizer.get_feature_names_out()\n",
        "print(X_test_vec.shape)"
      ],
      "metadata": {
        "colab": {
          "base_uri": "https://localhost:8080/"
        },
        "id": "Ay4rCo4mtwVg",
        "outputId": "c8304e76-6eab-49ef-a126-1bfe77c6c705"
      },
      "execution_count": null,
      "outputs": [
        {
          "output_type": "stream",
          "name": "stdout",
          "text": [
            "(7154, 33769)\n",
            "(7154, 33769)\n"
          ]
        }
      ]
    },
    {
      "cell_type": "markdown",
      "source": [
        "## Model Selection \n",
        "Code adopted from Vecotr AI institute Assignment 4 notebook\n",
        "- The function loops over the a series of `depth` to find the best hyperparameter to train the decision tree classfier on.\n",
        "\n",
        "- For each depth, the validation score, train score and model is stored in a dictionary\n",
        "\n"
      ],
      "metadata": {
        "id": "o4g7zYmGtZLO"
      }
    },
    {
      "cell_type": "code",
      "source": [
        "\n",
        "## Code adopted from Vecotr AI institute Assignment 4 notebook\n",
        "\n",
        "def select_model(depths, train_X, train_y, val_X, val_y, criteria):\n",
        "    out = {}\n",
        "    for dep in depths:\n",
        "        # Evaluating on depth\n",
        "        out[dep] = {}\n",
        "\n",
        "        tree = DecisionTreeClassifier(criterion=criteria, max_depth=dep)\n",
        "        tree = tree.fit(train_X, train_y)\n",
        "\n",
        "        # Evaluating the model in the train and val datasets\n",
        "        out[dep]['val'] = tree.score(val_X, val_y)\n",
        "        out[dep]['train'] = tree.score(train_X, train_y)\n",
        "        out[dep]['model'] = tree\n",
        "    return out\n",
        "\n"
      ],
      "metadata": {
        "id": "QOQJjAjyvs6e"
      },
      "execution_count": null,
      "outputs": []
    },
    {
      "cell_type": "markdown",
      "source": [
        "## Finding the best model\n",
        "Code adopted from Vecotr AI institute Assignment 4 notebook\n",
        "- loop through different types and sizes of decision tree to find best performer based on the accuracy of the validation score\n",
        "- Store the best model parameters and score in the `best_model` \n"
      ],
      "metadata": {
        "id": "qUzp-7MlywuH"
      }
    },
    {
      "cell_type": "code",
      "source": [
        "# loop through different types and sizes of decision tree to find best performer\n",
        "\n",
        "best_model = {}\n",
        "for criterion in (\"entropy\", \"gini\"):\n",
        "    print(\"\\nUsing criterion {}\".format(criterion))\n",
        "    res = select_model(range(5, 95, 5), X_train_vec, y_train, X_valid_vec, y_valid, criterion)\n",
        "    best_d = None\n",
        "    best_acc = 0\n",
        "    for d in res:\n",
        "        val_acc = res[d]['val']\n",
        "        print(\"Depth: {}   Train: {}    Val: {}\".format(d, res[d]['train'], val_acc))\n",
        "\n",
        "        if val_acc > best_acc:\n",
        "            best_d = d\n",
        "            best_acc = val_acc\n",
        "\n",
        "    test_score = res[best_d]['model'].score(X_test_vec, y_test)\n",
        "\n",
        "    \n",
        "    best_model[criterion] = [best_d , test_score]\n",
        "    print(\"Best depth: {}    Test: {}\".format(best_d, test_score))"
      ],
      "metadata": {
        "id": "wGt7nebpwCJ1",
        "colab": {
          "base_uri": "https://localhost:8080/"
        },
        "outputId": "7e255ff4-4dd5-4382-81fe-16402e71eabf"
      },
      "execution_count": null,
      "outputs": [
        {
          "output_type": "stream",
          "name": "stdout",
          "text": [
            "\n",
            "Using criterion entropy\n",
            "Depth: 5   Train: 0.5833632878025401    Val: 0.5802348336594912\n",
            "Depth: 10   Train: 0.6892822909178049    Val: 0.6875873637126083\n",
            "Depth: 15   Train: 0.7654864605799185    Val: 0.762510483645513\n",
            "Depth: 20   Train: 0.7989156482147136    Val: 0.787950796757059\n",
            "Depth: 25   Train: 0.8268631679846633    Val: 0.8103159071847917\n",
            "Depth: 30   Train: 0.8371675053918045    Val: 0.812971764048085\n",
            "Depth: 35   Train: 0.8434279894560268    Val: 0.815068493150685\n",
            "Depth: 40   Train: 0.8542115983704769    Val: 0.8216382443388314\n",
            "Depth: 45   Train: 0.8610412173496286    Val: 0.8234554095610848\n",
            "Depth: 50   Train: 0.8681703810208483    Val: 0.8241543192619514\n",
            "Depth: 55   Train: 0.8732925952552121    Val: 0.8249930109029914\n",
            "Depth: 60   Train: 0.8775161754133717    Val: 0.8276488677662845\n",
            "Depth: 65   Train: 0.8815600287562905    Val: 0.8254123567235113\n",
            "Depth: 70   Train: 0.8850946561226936    Val: 0.8255521386636846\n",
            "Depth: 75   Train: 0.8882099209202013    Val: 0.8263908303047246\n",
            "Depth: 80   Train: 0.890246824826264    Val: 0.8234554095610848\n",
            "Depth: 85   Train: 0.8938713156002875    Val: 0.8224769359798714\n",
            "Depth: 90   Train: 0.8965971722981069    Val: 0.8234554095610848\n",
            "Best depth: 60    Test: 0.8139502376292983\n",
            "\n",
            "Using criterion gini\n",
            "Depth: 5   Train: 0.5886951833213515    Val: 0.5831702544031311\n",
            "Depth: 10   Train: 0.69467409537503    Val: 0.689544310875035\n",
            "Depth: 15   Train: 0.7674634555475677    Val: 0.7606933184232597\n",
            "Depth: 20   Train: 0.7988257848070932    Val: 0.7820799552697791\n",
            "Depth: 25   Train: 0.8257548526240115    Val: 0.8045848476376852\n",
            "Depth: 30   Train: 0.8377965492451473    Val: 0.8110148168856584\n",
            "Depth: 35   Train: 0.8487299305056314    Val: 0.8166060944925916\n",
            "Depth: 40   Train: 0.8564282290917805    Val: 0.8182834777746715\n",
            "Depth: 45   Train: 0.8617900790797987    Val: 0.8184232597148449\n",
            "Depth: 50   Train: 0.8661634315839923    Val: 0.8210791165781381\n",
            "Depth: 55   Train: 0.8705068296189792    Val: 0.8189823874755382\n",
            "Depth: 60   Train: 0.8743410016774503    Val: 0.8224769359798714\n",
            "Depth: 65   Train: 0.8772765396597172    Val: 0.8213586804584848\n",
            "Depth: 70   Train: 0.880242032111191    Val: 0.8217780262790048\n",
            "Depth: 75   Train: 0.8830277977474239    Val: 0.821917808219178\n",
            "Depth: 80   Train: 0.8864426072369997    Val: 0.8196812971764048\n",
            "Depth: 85   Train: 0.889797507788162    Val: 0.8184232597148449\n",
            "Depth: 90   Train: 0.8921639108554996    Val: 0.8178641319541515\n",
            "Best depth: 60    Test: 0.8126922001677384\n"
          ]
        }
      ]
    },
    {
      "cell_type": "markdown",
      "source": [
        "## Select the model parameters with highest accuracy"
      ],
      "metadata": {
        "id": "dAzUtwXOzpO1"
      }
    },
    {
      "cell_type": "code",
      "source": [
        "best_model"
      ],
      "metadata": {
        "colab": {
          "base_uri": "https://localhost:8080/"
        },
        "id": "PJf-GmhK3uje",
        "outputId": "15c005f6-9b85-488e-f844-45a2c3831db5"
      },
      "execution_count": null,
      "outputs": [
        {
          "output_type": "execute_result",
          "data": {
            "text/plain": [
              "{'entropy': [60, 0.8139502376292983], 'gini': [60, 0.8126922001677384]}"
            ]
          },
          "metadata": {},
          "execution_count": 57
        }
      ]
    },
    {
      "cell_type": "code",
      "source": [
        "\n",
        "train_params= max([(value, key) for key, value in best_model.items()])\n",
        "train_params\n"
      ],
      "metadata": {
        "colab": {
          "base_uri": "https://localhost:8080/"
        },
        "id": "T0klip6E2baM",
        "outputId": "2b256a77-51b4-431a-f219-985c285fd1a8"
      },
      "execution_count": null,
      "outputs": [
        {
          "output_type": "execute_result",
          "data": {
            "text/plain": [
              "([60, 0.8139502376292983], 'entropy')"
            ]
          },
          "metadata": {},
          "execution_count": 56
        }
      ]
    },
    {
      "cell_type": "markdown",
      "source": [
        "## Train the Decision Tree with the parameters\n",
        "- Triains the model on the best hyper parameters\n",
        "- Predicts the test"
      ],
      "metadata": {
        "id": "k8QUJeAH4B_B"
      }
    },
    {
      "cell_type": "code",
      "source": [
        "# The best performing decision tree was depth 55 with gini criterion so check its confusion matrix\n",
        "best_tree = DecisionTreeClassifier(criterion=train_params[1], max_depth=train_params[0][0])\n",
        "best_tree = best_tree.fit(X_train_vec, y_train)\n",
        "y_test_predicted = best_tree.predict(X_test_vec)\n"
      ],
      "metadata": {
        "id": "uTZT4u9360f2"
      },
      "execution_count": null,
      "outputs": []
    },
    {
      "cell_type": "markdown",
      "source": [
        "## Generate a Confusion Matrix"
      ],
      "metadata": {
        "id": "BIOIHJ5p4Jpo"
      }
    },
    {
      "cell_type": "code",
      "source": [
        "# Generate a more visual representation of the confusion matrix\n",
        "cm = metrics.confusion_matrix(y_test, y_test_predicted, labels=best_tree.classes_)\n",
        "disp = metrics.ConfusionMatrixDisplay(confusion_matrix=cm, display_labels=['not', 'gender', 'religion', 'other', 'age', 'ethnicity'])\n",
        "disp.plot()\n",
        "plt.title(\"Confusion Matrix for Best Decision Tree Classifier\")\n",
        "plt.show()"
      ],
      "metadata": {
        "colab": {
          "base_uri": "https://localhost:8080/",
          "height": 294
        },
        "id": "aDSV2EGL685y",
        "outputId": "0c11c752-01a1-4310-b16d-5a69b12bdd4c"
      },
      "execution_count": null,
      "outputs": [
        {
          "output_type": "display_data",
          "data": {
            "text/plain": [
              "<Figure size 432x288 with 2 Axes>"
            ],
            "image/png": "[encoded data removed]"
          },
          "metadata": {
            "needs_background": "light"
          }
        }
      ]
    },
    {
      "cell_type": "markdown",
      "source": [
        "### Evaluating Models Performance \n"
      ],
      "metadata": {
        "id": "0-o8-OSm4dLS"
      }
    },
    {
      "cell_type": "code",
      "source": [
        "test['predicition']= y_test_predicted\n",
        "test"
      ],
      "metadata": {
        "colab": {
          "base_uri": "https://localhost:8080/",
          "height": 411
        },
        "id": "hqRus9eq4VEY",
        "outputId": "dd2c405e-1cc4-4394-a846-fd90aa750378"
      },
      "execution_count": null,
      "outputs": [
        {
          "output_type": "execute_result",
          "data": {
            "text/plain": [
              "        cyberbullying_type                                    clean_txt_emoji  \\\n",
              "24614  other_cyberbullying  wow fucking douche going hit hot even fucking ...   \n",
              "27520  other_cyberbullying  get raped drunk BlameOneNotAll YouKnowWhatMenA...   \n",
              "15706               gender       sure calls female workers fucking bitch time   \n",
              "41425            ethnicity  tell stupid ass fucks yur btwn yrs yur man sti...   \n",
              "25557  other_cyberbullying  idiots believe insecticides harmless world gon...   \n",
              "...                    ...                                                ...   \n",
              "15804               gender  think casually make jokes speak illy discredit...   \n",
              "34856                  age  one time girl bullied high school said ugly fu...   \n",
              "10308               gender  never call bad bitch aint worried bout trends ...   \n",
              "27476  other_cyberbullying                                                      \n",
              "33177                  age  little guy befriends biff school bully like be...   \n",
              "\n",
              "                prediciton          predicition  \n",
              "24614  other_cyberbullying  other_cyberbullying  \n",
              "27520  other_cyberbullying  other_cyberbullying  \n",
              "15706               gender               gender  \n",
              "41425            ethnicity            ethnicity  \n",
              "25557  other_cyberbullying  other_cyberbullying  \n",
              "...                    ...                  ...  \n",
              "15804               gender               gender  \n",
              "34856                  age                  age  \n",
              "10308               gender               gender  \n",
              "27476  other_cyberbullying  other_cyberbullying  \n",
              "33177                  age                  age  \n",
              "\n",
              "[7154 rows x 4 columns]"
            ],
            "text/html": [
              "\n",
              "  <div id=\"df-f0dce76b-29f0-46b8-afe7-74859881e9d3\">\n",
              "    <div class=\"colab-df-container\">\n",
              "      <div>\n",
              "<style scoped>\n",
              "    .dataframe tbody tr th:only-of-type {\n",
              "        vertical-align: middle;\n",
              "    }\n",
              "\n",
              "    .dataframe tbody tr th {\n",
              "        vertical-align: top;\n",
              "    }\n",
              "\n",
              "    .dataframe thead th {\n",
              "        text-align: right;\n",
              "    }\n",
              "</style>\n",
              "<table border=\"1\" class=\"dataframe\">\n",
              "  <thead>\n",
              "    <tr style=\"text-align: right;\">\n",
              "      <th></th>\n",
              "      <th>cyberbullying_type</th>\n",
              "      <th>clean_txt_emoji</th>\n",
              "      <th>prediciton</th>\n",
              "      <th>predicition</th>\n",
              "    </tr>\n",
              "  </thead>\n",
              "  <tbody>\n",
              "    <tr>\n",
              "      <th>24614</th>\n",
              "      <td>other_cyberbullying</td>\n",
              "      <td>wow fucking douche going hit hot even fucking ...</td>\n",
              "      <td>other_cyberbullying</td>\n",
              "      <td>other_cyberbullying</td>\n",
              "    </tr>\n",
              "    <tr>\n",
              "      <th>27520</th>\n",
              "      <td>other_cyberbullying</td>\n",
              "      <td>get raped drunk BlameOneNotAll YouKnowWhatMenA...</td>\n",
              "      <td>other_cyberbullying</td>\n",
              "      <td>other_cyberbullying</td>\n",
              "    </tr>\n",
              "    <tr>\n",
              "      <th>15706</th>\n",
              "      <td>gender</td>\n",
              "      <td>sure calls female workers fucking bitch time</td>\n",
              "      <td>gender</td>\n",
              "      <td>gender</td>\n",
              "    </tr>\n",
              "    <tr>\n",
              "      <th>41425</th>\n",
              "      <td>ethnicity</td>\n",
              "      <td>tell stupid ass fucks yur btwn yrs yur man sti...</td>\n",
              "      <td>ethnicity</td>\n",
              "      <td>ethnicity</td>\n",
              "    </tr>\n",
              "    <tr>\n",
              "      <th>25557</th>\n",
              "      <td>other_cyberbullying</td>\n",
              "      <td>idiots believe insecticides harmless world gon...</td>\n",
              "      <td>other_cyberbullying</td>\n",
              "      <td>other_cyberbullying</td>\n",
              "    </tr>\n",
              "    <tr>\n",
              "      <th>...</th>\n",
              "      <td>...</td>\n",
              "      <td>...</td>\n",
              "      <td>...</td>\n",
              "      <td>...</td>\n",
              "    </tr>\n",
              "    <tr>\n",
              "      <th>15804</th>\n",
              "      <td>gender</td>\n",
              "      <td>think casually make jokes speak illy discredit...</td>\n",
              "      <td>gender</td>\n",
              "      <td>gender</td>\n",
              "    </tr>\n",
              "    <tr>\n",
              "      <th>34856</th>\n",
              "      <td>age</td>\n",
              "      <td>one time girl bullied high school said ugly fu...</td>\n",
              "      <td>age</td>\n",
              "      <td>age</td>\n",
              "    </tr>\n",
              "    <tr>\n",
              "      <th>10308</th>\n",
              "      <td>gender</td>\n",
              "      <td>never call bad bitch aint worried bout trends ...</td>\n",
              "      <td>gender</td>\n",
              "      <td>gender</td>\n",
              "    </tr>\n",
              "    <tr>\n",
              "      <th>27476</th>\n",
              "      <td>other_cyberbullying</td>\n",
              "      <td></td>\n",
              "      <td>other_cyberbullying</td>\n",
              "      <td>other_cyberbullying</td>\n",
              "    </tr>\n",
              "    <tr>\n",
              "      <th>33177</th>\n",
              "      <td>age</td>\n",
              "      <td>little guy befriends biff school bully like be...</td>\n",
              "      <td>age</td>\n",
              "      <td>age</td>\n",
              "    </tr>\n",
              "  </tbody>\n",
              "</table>\n",
              "<p>7154 rows × 4 columns</p>\n",
              "</div>\n",
              "      <button class=\"colab-df-convert\" onclick=\"convertToInteractive('df-f0dce76b-29f0-46b8-afe7-74859881e9d3')\"\n",
              "              title=\"Convert this dataframe to an interactive table.\"\n",
              "              style=\"display:none;\">\n",
              "        \n",
              "  <svg xmlns=\"http://www.w3.org/2000/svg\" height=\"24px\"viewBox=\"0 0 24 24\"\n",
              "       width=\"24px\">\n",
              "    <path d=\"M0 0h24v24H0V0z\" fill=\"none\"/>\n",
              "    <path d=\"M18.56 5.44l.94 2.06.94-2.06 2.06-.94-2.06-.94-.94-2.06-.94 2.06-2.06.94zm-11 1L8.5 8.5l.94-2.06 2.06-.94-2.06-.94L8.5 2.5l-.94 2.06-2.06.94zm10 10l.94 2.06.94-2.06 2.06-.94-2.06-.94-.94-2.06-.94 2.06-2.06.94z\"/><path d=\"M17.41 7.96l-1.37-1.37c-.4-.4-.92-.59-1.43-.59-.52 0-1.04.2-1.43.59L10.3 9.45l-7.72 7.72c-.78.78-.78 2.05 0 2.83L4 21.41c.39.39.9.59 1.41.59.51 0 1.02-.2 1.41-.59l7.78-7.78 2.81-2.81c.8-.78.8-2.07 0-2.86zM5.41 20L4 18.59l7.72-7.72 1.47 1.35L5.41 20z\"/>\n",
              "  </svg>\n",
              "      </button>\n",
              "      \n",
              "  <style>\n",
              "    .colab-df-container {\n",
              "      display:flex;\n",
              "      flex-wrap:wrap;\n",
              "      gap: 12px;\n",
              "    }\n",
              "\n",
              "    .colab-df-convert {\n",
              "      background-color: #E8F0FE;\n",
              "      border: none;\n",
              "      border-radius: 50%;\n",
              "      cursor: pointer;\n",
              "      display: none;\n",
              "      fill: #1967D2;\n",
              "      height: 32px;\n",
              "      padding: 0 0 0 0;\n",
              "      width: 32px;\n",
              "    }\n",
              "\n",
              "    .colab-df-convert:hover {\n",
              "      background-color: #E2EBFA;\n",
              "      box-shadow: 0px 1px 2px rgba(60, 64, 67, 0.3), 0px 1px 3px 1px rgba(60, 64, 67, 0.15);\n",
              "      fill: #174EA6;\n",
              "    }\n",
              "\n",
              "    [theme=dark] .colab-df-convert {\n",
              "      background-color: #3B4455;\n",
              "      fill: #D2E3FC;\n",
              "    }\n",
              "\n",
              "    [theme=dark] .colab-df-convert:hover {\n",
              "      background-color: #434B5C;\n",
              "      box-shadow: 0px 1px 3px 1px rgba(0, 0, 0, 0.15);\n",
              "      filter: drop-shadow(0px 1px 2px rgba(0, 0, 0, 0.3));\n",
              "      fill: #FFFFFF;\n",
              "    }\n",
              "  </style>\n",
              "\n",
              "      <script>\n",
              "        const buttonEl =\n",
              "          document.querySelector('#df-f0dce76b-29f0-46b8-afe7-74859881e9d3 button.colab-df-convert');\n",
              "        buttonEl.style.display =\n",
              "          google.colab.kernel.accessAllowed ? 'block' : 'none';\n",
              "\n",
              "        async function convertToInteractive(key) {\n",
              "          const element = document.querySelector('#df-f0dce76b-29f0-46b8-afe7-74859881e9d3');\n",
              "          const dataTable =\n",
              "            await google.colab.kernel.invokeFunction('convertToInteractive',\n",
              "                                                     [key], {});\n",
              "          if (!dataTable) return;\n",
              "\n",
              "          const docLinkHtml = 'Like what you see? Visit the ' +\n",
              "            '<a target=\"_blank\" href=https://colab.research.google.com/notebooks/data_table.ipynb>data table notebook</a>'\n",
              "            + ' to learn more about interactive tables.';\n",
              "          element.innerHTML = '';\n",
              "          dataTable['output_type'] = 'display_data';\n",
              "          await google.colab.output.renderOutput(dataTable, element);\n",
              "          const docLink = document.createElement('div');\n",
              "          docLink.innerHTML = docLinkHtml;\n",
              "          element.appendChild(docLink);\n",
              "        }\n",
              "      </script>\n",
              "    </div>\n",
              "  </div>\n",
              "  "
            ]
          },
          "metadata": {},
          "execution_count": 75
        }
      ]
    },
    {
      "cell_type": "code",
      "source": [
        "test[test.predicition != test.cyberbullying_type]"
      ],
      "metadata": {
        "colab": {
          "base_uri": "https://localhost:8080/",
          "height": 411
        },
        "id": "m3fyUkmF5AU9",
        "outputId": "20a4e6bf-da92-4200-a33f-26e7d78db14c"
      },
      "execution_count": null,
      "outputs": [
        {
          "output_type": "execute_result",
          "data": {
            "text/plain": [
              "        cyberbullying_type                                    clean_txt_emoji  \\\n",
              "15087               gender                                                mkr   \n",
              "28219  other_cyberbullying                           bullying giant wasp mean   \n",
              "33390                  age                                         school fag   \n",
              "26056  other_cyberbullying  dad fake fooling public screwing folks literal...   \n",
              "881      not_cyberbullying                      lol you worries one safe ones   \n",
              "...                    ...                                                ...   \n",
              "7282     not_cyberbullying  new rule old rule cannot leader movement oppre...   \n",
              "5274     not_cyberbullying  people like give feminists bad name wrong best...   \n",
              "19069             religion  three translations quran microbrain know far i...   \n",
              "2003     not_cyberbullying  amazing awesome folks emailed regrouping discu...   \n",
              "12183               gender  right wanker even enough space five tweets poi...   \n",
              "\n",
              "                prediciton          predicition  \n",
              "15087    not_cyberbullying    not_cyberbullying  \n",
              "28219    not_cyberbullying    not_cyberbullying  \n",
              "33390    not_cyberbullying    not_cyberbullying  \n",
              "26056                  age                  age  \n",
              "881    other_cyberbullying  other_cyberbullying  \n",
              "...                    ...                  ...  \n",
              "7282   other_cyberbullying  other_cyberbullying  \n",
              "5274                gender               gender  \n",
              "19069    not_cyberbullying    not_cyberbullying  \n",
              "2003   other_cyberbullying  other_cyberbullying  \n",
              "12183  other_cyberbullying  other_cyberbullying  \n",
              "\n",
              "[1321 rows x 4 columns]"
            ],
            "text/html": [
              "\n",
              "  <div id=\"df-19eb000e-8735-4e7c-b746-89bedda24a08\">\n",
              "    <div class=\"colab-df-container\">\n",
              "      <div>\n",
              "<style scoped>\n",
              "    .dataframe tbody tr th:only-of-type {\n",
              "        vertical-align: middle;\n",
              "    }\n",
              "\n",
              "    .dataframe tbody tr th {\n",
              "        vertical-align: top;\n",
              "    }\n",
              "\n",
              "    .dataframe thead th {\n",
              "        text-align: right;\n",
              "    }\n",
              "</style>\n",
              "<table border=\"1\" class=\"dataframe\">\n",
              "  <thead>\n",
              "    <tr style=\"text-align: right;\">\n",
              "      <th></th>\n",
              "      <th>cyberbullying_type</th>\n",
              "      <th>clean_txt_emoji</th>\n",
              "      <th>prediciton</th>\n",
              "      <th>predicition</th>\n",
              "    </tr>\n",
              "  </thead>\n",
              "  <tbody>\n",
              "    <tr>\n",
              "      <th>15087</th>\n",
              "      <td>gender</td>\n",
              "      <td>mkr</td>\n",
              "      <td>not_cyberbullying</td>\n",
              "      <td>not_cyberbullying</td>\n",
              "    </tr>\n",
              "    <tr>\n",
              "      <th>28219</th>\n",
              "      <td>other_cyberbullying</td>\n",
              "      <td>bullying giant wasp mean</td>\n",
              "      <td>not_cyberbullying</td>\n",
              "      <td>not_cyberbullying</td>\n",
              "    </tr>\n",
              "    <tr>\n",
              "      <th>33390</th>\n",
              "      <td>age</td>\n",
              "      <td>school fag</td>\n",
              "      <td>not_cyberbullying</td>\n",
              "      <td>not_cyberbullying</td>\n",
              "    </tr>\n",
              "    <tr>\n",
              "      <th>26056</th>\n",
              "      <td>other_cyberbullying</td>\n",
              "      <td>dad fake fooling public screwing folks literal...</td>\n",
              "      <td>age</td>\n",
              "      <td>age</td>\n",
              "    </tr>\n",
              "    <tr>\n",
              "      <th>881</th>\n",
              "      <td>not_cyberbullying</td>\n",
              "      <td>lol you worries one safe ones</td>\n",
              "      <td>other_cyberbullying</td>\n",
              "      <td>other_cyberbullying</td>\n",
              "    </tr>\n",
              "    <tr>\n",
              "      <th>...</th>\n",
              "      <td>...</td>\n",
              "      <td>...</td>\n",
              "      <td>...</td>\n",
              "      <td>...</td>\n",
              "    </tr>\n",
              "    <tr>\n",
              "      <th>7282</th>\n",
              "      <td>not_cyberbullying</td>\n",
              "      <td>new rule old rule cannot leader movement oppre...</td>\n",
              "      <td>other_cyberbullying</td>\n",
              "      <td>other_cyberbullying</td>\n",
              "    </tr>\n",
              "    <tr>\n",
              "      <th>5274</th>\n",
              "      <td>not_cyberbullying</td>\n",
              "      <td>people like give feminists bad name wrong best...</td>\n",
              "      <td>gender</td>\n",
              "      <td>gender</td>\n",
              "    </tr>\n",
              "    <tr>\n",
              "      <th>19069</th>\n",
              "      <td>religion</td>\n",
              "      <td>three translations quran microbrain know far i...</td>\n",
              "      <td>not_cyberbullying</td>\n",
              "      <td>not_cyberbullying</td>\n",
              "    </tr>\n",
              "    <tr>\n",
              "      <th>2003</th>\n",
              "      <td>not_cyberbullying</td>\n",
              "      <td>amazing awesome folks emailed regrouping discu...</td>\n",
              "      <td>other_cyberbullying</td>\n",
              "      <td>other_cyberbullying</td>\n",
              "    </tr>\n",
              "    <tr>\n",
              "      <th>12183</th>\n",
              "      <td>gender</td>\n",
              "      <td>right wanker even enough space five tweets poi...</td>\n",
              "      <td>other_cyberbullying</td>\n",
              "      <td>other_cyberbullying</td>\n",
              "    </tr>\n",
              "  </tbody>\n",
              "</table>\n",
              "<p>1321 rows × 4 columns</p>\n",
              "</div>\n",
              "      <button class=\"colab-df-convert\" onclick=\"convertToInteractive('df-19eb000e-8735-4e7c-b746-89bedda24a08')\"\n",
              "              title=\"Convert this dataframe to an interactive table.\"\n",
              "              style=\"display:none;\">\n",
              "        \n",
              "  <svg xmlns=\"http://www.w3.org/2000/svg\" height=\"24px\"viewBox=\"0 0 24 24\"\n",
              "       width=\"24px\">\n",
              "    <path d=\"M0 0h24v24H0V0z\" fill=\"none\"/>\n",
              "    <path d=\"M18.56 5.44l.94 2.06.94-2.06 2.06-.94-2.06-.94-.94-2.06-.94 2.06-2.06.94zm-11 1L8.5 8.5l.94-2.06 2.06-.94-2.06-.94L8.5 2.5l-.94 2.06-2.06.94zm10 10l.94 2.06.94-2.06 2.06-.94-2.06-.94-.94-2.06-.94 2.06-2.06.94z\"/><path d=\"M17.41 7.96l-1.37-1.37c-.4-.4-.92-.59-1.43-.59-.52 0-1.04.2-1.43.59L10.3 9.45l-7.72 7.72c-.78.78-.78 2.05 0 2.83L4 21.41c.39.39.9.59 1.41.59.51 0 1.02-.2 1.41-.59l7.78-7.78 2.81-2.81c.8-.78.8-2.07 0-2.86zM5.41 20L4 18.59l7.72-7.72 1.47 1.35L5.41 20z\"/>\n",
              "  </svg>\n",
              "      </button>\n",
              "      \n",
              "  <style>\n",
              "    .colab-df-container {\n",
              "      display:flex;\n",
              "      flex-wrap:wrap;\n",
              "      gap: 12px;\n",
              "    }\n",
              "\n",
              "    .colab-df-convert {\n",
              "      background-color: #E8F0FE;\n",
              "      border: none;\n",
              "      border-radius: 50%;\n",
              "      cursor: pointer;\n",
              "      display: none;\n",
              "      fill: #1967D2;\n",
              "      height: 32px;\n",
              "      padding: 0 0 0 0;\n",
              "      width: 32px;\n",
              "    }\n",
              "\n",
              "    .colab-df-convert:hover {\n",
              "      background-color: #E2EBFA;\n",
              "      box-shadow: 0px 1px 2px rgba(60, 64, 67, 0.3), 0px 1px 3px 1px rgba(60, 64, 67, 0.15);\n",
              "      fill: #174EA6;\n",
              "    }\n",
              "\n",
              "    [theme=dark] .colab-df-convert {\n",
              "      background-color: #3B4455;\n",
              "      fill: #D2E3FC;\n",
              "    }\n",
              "\n",
              "    [theme=dark] .colab-df-convert:hover {\n",
              "      background-color: #434B5C;\n",
              "      box-shadow: 0px 1px 3px 1px rgba(0, 0, 0, 0.15);\n",
              "      filter: drop-shadow(0px 1px 2px rgba(0, 0, 0, 0.3));\n",
              "      fill: #FFFFFF;\n",
              "    }\n",
              "  </style>\n",
              "\n",
              "      <script>\n",
              "        const buttonEl =\n",
              "          document.querySelector('#df-19eb000e-8735-4e7c-b746-89bedda24a08 button.colab-df-convert');\n",
              "        buttonEl.style.display =\n",
              "          google.colab.kernel.accessAllowed ? 'block' : 'none';\n",
              "\n",
              "        async function convertToInteractive(key) {\n",
              "          const element = document.querySelector('#df-19eb000e-8735-4e7c-b746-89bedda24a08');\n",
              "          const dataTable =\n",
              "            await google.colab.kernel.invokeFunction('convertToInteractive',\n",
              "                                                     [key], {});\n",
              "          if (!dataTable) return;\n",
              "\n",
              "          const docLinkHtml = 'Like what you see? Visit the ' +\n",
              "            '<a target=\"_blank\" href=https://colab.research.google.com/notebooks/data_table.ipynb>data table notebook</a>'\n",
              "            + ' to learn more about interactive tables.';\n",
              "          element.innerHTML = '';\n",
              "          dataTable['output_type'] = 'display_data';\n",
              "          await google.colab.output.renderOutput(dataTable, element);\n",
              "          const docLink = document.createElement('div');\n",
              "          docLink.innerHTML = docLinkHtml;\n",
              "          element.appendChild(docLink);\n",
              "        }\n",
              "      </script>\n",
              "    </div>\n",
              "  </div>\n",
              "  "
            ]
          },
          "metadata": {},
          "execution_count": 76
        }
      ]
    },
    {
      "cell_type": "markdown",
      "source": [
        "### Conclusion \n",
        "\n",
        "- The Decision Tree Predicts a total of 1321 rows incorrectly\n"
      ],
      "metadata": {
        "id": "jZ31Hb8A5va_"
      }
    }
  ]
}