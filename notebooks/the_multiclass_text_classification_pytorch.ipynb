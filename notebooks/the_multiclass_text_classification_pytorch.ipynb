{
  "cells": [
    {
      "cell_type": "markdown",
      "metadata": {
        "id": "view-in-github",
        "colab_type": "text"
      },
      "source": [
        "<a href=\"https://colab.research.google.com/github/thayeylolu/cyberbullying/blob/main/notebooks/the_multiclass_text_classification_pytorch.ipynb\" target=\"_parent\"><img src=\"https://colab.research.google.com/assets/colab-badge.svg\" alt=\"Open In Colab\"/></a>"
      ]
    },
    {
      "cell_type": "markdown",
      "metadata": {
        "id": "lfOyN5Nafcoo"
      },
      "source": [
        "## IMPORTS "
      ]
    },
    {
      "cell_type": "markdown",
      "source": [
        "### Installation\n",
        "- install torchtext and scikit plot\n"
      ],
      "metadata": {
        "id": "AiK2VevD2zvP"
      }
    },
    {
      "cell_type": "code",
      "execution_count": 1,
      "metadata": {
        "id": "ffhmIaUEjF3U",
        "colab": {
          "base_uri": "https://localhost:8080/"
        },
        "outputId": "faa32819-38db-40c5-a874-d50cc2ca21bb"
      },
      "outputs": [
        {
          "output_type": "stream",
          "name": "stdout",
          "text": [
            "Looking in indexes: https://pypi.org/simple, https://us-python.pkg.dev/colab-wheels/public/simple/\n",
            "Collecting torchtext==0.10.0\n",
            "  Downloading torchtext-0.10.0-cp37-cp37m-manylinux1_x86_64.whl (7.6 MB)\n",
            "\u001b[K     |████████████████████████████████| 7.6 MB 10.6 MB/s \n",
            "\u001b[?25hCollecting torch==1.9.0\n",
            "  Downloading torch-1.9.0-cp37-cp37m-manylinux1_x86_64.whl (831.4 MB)\n",
            "\u001b[K     |████████████████████████████████| 831.4 MB 2.6 kB/s \n",
            "\u001b[?25hRequirement already satisfied: tqdm in /usr/local/lib/python3.7/dist-packages (from torchtext==0.10.0) (4.64.1)\n",
            "Requirement already satisfied: numpy in /usr/local/lib/python3.7/dist-packages (from torchtext==0.10.0) (1.21.6)\n",
            "Requirement already satisfied: requests in /usr/local/lib/python3.7/dist-packages (from torchtext==0.10.0) (2.23.0)\n",
            "Requirement already satisfied: typing-extensions in /usr/local/lib/python3.7/dist-packages (from torch==1.9.0->torchtext==0.10.0) (4.1.1)\n",
            "Requirement already satisfied: chardet<4,>=3.0.2 in /usr/local/lib/python3.7/dist-packages (from requests->torchtext==0.10.0) (3.0.4)\n",
            "Requirement already satisfied: idna<3,>=2.5 in /usr/local/lib/python3.7/dist-packages (from requests->torchtext==0.10.0) (2.10)\n",
            "Requirement already satisfied: certifi>=2017.4.17 in /usr/local/lib/python3.7/dist-packages (from requests->torchtext==0.10.0) (2022.9.24)\n",
            "Requirement already satisfied: urllib3!=1.25.0,!=1.25.1,<1.26,>=1.21.1 in /usr/local/lib/python3.7/dist-packages (from requests->torchtext==0.10.0) (1.24.3)\n",
            "Installing collected packages: torch, torchtext\n",
            "  Attempting uninstall: torch\n",
            "    Found existing installation: torch 1.12.1+cu113\n",
            "    Uninstalling torch-1.12.1+cu113:\n",
            "      Successfully uninstalled torch-1.12.1+cu113\n",
            "  Attempting uninstall: torchtext\n",
            "    Found existing installation: torchtext 0.13.1\n",
            "    Uninstalling torchtext-0.13.1:\n",
            "      Successfully uninstalled torchtext-0.13.1\n",
            "\u001b[31mERROR: pip's dependency resolver does not currently take into account all the packages that are installed. This behaviour is the source of the following dependency conflicts.\n",
            "torchvision 0.13.1+cu113 requires torch==1.12.1, but you have torch 1.9.0 which is incompatible.\n",
            "torchaudio 0.12.1+cu113 requires torch==1.12.1, but you have torch 1.9.0 which is incompatible.\u001b[0m\n",
            "Successfully installed torch-1.9.0 torchtext-0.10.0\n"
          ]
        }
      ],
      "source": [
        "!pip install torchtext==0.10.0"
      ]
    },
    {
      "cell_type": "code",
      "source": [
        "!pip install scikit-plot"
      ],
      "metadata": {
        "colab": {
          "base_uri": "https://localhost:8080/"
        },
        "id": "fw6neJP75c6o",
        "outputId": "7476dfa3-f37c-4513-fefd-6e69b482da30"
      },
      "execution_count": 2,
      "outputs": [
        {
          "output_type": "stream",
          "name": "stdout",
          "text": [
            "Looking in indexes: https://pypi.org/simple, https://us-python.pkg.dev/colab-wheels/public/simple/\n",
            "Collecting scikit-plot\n",
            "  Downloading scikit_plot-0.3.7-py3-none-any.whl (33 kB)\n",
            "Requirement already satisfied: scikit-learn>=0.18 in /usr/local/lib/python3.7/dist-packages (from scikit-plot) (1.0.2)\n",
            "Requirement already satisfied: scipy>=0.9 in /usr/local/lib/python3.7/dist-packages (from scikit-plot) (1.7.3)\n",
            "Requirement already satisfied: joblib>=0.10 in /usr/local/lib/python3.7/dist-packages (from scikit-plot) (1.2.0)\n",
            "Requirement already satisfied: matplotlib>=1.4.0 in /usr/local/lib/python3.7/dist-packages (from scikit-plot) (3.2.2)\n",
            "Requirement already satisfied: kiwisolver>=1.0.1 in /usr/local/lib/python3.7/dist-packages (from matplotlib>=1.4.0->scikit-plot) (1.4.4)\n",
            "Requirement already satisfied: python-dateutil>=2.1 in /usr/local/lib/python3.7/dist-packages (from matplotlib>=1.4.0->scikit-plot) (2.8.2)\n",
            "Requirement already satisfied: cycler>=0.10 in /usr/local/lib/python3.7/dist-packages (from matplotlib>=1.4.0->scikit-plot) (0.11.0)\n",
            "Requirement already satisfied: pyparsing!=2.0.4,!=2.1.2,!=2.1.6,>=2.0.1 in /usr/local/lib/python3.7/dist-packages (from matplotlib>=1.4.0->scikit-plot) (3.0.9)\n",
            "Requirement already satisfied: numpy>=1.11 in /usr/local/lib/python3.7/dist-packages (from matplotlib>=1.4.0->scikit-plot) (1.21.6)\n",
            "Requirement already satisfied: typing-extensions in /usr/local/lib/python3.7/dist-packages (from kiwisolver>=1.0.1->matplotlib>=1.4.0->scikit-plot) (4.1.1)\n",
            "Requirement already satisfied: six>=1.5 in /usr/local/lib/python3.7/dist-packages (from python-dateutil>=2.1->matplotlib>=1.4.0->scikit-plot) (1.15.0)\n",
            "Requirement already satisfied: threadpoolctl>=2.0.0 in /usr/local/lib/python3.7/dist-packages (from scikit-learn>=0.18->scikit-plot) (3.1.0)\n",
            "Installing collected packages: scikit-plot\n",
            "Successfully installed scikit-plot-0.3.7\n"
          ]
        }
      ]
    },
    {
      "cell_type": "markdown",
      "source": [
        "### Import Libaries"
      ],
      "metadata": {
        "id": "8nAL_PbM3Ah2"
      }
    },
    {
      "cell_type": "code",
      "execution_count": 3,
      "metadata": {
        "id": "oHJmluYHfcos",
        "scrolled": true
      },
      "outputs": [],
      "source": [
        "import scikitplot as skplt\n",
        "import random\n",
        "import time\n",
        "import pandas as pd\n",
        "import numpy as np\n",
        "import re\n",
        "import os \n",
        "import torch\n",
        "import torch.nn as nn\n",
        "import torch.optim as optim\n",
        "import plotly.express as px\n",
        "import torch.nn.functional as F\n",
        "import matplotlib.pyplot as plt\n",
        "\n",
        "from torch.utils.data import Dataset, DataLoader\n",
        "from sklearn.model_selection import train_test_split\n",
        "\n",
        "from keras.preprocessing.text import Tokenizer\n",
        "from keras_preprocessing.sequence import pad_sequences\n",
        "\n",
        "from torch.optim.optimizer import Optimizer\n",
        "from multiprocessing import  Pool\n",
        "\n"
      ]
    },
    {
      "cell_type": "markdown",
      "source": [
        "### Mount Google Drive"
      ],
      "metadata": {
        "id": "pUq4i40kkGT7"
      }
    },
    {
      "cell_type": "code",
      "execution_count": 4,
      "metadata": {
        "id": "xcRJ3dxxfcov",
        "colab": {
          "base_uri": "https://localhost:8080/"
        },
        "outputId": "b93ba33d-8d49-41d3-ace4-c412481a9641"
      },
      "outputs": [
        {
          "output_type": "stream",
          "name": "stdout",
          "text": [
            "Mounted at /content/drive\n"
          ]
        }
      ],
      "source": [
        "from google.colab import drive\n",
        "drive.mount('/content/drive')"
      ]
    },
    {
      "cell_type": "markdown",
      "source": [
        "### Url to data"
      ],
      "metadata": {
        "id": "kBpTJ6R6kOmw"
      }
    },
    {
      "cell_type": "code",
      "execution_count": 5,
      "metadata": {
        "id": "3VX-R3fBfcov"
      },
      "outputs": [],
      "source": [
        "url = \"/content/drive/MyDrive/NLP/train_data.csv\"\n"
      ]
    },
    {
      "cell_type": "markdown",
      "source": [
        "### Load and Split Data\n",
        "- define random seeds\n",
        "- read csv file path using a pandas\n",
        "- drop empty rows \n",
        "- select `cyberbullying_type`, `clean_txt_emoji` only\n",
        "- split data into train, test and valid \n"
      ],
      "metadata": {
        "id": "sxVb97Rgkgbw"
      }
    },
    {
      "cell_type": "code",
      "execution_count": 6,
      "metadata": {
        "id": "ysDfF3ATfcow"
      },
      "outputs": [],
      "source": [
        "np.random.seed(3040)\n",
        "random.seed(3040)\n",
        "torch.manual_seed(3040) \n",
        "\n",
        "df = pd.read_csv(url)\n",
        "df = df.dropna()\n",
        "df = df[['cyberbullying_type', 'clean_txt_emoji']]\n",
        "\n",
        "train, test_valid = train_test_split(df,train_size= 0.70, random_state= 3040)\n",
        "test, valid = train_test_split(test_valid,train_size= .50, random_state= 3040)\n"
      ]
    },
    {
      "cell_type": "markdown",
      "source": [
        "### Prepare Data For DataLoading and Tokenization\n",
        "\n"
      ],
      "metadata": {
        "id": "758fPMBxk05e"
      }
    },
    {
      "cell_type": "code",
      "source": [
        "train_X, train_y = train['clean_txt_emoji'].to_list(), train['cyberbullying_type'].to_list()\n",
        "test_X, test_y = test['clean_txt_emoji'].to_list(), test['cyberbullying_type'].to_list()\n",
        "valid_X, valid_y = valid['clean_txt_emoji'].to_list(), valid['cyberbullying_type'].to_list()\n",
        "\n",
        "train_dat =list(zip(train_y,train_X))\n",
        "valid_dat =list(zip(valid_y,valid_X))\n",
        "test_dat=list(zip(test_y,test_X))"
      ],
      "metadata": {
        "id": "uwdzmgcukacN"
      },
      "execution_count": 7,
      "outputs": []
    },
    {
      "cell_type": "code",
      "source": [
        "import math\n",
        "embed_size = 300 #() how big is each word vector\n",
        "max_features = math.trunc(len(list( train['clean_txt_emoji'].str.split(' ', expand=True).stack().unique())))/2 # the unique words divided by 2 because some words could occur once\n",
        "maxlen = 750 # max number of words \n",
        "batch_size = 512 # how many samples to process at once\n",
        "n_epochs = 5 # how many times to iterate over all samples\n",
        "n_splits = 5 # Number of Splits\n",
        "SEED = 3040\n",
        "debug = 0"
      ],
      "metadata": {
        "id": "Q5O6omBd225Z"
      },
      "execution_count": 8,
      "outputs": []
    },
    {
      "cell_type": "code",
      "source": [
        "max_features = math.trunc(max_features)"
      ],
      "metadata": {
        "id": "LtU64Vp3iVeG"
      },
      "execution_count": 9,
      "outputs": []
    },
    {
      "cell_type": "markdown",
      "source": [
        "## Tokenization\n",
        "\n",
        "- define a tokenizer\n",
        "- fit the train data to it\n",
        "- Create a sequence and pad the sequence for the trian, test and validate dataset"
      ],
      "metadata": {
        "id": "br_TVlRG7LQh"
      }
    },
    {
      "cell_type": "code",
      "execution_count": 10,
      "metadata": {
        "id": "LBbg9gogfco0"
      },
      "outputs": [],
      "source": [
        "## Tokenize the sentences\n",
        "tokenizer = Tokenizer(num_words=max_features)\n",
        "tokenizer.fit_on_texts(list(train_X))\n",
        "\n",
        "train_X = tokenizer.texts_to_sequences(train_X)\n",
        "test_X = tokenizer.texts_to_sequences(test_X)\n",
        "valid_X = tokenizer.texts_to_sequences(valid_X)\n",
        "\n",
        "## Pad the sentences \n",
        "train_X = pad_sequences(train_X, maxlen=maxlen)\n",
        "test_X = pad_sequences(test_X, maxlen=maxlen)\n",
        "valid_X = pad_sequences(valid_X, maxlen=maxlen)"
      ]
    },
    {
      "cell_type": "markdown",
      "source": [
        "### Encode Label(CyberBullying Type) to numbers\n",
        "\n",
        "- define a label encoder for the `cyberbullying_type`.\n",
        "- fit and transform it on the train data\n",
        "- apply the transform to the test and valid data"
      ],
      "metadata": {
        "id": "_YD_yPobk_ew"
      }
    },
    {
      "cell_type": "code",
      "execution_count": 11,
      "metadata": {
        "id": "iXVEe6gmfco0"
      },
      "outputs": [],
      "source": [
        "from sklearn.preprocessing import LabelEncoder\n",
        "le = LabelEncoder()\n",
        "train_y = le.fit_transform(train_y)\n",
        "test_y = le.transform(test_y)\n",
        "valid_y = le.transform(valid_y)"
      ]
    },
    {
      "cell_type": "markdown",
      "metadata": {
        "id": "bXURIFJofco0"
      },
      "source": [
        "### Load Embeddings\n",
        "\n",
        "- download glove embedding text from ttp://nlp.stanford.edu/data/glove.840B.300d.zip\n",
        "- save it in google drive path `/content/drive/MyDrive/NLP/`\n"
      ]
    },
    {
      "cell_type": "code",
      "execution_count": 12,
      "metadata": {
        "id": "ziRx_jrrx8Q5"
      },
      "outputs": [],
      "source": [
        "!wget http://nlp.stanford.edu/data/glove.840B.300d.zip\n",
        "!unzip glove*.zip\n",
        "!ls\n",
        "!pwd\n",
        "\n",
        "import zipfile\n",
        "with zipfile.ZipFile('glove.840B.300d.zip', 'r') as zip_ref:\n",
        "    zip_ref.extractall('/content/drive/MyDrive/NLP/')"
      ]
    },
    {
      "cell_type": "markdown",
      "source": [
        "### Function to Embed Data\n",
        "- code adopted from  https://www.kaggle.com/gmhost/gru-capsule"
      ],
      "metadata": {
        "id": "XqPkayDqlPu4"
      }
    },
    {
      "cell_type": "code",
      "execution_count": 13,
      "metadata": {
        "id": "Gu5xxMP4fco0"
      },
      "outputs": [],
      "source": [
        "## FUNCTIONS TAKEN FROM https://www.kaggle.com/gmhost/gru-capsule\n",
        "\n",
        "def load_glove(word_index, embed_size):\n",
        "    EMBEDDING_FILE = '/content/drive/MyDrive/NLP/glove.840B.300d.txt'\n",
        "    def get_coefs(word,*arr): return word, np.asarray(arr, dtype='float32')[:embed_size]\n",
        "    embeddings_index = dict(get_coefs(*o.split(\" \")) for o in open(EMBEDDING_FILE))\n",
        "    \n",
        "    all_embs = np.stack(embeddings_index.values())\n",
        "    emb_mean,emb_std = -0.005838499,0.48782197\n",
        "    embed_size = all_embs.shape[1]\n",
        "\n",
        "    nb_words = min(max_features, len(word_index)+1)\n",
        "    embedding_matrix = np.random.normal(emb_mean, emb_std, (nb_words, embed_size))\n",
        "    \n",
        "    for word, i in word_index.items():\n",
        "        if i >= max_features: continue\n",
        "        embedding_vector = embeddings_index.get(word)\n",
        "        if embedding_vector is not None: \n",
        "            embedding_matrix[i] = embedding_vector\n",
        "        else:\n",
        "            embedding_vector = embeddings_index.get(word.capitalize())\n",
        "            if embedding_vector is not None: \n",
        "                embedding_matrix[i] = embedding_vector\n",
        "    return embedding_matrix"
      ]
    },
    {
      "cell_type": "markdown",
      "source": [
        "### Embed Vectors\n",
        "- missing entries in the embedding are set using np.random.normal so we have to seed here too"
      ],
      "metadata": {
        "id": "18HCvI4SlYiM"
      }
    },
    {
      "cell_type": "code",
      "execution_count": 14,
      "metadata": {
        "id": "GBW5IpTufco0",
        "scrolled": true,
        "colab": {
          "base_uri": "https://localhost:8080/"
        },
        "outputId": "48f052e6-5107-4305-a3ef-5ab8c4c9bb0b"
      },
      "outputs": [
        {
          "output_type": "stream",
          "name": "stderr",
          "text": [
            "/usr/local/lib/python3.7/dist-packages/IPython/core/interactiveshell.py:3326: FutureWarning: arrays to stack must be passed as a \"sequence\" type such as list or tuple. Support for non-sequence iterables such as generators is deprecated as of NumPy 1.16 and will raise an error in the future.\n",
            "  exec(code_obj, self.user_global_ns, self.user_ns)\n"
          ]
        }
      ],
      "source": [
        "\n",
        "\n",
        "if debug:\n",
        "    embedding_matrix = np.random.randn(max_features, embed_size)\n",
        "else:\n",
        "    embedding_matrix = load_glove(tokenizer.word_index, embed_size)"
      ]
    },
    {
      "cell_type": "markdown",
      "metadata": {
        "id": "f8xkUuwKfco0"
      },
      "source": [
        "## Pytorch Model - TextCNN\n",
        "\n",
        "Initializing the`Text CNN` \n",
        "- Create a list of kernel with different window sizes to be used during convultion\n",
        "- Initialize Embedding Layer's weight by generating parameters from `embedding_matrix` created earlier\n",
        "- `self.embedding.weight.requires_grad` is set to False because we dont want to train the embeddings weights during model training\n",
        "\n",
        "- Input channel of 1,  non-square kernels and an output channel of `num_filters`\n",
        "- We generated several convolution layers each having different kernel(filter) and stored  layers in a Module list\n",
        "-  We set a dropout of 0.1 \n",
        "- We finally created a fully connected network by passing the parameters to the last layer which is a linear layer< output layer>\n",
        "\n",
        "\n"
      ]
    },
    {
      "cell_type": "code",
      "execution_count": 15,
      "metadata": {
        "id": "U54fX9F3fco0"
      },
      "outputs": [],
      "source": [
        "class CNN_Text(nn.Module):\n",
        "    \n",
        "    def __init__(self):\n",
        "        super(CNN_Text, self).__init__()\n",
        "        filter_sizes = [1,2,3,5]\n",
        "        num_filters = 36\n",
        "        n_classes = len(le.classes_)\n",
        "        self.embedding = nn.Embedding(max_features, embed_size)\n",
        "        self.embedding.weight = nn.Parameter(torch.tensor(embedding_matrix, dtype=torch.float32))\n",
        "        self.embedding.weight.requires_grad = False\n",
        "        self.convs1 = nn.ModuleList([nn.Conv2d(1, num_filters, (K, embed_size)) for K in filter_sizes])\n",
        "        self.dropout = nn.Dropout(0.1)\n",
        "        self.fc1 = nn.Linear(len(filter_sizes)*num_filters, n_classes)\n",
        "\n",
        "\n",
        "    def forward(self, x):\n",
        "        x = self.embedding(x)  \n",
        "        x = x.unsqueeze(1)  \n",
        "        x = [F.relu(conv(x)).squeeze(3) for conv in self.convs1] \n",
        "        x = [F.max_pool1d(i, i.size(2)).squeeze(2) for i in x]  \n",
        "        x = torch.cat(x, 1)\n",
        "        x = self.dropout(x)  \n",
        "        logit = self.fc1(x) \n",
        "        return logit"
      ]
    },
    {
      "cell_type": "markdown",
      "metadata": {
        "id": "BJaicMw-fco1"
      },
      "source": [
        "## Train TextCNN Model\n",
        "- set the random seeds\n",
        "- define or initialize the `CNN_Text()` model class\n",
        "- define loss function ` nn.CrossEntropyLoss()`\n",
        "- define adam optimizer and learning rate\n",
        "- send the model to the current device `cuda`\n",
        "- load train and valid in CUDA Memory\n",
        "- create Torch datasets for train and validate dataset\n",
        "- initalize loss list for train and loss\n",
        "- train model "
      ]
    },
    {
      "cell_type": "code",
      "execution_count": 16,
      "metadata": {
        "id": "qPQsI2i_fco1",
        "colab": {
          "base_uri": "https://localhost:8080/"
        },
        "outputId": "60f6c53e-0b8d-4ae6-e697-d19d82b029eb"
      },
      "outputs": [
        {
          "output_type": "stream",
          "name": "stderr",
          "text": [
            "/usr/local/lib/python3.7/dist-packages/torch/nn/functional.py:652: UserWarning: Named tensors and all their associated APIs are an experimental feature and subject to change. Please do not use them for anything important until they are released as stable. (Triggered internally at  /pytorch/c10/core/TensorImpl.h:1156.)\n",
            "  return torch.max_pool1d(input, kernel_size, stride, padding, dilation, ceil_mode)\n",
            "/usr/local/lib/python3.7/dist-packages/ipykernel_launcher.py:54: UserWarning: Implicit dimension choice for softmax has been deprecated. Change the call to include dim=X as an argument.\n"
          ]
        },
        {
          "output_type": "stream",
          "name": "stdout",
          "text": [
            "Epoch 1/5 \t loss=404.3361 \t val_loss=235.3965  \t val_acc=0.8189  \t time=14.90s\n",
            "Epoch 2/5 \t loss=232.3237 \t val_loss=203.0728  \t val_acc=0.8406  \t time=14.94s\n",
            "Epoch 3/5 \t loss=203.2272 \t val_loss=191.3691  \t val_acc=0.8495  \t time=15.18s\n",
            "Epoch 4/5 \t loss=187.4830 \t val_loss=185.3109  \t val_acc=0.8530  \t time=15.29s\n",
            "Epoch 5/5 \t loss=175.4542 \t val_loss=181.3471  \t val_acc=0.8554  \t time=15.57s\n"
          ]
        }
      ],
      "source": [
        "\n",
        "np.random.seed(3040)\n",
        "random.seed(3040)\n",
        "torch.manual_seed(3040) \n",
        "\n",
        "model = CNN_Text()\n",
        "loss_fn = nn.CrossEntropyLoss(reduction='sum')\n",
        "optimizer = torch.optim.Adam(filter(lambda p: p.requires_grad, model.parameters()), lr=0.001)\n",
        "model.cuda()\n",
        "\n",
        "# Load train and test in CUDA Memory\n",
        "x_train = torch.tensor(train_X, dtype=torch.long).cuda()\n",
        "y_train = torch.tensor(train_y, dtype=torch.long).cuda()\n",
        "\n",
        "x_cv = torch.tensor(valid_X, dtype=torch.long).cuda()\n",
        "y_cv = torch.tensor(valid_y, dtype=torch.long).cuda()\n",
        "\n",
        "# Create Torch datasets\n",
        "train = torch.utils.data.TensorDataset(x_train, y_train)\n",
        "valid = torch.utils.data.TensorDataset(x_cv, y_cv)\n",
        "\n",
        "# Create Data Loaders\n",
        "train_loader = DataLoader(train, batch_size=batch_size, shuffle=True)\n",
        "valid_loader = DataLoader(valid, batch_size=batch_size, shuffle=False)\n",
        "\n",
        "# initalize loss list\n",
        "train_loss = []\n",
        "valid_loss = []\n",
        "\n",
        "# training for all epochs\n",
        "for epoch in range(n_epochs):\n",
        "    start_time = time.time()\n",
        "    # Set model to train configuration\n",
        "    model.train()\n",
        "    avg_loss = 0.0  \n",
        "    for i, (x_batch, y_batch) in enumerate(train_loader):\n",
        "        # Predict/Forward Pass\n",
        "        y_pred = model(x_batch)\n",
        "        # Compute loss\n",
        "        loss = loss_fn(y_pred, y_batch)\n",
        "        optimizer.zero_grad()\n",
        "        loss.backward()\n",
        "        optimizer.step()\n",
        "        avg_loss += loss.item() / len(train_loader)\n",
        "    \n",
        "    # Set model to validation configuration -Doesn't get trained here\n",
        "    model.eval()        \n",
        "    avg_val_loss = 0.\n",
        "    val_preds = np.zeros((len(x_cv),len(le.classes_)))\n",
        "    \n",
        "    for i, (x_batch, y_batch) in enumerate(valid_loader):\n",
        "        y_pred = model(x_batch).detach()\n",
        "        avg_val_loss += loss_fn(y_pred, y_batch).item() / len(valid_loader)\n",
        "        # keep/store predictions\n",
        "        val_preds[i * batch_size:(i+1) * batch_size] =F.softmax(y_pred).cpu().numpy()\n",
        "    \n",
        "    # Check Accuracy\n",
        "    val_accuracy = sum(val_preds.argmax(axis=1)==valid_y)/len(valid_y)\n",
        "    train_loss.append(avg_loss)\n",
        "    valid_loss.append(avg_val_loss)\n",
        "    elapsed_time = time.time() - start_time \n",
        "    print('Epoch {}/{} \\t loss={:.4f} \\t val_loss={:.4f}  \\t val_acc={:.4f}  \\t time={:.2f}s'.format(\n",
        "                epoch + 1, n_epochs, avg_loss, avg_val_loss, val_accuracy, elapsed_time))"
      ]
    },
    {
      "cell_type": "code",
      "source": [],
      "metadata": {
        "id": "g0YaiZjFBo-E"
      },
      "execution_count": 16,
      "outputs": []
    },
    {
      "cell_type": "markdown",
      "source": [
        "### Save model"
      ],
      "metadata": {
        "id": "t5ZiX0Em9SU5"
      }
    },
    {
      "cell_type": "code",
      "execution_count": 18,
      "metadata": {
        "id": "_h1usSA9fco1"
      },
      "outputs": [],
      "source": [
        "torch.save(model,'textcnn_model')"
      ]
    },
    {
      "cell_type": "markdown",
      "source": [
        "### Plot Train/Validation Loss curve"
      ],
      "metadata": {
        "id": "yW9F3N7W9XhY"
      }
    },
    {
      "cell_type": "code",
      "execution_count": 19,
      "metadata": {
        "id": "pQCb_P_2fco1"
      },
      "outputs": [],
      "source": [
        "def plot_graph(epochs):\n",
        "    fig = plt.figure(figsize=(12,12))\n",
        "    plt.title(\"Train/Validation Loss\")\n",
        "    plt.plot(list(np.arange(epochs) + 1) , train_loss, label='train')\n",
        "    plt.plot(list(np.arange(epochs) + 1), valid_loss, label='validation')\n",
        "    plt.xlabel('num_epochs', fontsize=12)\n",
        "    plt.ylabel('loss', fontsize=12)\n",
        "    plt.legend(loc='best')"
      ]
    },
    {
      "cell_type": "code",
      "execution_count": 20,
      "metadata": {
        "id": "CktWqEEmfco1",
        "colab": {
          "base_uri": "https://localhost:8080/",
          "height": 733
        },
        "outputId": "15aa80e5-785b-469a-86f1-a7e6b72dbe64"
      },
      "outputs": [
        {
          "output_type": "display_data",
          "data": {
            "text/plain": [
              "<Figure size 864x864 with 1 Axes>"
            ],
            "image/png": "[encoded data removed]"
          },
          "metadata": {
            "needs_background": "light"
          }
        }
      ],
      "source": [
        "plot_graph(n_epochs)"
      ]
    },
    {
      "cell_type": "markdown",
      "source": [
        "### plot confusion matrix"
      ],
      "metadata": {
        "id": "o785L5Ft9eWh"
      }
    },
    {
      "cell_type": "code",
      "execution_count": 21,
      "metadata": {
        "id": "q1Ihldb3fco1",
        "colab": {
          "base_uri": "https://localhost:8080/",
          "height": 762
        },
        "outputId": "d8c554e9-2b74-4544-c587-952d783024ed"
      },
      "outputs": [
        {
          "output_type": "execute_result",
          "data": {
            "text/plain": [
              "<matplotlib.axes._subplots.AxesSubplot at 0x7fd6bb973f90>"
            ]
          },
          "metadata": {},
          "execution_count": 21
        },
        {
          "output_type": "display_data",
          "data": {
            "text/plain": [
              "<Figure size 864x864 with 2 Axes>"
            ],
            "image/png": "[encoded data removed]"
          },
          "metadata": {
            "needs_background": "light"
          }
        }
      ],
      "source": [
        "\n",
        "y_true = [le.classes_[x] for x in valid_y]\n",
        "y_pred = [le.classes_[x] for x in val_preds.argmax(axis=1)]\n",
        "skplt.metrics.plot_confusion_matrix(\n",
        "    y_true, \n",
        "    y_pred,\n",
        "    figsize=(12,12),x_tick_rotation=90)"
      ]
    },
    {
      "cell_type": "code",
      "source": [],
      "metadata": {
        "id": "0CwL3AlDD7Ji"
      },
      "execution_count": null,
      "outputs": []
    },
    {
      "cell_type": "markdown",
      "metadata": {
        "id": "nnNt3f_rfco2"
      },
      "source": [
        "## Pytorch Model - BiLSTM"
      ]
    },
    {
      "cell_type": "markdown",
      "source": [
        "## Pytorch Model - BiLSTM\n",
        "\n",
        "Initializing the`BiLSTM` \n",
        "\n",
        "- set the hidden size to 64 and a drop out to 0.1\n",
        "- Initialize Embedding Layer's weight by generating parameters from `embedding_matrix` created earlier\n",
        "- `self.embedding.weight.requires_grad` is set to False because we dont want to train the embeddings.\n",
        "- Defing the LSTM model and set the  bidirectional=True and batch_first=True. To use a bidirecitonal lstm and to process that data in batches respectively.\n",
        "\n",
        "\n",
        "In the forward pass, we set the hidden state as the embedding, we make the second hidden state the lstm model. We gnenrate the average and max pool for the second hidden state. We connect it to the a RELU, whuch is then connected to a drop, the findally, the output layer"
      ],
      "metadata": {
        "id": "5vaUpG5eBlIt"
      }
    },
    {
      "cell_type": "code",
      "execution_count": 22,
      "metadata": {
        "id": "JRSjLGPnfco2"
      },
      "outputs": [],
      "source": [
        "np.random.seed(3040)\n",
        "random.seed(3040)\n",
        "torch.manual_seed(3040) \n",
        "\n",
        "class BiLSTM(nn.Module):\n",
        "    \n",
        "    def __init__(self):\n",
        "        super(BiLSTM, self).__init__()\n",
        "        self.hidden_size = 64\n",
        "        drp = 0.1\n",
        "        n_classes = len(le.classes_)\n",
        "        self.embedding = nn.Embedding(max_features, embed_size)\n",
        "        self.embedding.weight = nn.Parameter(torch.tensor(embedding_matrix, dtype=torch.float32))\n",
        "        self.embedding.weight.requires_grad = False\n",
        "        self.lstm = nn.LSTM(embed_size, self.hidden_size, bidirectional=True, batch_first=True)\n",
        "        self.linear = nn.Linear(self.hidden_size*4 , 64)\n",
        "        self.relu = nn.ReLU()\n",
        "        self.dropout = nn.Dropout(drp)\n",
        "        self.out = nn.Linear(64, n_classes)\n",
        "\n",
        "\n",
        "    def forward(self, x):\n",
        "        #rint(x.size())\n",
        "        h_embedding = self.embedding(x)\n",
        "        #_embedding = torch.squeeze(torch.unsqueeze(h_embedding, 0))\n",
        "        h_lstm, _ = self.lstm(h_embedding)\n",
        "        avg_pool = torch.mean(h_lstm, 1)\n",
        "        max_pool, _ = torch.max(h_lstm, 1)\n",
        "        conc = torch.cat(( avg_pool, max_pool), 1)\n",
        "        conc = self.relu(self.linear(conc))\n",
        "        conc = self.dropout(conc)\n",
        "        out = self.out(conc)\n",
        "        return out"
      ]
    },
    {
      "cell_type": "code",
      "execution_count": 23,
      "metadata": {
        "id": "4kTtrwByfco2",
        "colab": {
          "base_uri": "https://localhost:8080/"
        },
        "outputId": "e071606b-4d6e-4e7b-d86c-67ac19b27ca4"
      },
      "outputs": [
        {
          "output_type": "stream",
          "name": "stderr",
          "text": [
            "/usr/local/lib/python3.7/dist-packages/ipykernel_launcher.py:51: UserWarning: Implicit dimension choice for softmax has been deprecated. Change the call to include dim=X as an argument.\n"
          ]
        },
        {
          "output_type": "stream",
          "name": "stdout",
          "text": [
            "Epoch 1/5 \t loss=616.9511 \t val_loss=282.2481  \t val_acc=0.7836  \t time=13.69s\n",
            "Epoch 2/5 \t loss=256.8992 \t val_loss=213.2257  \t val_acc=0.8270  \t time=14.29s\n",
            "Epoch 3/5 \t loss=219.7330 \t val_loss=199.3909  \t val_acc=0.8409  \t time=14.02s\n",
            "Epoch 4/5 \t loss=204.0891 \t val_loss=190.3688  \t val_acc=0.8482  \t time=14.01s\n",
            "Epoch 5/5 \t loss=192.8513 \t val_loss=182.8907  \t val_acc=0.8520  \t time=14.15s\n"
          ]
        }
      ],
      "source": [
        "\n",
        "np.random.seed(3040)\n",
        "random.seed(3040)\n",
        "torch.manual_seed(3040) \n",
        "\n",
        "model = BiLSTM()\n",
        "loss_fn = nn.CrossEntropyLoss(reduction='sum')\n",
        "optimizer = torch.optim.Adam(filter(lambda p: p.requires_grad, model.parameters()), lr=0.001)\n",
        "model.cuda()\n",
        "\n",
        "# Load train and test in CUDA Memory\n",
        "x_train = torch.tensor(train_X, dtype=torch.long).cuda()\n",
        "y_train = torch.tensor(train_y, dtype=torch.long).cuda()\n",
        "x_cv = torch.tensor(valid_X, dtype=torch.long).cuda()\n",
        "y_cv = torch.tensor(valid_y, dtype=torch.long).cuda()\n",
        "\n",
        "# Create Torch datasets\n",
        "train = torch.utils.data.TensorDataset(x_train, y_train)\n",
        "valid = torch.utils.data.TensorDataset(x_cv, y_cv)\n",
        "\n",
        "# Create Data Loaders\n",
        "train_loader = torch.utils.data.DataLoader(train, batch_size=batch_size, shuffle=True)\n",
        "valid_loader = torch.utils.data.DataLoader(valid, batch_size=batch_size, shuffle=False)\n",
        "\n",
        "train_loss = []\n",
        "valid_loss = []\n",
        "\n",
        "for epoch in range(n_epochs):\n",
        "    start_time = time.time()\n",
        "    # Set model to train configuration\n",
        "    model.train()\n",
        "    avg_loss = 0.  \n",
        "    for i, (x_batch, y_batch) in enumerate(train_loader):\n",
        "        # Predict/Forward Pass\n",
        "        y_pred = model(x_batch)\n",
        "        # Compute loss\n",
        "        loss = loss_fn(y_pred, y_batch)\n",
        "        optimizer.zero_grad()\n",
        "        loss.backward()\n",
        "        optimizer.step()\n",
        "        avg_loss += loss.item() / len(train_loader)\n",
        "    \n",
        "    # Set model to validation configuration -Doesn't get trained here\n",
        "    model.eval()        \n",
        "    avg_val_loss = 0.\n",
        "    val_preds = np.zeros((len(x_cv),len(le.classes_)))\n",
        "    \n",
        "    for i, (x_batch, y_batch) in enumerate(valid_loader):\n",
        "        y_pred = model(x_batch).detach()\n",
        "        avg_val_loss += loss_fn(y_pred, y_batch).item() / len(valid_loader)\n",
        "        # keep/store predictions\n",
        "        val_preds[i * batch_size:(i+1) * batch_size] =F.softmax(y_pred).cpu().numpy()\n",
        "    \n",
        "    # Check Accuracy\n",
        "    val_accuracy = sum(val_preds.argmax(axis=1)==valid_y)/len(valid_y)\n",
        "    train_loss.append(avg_loss)\n",
        "    valid_loss.append(avg_val_loss)\n",
        "    elapsed_time = time.time() - start_time \n",
        "    print('Epoch {}/{} \\t loss={:.4f} \\t val_loss={:.4f}  \\t val_acc={:.4f}  \\t time={:.2f}s'.format(\n",
        "                epoch + 1, n_epochs, avg_loss, avg_val_loss, val_accuracy, elapsed_time))"
      ]
    },
    {
      "cell_type": "code",
      "execution_count": 24,
      "metadata": {
        "id": "Gg6Yj1nXfco2",
        "colab": {
          "base_uri": "https://localhost:8080/",
          "height": 733
        },
        "outputId": "ad3bccba-1a69-423b-bc77-9d1131893163"
      },
      "outputs": [
        {
          "output_type": "display_data",
          "data": {
            "text/plain": [
              "<Figure size 864x864 with 1 Axes>"
            ],
            "image/png": "[encoded data removed]"
          },
          "metadata": {
            "needs_background": "light"
          }
        }
      ],
      "source": [
        "plot_graph(n_epochs)"
      ]
    },
    {
      "cell_type": "code",
      "execution_count": 25,
      "metadata": {
        "id": "Sz5pAyZXfco2"
      },
      "outputs": [],
      "source": [
        "torch.save(model,'bilstm_model')"
      ]
    },
    {
      "cell_type": "code",
      "execution_count": 26,
      "metadata": {
        "id": "LKSfLYcUfco2",
        "colab": {
          "base_uri": "https://localhost:8080/",
          "height": 762
        },
        "outputId": "ce33e11b-970e-4abd-e951-2fbda7a2f340"
      },
      "outputs": [
        {
          "output_type": "execute_result",
          "data": {
            "text/plain": [
              "<matplotlib.axes._subplots.AxesSubplot at 0x7fd6bb952f90>"
            ]
          },
          "metadata": {},
          "execution_count": 26
        },
        {
          "output_type": "display_data",
          "data": {
            "text/plain": [
              "<Figure size 864x864 with 2 Axes>"
            ],
            "image/png": "[encoded data removed]"
          },
          "metadata": {
            "needs_background": "light"
          }
        }
      ],
      "source": [
        "import scikitplot as skplt\n",
        "y_true = [le.classes_[x] for x in valid_y]\n",
        "y_pred = [le.classes_[x] for x in val_preds.argmax(axis=1)]\n",
        "skplt.metrics.plot_confusion_matrix(\n",
        "    y_true, \n",
        "    y_pred,\n",
        "    figsize=(12,12),x_tick_rotation=90)"
      ]
    },
    {
      "cell_type": "code",
      "source": [],
      "metadata": {
        "id": "lY11EOzMELjs"
      },
      "execution_count": 26,
      "outputs": []
    }
  ],
  "metadata": {
    "accelerator": "GPU",
    "colab": {
      "provenance": [],
      "include_colab_link": true
    },
    "gpuClass": "standard",
    "kernelspec": {
      "display_name": "Python 3",
      "name": "python3"
    },
    "language_info": {
      "name": "python"
    }
  },
  "nbformat": 4,
  "nbformat_minor": 0
}