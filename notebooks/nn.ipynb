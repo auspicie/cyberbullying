{
 "cells": [
  {
   "cell_type": "code",
   "execution_count": 1,
   "metadata": {},
   "outputs": [],
   "source": [
    "# importing libraries\n",
    "import pandas as pd\n",
    "import numpy as np\n",
    "import matplotlib.pyplot as plt\n",
    "import seaborn as sns\n",
    "import re\n",
    "import warnings\n",
    "from sklearn.model_selection import train_test_split\n",
    "\n",
    "warnings.filterwarnings(action=\"ignore\")\n",
    "%matplotlib inline"
   ]
  },
  {
   "cell_type": "code",
   "execution_count": 2,
   "metadata": {},
   "outputs": [],
   "source": [
    "df = pd.read_csv('../data/processed/clean_df.csv')"
   ]
  },
  {
   "cell_type": "code",
   "execution_count": 3,
   "metadata": {},
   "outputs": [
    {
     "data": {
      "text/html": [
       "<div>\n",
       "<style scoped>\n",
       "    .dataframe tbody tr th:only-of-type {\n",
       "        vertical-align: middle;\n",
       "    }\n",
       "\n",
       "    .dataframe tbody tr th {\n",
       "        vertical-align: top;\n",
       "    }\n",
       "\n",
       "    .dataframe thead th {\n",
       "        text-align: right;\n",
       "    }\n",
       "</style>\n",
       "<table border=\"1\" class=\"dataframe\">\n",
       "  <thead>\n",
       "    <tr style=\"text-align: right;\">\n",
       "      <th></th>\n",
       "      <th>Unnamed: 0</th>\n",
       "      <th>tweet_text</th>\n",
       "      <th>cyberbullying_type</th>\n",
       "      <th>profanity_list</th>\n",
       "      <th>hashtags</th>\n",
       "      <th>mentions</th>\n",
       "      <th>emoji_face</th>\n",
       "      <th>emoji_names</th>\n",
       "      <th>clean_txt</th>\n",
       "      <th>clean_txt_emoji</th>\n",
       "      <th>clean_txt_emoji_lemma</th>\n",
       "      <th>Num_words_text</th>\n",
       "    </tr>\n",
       "  </thead>\n",
       "  <tbody>\n",
       "    <tr>\n",
       "      <th>0</th>\n",
       "      <td>0</td>\n",
       "      <td>In other words #katandandre, your food was cra...</td>\n",
       "      <td>not_cyberbullying</td>\n",
       "      <td>NaN</td>\n",
       "      <td>katandandre mkr</td>\n",
       "      <td>NaN</td>\n",
       "      <td>NaN</td>\n",
       "      <td>NaN</td>\n",
       "      <td>In other words , your food was crapilicious!</td>\n",
       "      <td>words food crapilicious</td>\n",
       "      <td>word food crapilicious</td>\n",
       "      <td>3</td>\n",
       "    </tr>\n",
       "    <tr>\n",
       "      <th>2</th>\n",
       "      <td>2</td>\n",
       "      <td>@XochitlSuckkks a classy whore? Or more red ve...</td>\n",
       "      <td>not_cyberbullying</td>\n",
       "      <td>NaN</td>\n",
       "      <td>NaN</td>\n",
       "      <td>XochitlSuckkks</td>\n",
       "      <td>NaN</td>\n",
       "      <td>NaN</td>\n",
       "      <td>classy whore? Or more red velvet cupcakes?</td>\n",
       "      <td>classy whore red velvet cupcakes</td>\n",
       "      <td>classy whore red velvet cupcakes</td>\n",
       "      <td>5</td>\n",
       "    </tr>\n",
       "    <tr>\n",
       "      <th>3</th>\n",
       "      <td>3</td>\n",
       "      <td>@Jason_Gio meh. :P  thanks for the heads up, b...</td>\n",
       "      <td>not_cyberbullying</td>\n",
       "      <td>NaN</td>\n",
       "      <td>NaN</td>\n",
       "      <td>Jason_Gio</td>\n",
       "      <td>NaN</td>\n",
       "      <td>NaN</td>\n",
       "      <td>meh. :P thanks for the heads up, but not too ...</td>\n",
       "      <td>meh thanks heads concerned another angry dude ...</td>\n",
       "      <td>meh thank head concern another angry dude twitter</td>\n",
       "      <td>8</td>\n",
       "    </tr>\n",
       "    <tr>\n",
       "      <th>4</th>\n",
       "      <td>4</td>\n",
       "      <td>@RudhoeEnglish This is an ISIS account pretend...</td>\n",
       "      <td>not_cyberbullying</td>\n",
       "      <td>NaN</td>\n",
       "      <td>NaN</td>\n",
       "      <td>RudhoeEnglish</td>\n",
       "      <td>NaN</td>\n",
       "      <td>NaN</td>\n",
       "      <td>This ISIS account pretending Kurdish account....</td>\n",
       "      <td>isis account pretending kurdish account like i...</td>\n",
       "      <td>isis account pretend kurdish account like isla...</td>\n",
       "      <td>8</td>\n",
       "    </tr>\n",
       "    <tr>\n",
       "      <th>5</th>\n",
       "      <td>5</td>\n",
       "      <td>@Raja5aab @Quickieleaks Yes, the test of god i...</td>\n",
       "      <td>not_cyberbullying</td>\n",
       "      <td>NaN</td>\n",
       "      <td>NaN</td>\n",
       "      <td>Raja5aab Quickieleaks</td>\n",
       "      <td>NaN</td>\n",
       "      <td>NaN</td>\n",
       "      <td>Yes, the test god that good bad indifferent ...</td>\n",
       "      <td>yes test god good bad indifferent weird whatev...</td>\n",
       "      <td>yes test god good bad indifferent weird whatev...</td>\n",
       "      <td>11</td>\n",
       "    </tr>\n",
       "    <tr>\n",
       "      <th>...</th>\n",
       "      <td>...</td>\n",
       "      <td>...</td>\n",
       "      <td>...</td>\n",
       "      <td>...</td>\n",
       "      <td>...</td>\n",
       "      <td>...</td>\n",
       "      <td>...</td>\n",
       "      <td>...</td>\n",
       "      <td>...</td>\n",
       "      <td>...</td>\n",
       "      <td>...</td>\n",
       "      <td>...</td>\n",
       "    </tr>\n",
       "    <tr>\n",
       "      <th>47687</th>\n",
       "      <td>47687</td>\n",
       "      <td>Black ppl aren't expected to do anything, depe...</td>\n",
       "      <td>ethnicity</td>\n",
       "      <td>NaN</td>\n",
       "      <td>NaN</td>\n",
       "      <td>NaN</td>\n",
       "      <td>NaN</td>\n",
       "      <td>NaN</td>\n",
       "      <td>Black ppl aren't expected anything, depended f...</td>\n",
       "      <td>black ppl expected anything depended anything ...</td>\n",
       "      <td>black ppl expect anything depend anything yet ...</td>\n",
       "      <td>21</td>\n",
       "    </tr>\n",
       "    <tr>\n",
       "      <th>47688</th>\n",
       "      <td>47688</td>\n",
       "      <td>Turner did not withhold his disappointment. Tu...</td>\n",
       "      <td>ethnicity</td>\n",
       "      <td>negro</td>\n",
       "      <td>NaN</td>\n",
       "      <td>NaN</td>\n",
       "      <td>NaN</td>\n",
       "      <td>NaN</td>\n",
       "      <td>Turner did not withhold his disappointment. Tu...</td>\n",
       "      <td>turner withhold disappointment turner called c...</td>\n",
       "      <td>turner withhold disappointment turner call cou...</td>\n",
       "      <td>30</td>\n",
       "    </tr>\n",
       "    <tr>\n",
       "      <th>47689</th>\n",
       "      <td>47689</td>\n",
       "      <td>I swear to God. This dumb nigger bitch. I have...</td>\n",
       "      <td>ethnicity</td>\n",
       "      <td>nigger</td>\n",
       "      <td>NaN</td>\n",
       "      <td>NaN</td>\n",
       "      <td>NaN</td>\n",
       "      <td>NaN</td>\n",
       "      <td>I swear God. This dumb nigger bitch. I have go...</td>\n",
       "      <td>swear god dumb nigger bitch got bleach hair re...</td>\n",
       "      <td>swear god dumb nigger bitch get bleach hair re...</td>\n",
       "      <td>12</td>\n",
       "    </tr>\n",
       "    <tr>\n",
       "      <th>47690</th>\n",
       "      <td>47690</td>\n",
       "      <td>Yea fuck you RT @therealexel: IF YOURE A NIGGE...</td>\n",
       "      <td>ethnicity</td>\n",
       "      <td>fuck</td>\n",
       "      <td>NaN</td>\n",
       "      <td>therealexel</td>\n",
       "      <td>NaN</td>\n",
       "      <td>NaN</td>\n",
       "      <td>Yea fuck you RT : IF YOURE A NIGGER FUCKING UN...</td>\n",
       "      <td>yea fuck youre nigger fucking unfollow fucking...</td>\n",
       "      <td>yea fuck youre nigger fuck unfollow fuck dumb ...</td>\n",
       "      <td>9</td>\n",
       "    </tr>\n",
       "    <tr>\n",
       "      <th>47691</th>\n",
       "      <td>47691</td>\n",
       "      <td>Bro. U gotta chill RT @CHILLShrammy: Dog FUCK ...</td>\n",
       "      <td>ethnicity</td>\n",
       "      <td>nigger bitch</td>\n",
       "      <td>NaN</td>\n",
       "      <td>CHILLShrammy</td>\n",
       "      <td>NaN</td>\n",
       "      <td>NaN</td>\n",
       "      <td>Bro. U gotta chill RT : Dog FUCK KP that dumb ...</td>\n",
       "      <td>bro gotta chill dog fuck dumb nigger bitch lmao</td>\n",
       "      <td>bro get ta chill dog fuck dumb nigger bitch lmao</td>\n",
       "      <td>10</td>\n",
       "    </tr>\n",
       "  </tbody>\n",
       "</table>\n",
       "<p>44814 rows × 12 columns</p>\n",
       "</div>"
      ],
      "text/plain": [
       "       Unnamed: 0                                         tweet_text  \\\n",
       "0               0  In other words #katandandre, your food was cra...   \n",
       "2               2  @XochitlSuckkks a classy whore? Or more red ve...   \n",
       "3               3  @Jason_Gio meh. :P  thanks for the heads up, b...   \n",
       "4               4  @RudhoeEnglish This is an ISIS account pretend...   \n",
       "5               5  @Raja5aab @Quickieleaks Yes, the test of god i...   \n",
       "...           ...                                                ...   \n",
       "47687       47687  Black ppl aren't expected to do anything, depe...   \n",
       "47688       47688  Turner did not withhold his disappointment. Tu...   \n",
       "47689       47689  I swear to God. This dumb nigger bitch. I have...   \n",
       "47690       47690  Yea fuck you RT @therealexel: IF YOURE A NIGGE...   \n",
       "47691       47691  Bro. U gotta chill RT @CHILLShrammy: Dog FUCK ...   \n",
       "\n",
       "      cyberbullying_type profanity_list         hashtags  \\\n",
       "0      not_cyberbullying            NaN  katandandre mkr   \n",
       "2      not_cyberbullying            NaN              NaN   \n",
       "3      not_cyberbullying            NaN              NaN   \n",
       "4      not_cyberbullying            NaN              NaN   \n",
       "5      not_cyberbullying            NaN              NaN   \n",
       "...                  ...            ...              ...   \n",
       "47687          ethnicity            NaN              NaN   \n",
       "47688          ethnicity          negro              NaN   \n",
       "47689          ethnicity         nigger              NaN   \n",
       "47690          ethnicity           fuck              NaN   \n",
       "47691          ethnicity   nigger bitch              NaN   \n",
       "\n",
       "                    mentions emoji_face emoji_names  \\\n",
       "0                        NaN        NaN         NaN   \n",
       "2             XochitlSuckkks        NaN         NaN   \n",
       "3                  Jason_Gio        NaN         NaN   \n",
       "4              RudhoeEnglish        NaN         NaN   \n",
       "5      Raja5aab Quickieleaks        NaN         NaN   \n",
       "...                      ...        ...         ...   \n",
       "47687                    NaN        NaN         NaN   \n",
       "47688                    NaN        NaN         NaN   \n",
       "47689                    NaN        NaN         NaN   \n",
       "47690            therealexel        NaN         NaN   \n",
       "47691           CHILLShrammy        NaN         NaN   \n",
       "\n",
       "                                               clean_txt  \\\n",
       "0          In other words , your food was crapilicious!    \n",
       "2             classy whore? Or more red velvet cupcakes?   \n",
       "3       meh. :P thanks for the heads up, but not too ...   \n",
       "4       This ISIS account pretending Kurdish account....   \n",
       "5        Yes, the test god that good bad indifferent ...   \n",
       "...                                                  ...   \n",
       "47687  Black ppl aren't expected anything, depended f...   \n",
       "47688  Turner did not withhold his disappointment. Tu...   \n",
       "47689  I swear God. This dumb nigger bitch. I have go...   \n",
       "47690  Yea fuck you RT : IF YOURE A NIGGER FUCKING UN...   \n",
       "47691  Bro. U gotta chill RT : Dog FUCK KP that dumb ...   \n",
       "\n",
       "                                         clean_txt_emoji  \\\n",
       "0                                words food crapilicious   \n",
       "2                       classy whore red velvet cupcakes   \n",
       "3      meh thanks heads concerned another angry dude ...   \n",
       "4      isis account pretending kurdish account like i...   \n",
       "5      yes test god good bad indifferent weird whatev...   \n",
       "...                                                  ...   \n",
       "47687  black ppl expected anything depended anything ...   \n",
       "47688  turner withhold disappointment turner called c...   \n",
       "47689  swear god dumb nigger bitch got bleach hair re...   \n",
       "47690  yea fuck youre nigger fucking unfollow fucking...   \n",
       "47691    bro gotta chill dog fuck dumb nigger bitch lmao   \n",
       "\n",
       "                                   clean_txt_emoji_lemma  Num_words_text  \n",
       "0                                 word food crapilicious               3  \n",
       "2                       classy whore red velvet cupcakes               5  \n",
       "3      meh thank head concern another angry dude twitter               8  \n",
       "4      isis account pretend kurdish account like isla...               8  \n",
       "5      yes test god good bad indifferent weird whatev...              11  \n",
       "...                                                  ...             ...  \n",
       "47687  black ppl expect anything depend anything yet ...              21  \n",
       "47688  turner withhold disappointment turner call cou...              30  \n",
       "47689  swear god dumb nigger bitch get bleach hair re...              12  \n",
       "47690  yea fuck youre nigger fuck unfollow fuck dumb ...               9  \n",
       "47691   bro get ta chill dog fuck dumb nigger bitch lmao              10  \n",
       "\n",
       "[44814 rows x 12 columns]"
      ]
     },
     "execution_count": 3,
     "metadata": {},
     "output_type": "execute_result"
    }
   ],
   "source": [
    "# add cleaning to previous notebook\n",
    "\n",
    "df['Num_words_text'] = df['clean_txt_emoji_lemma'].apply(lambda x:len(str(x).split()))\n",
    "nw_df =df[df['Num_words_text'] > 2]\n",
    "nw_df"
   ]
  },
  {
   "cell_type": "code",
   "execution_count": 6,
   "metadata": {},
   "outputs": [],
   "source": [
    "df_eda = df[['cyberbullying_type', 'clean_txt_emoji_lemma', 'Num_words_text', 'profanity_list', 'hashtags']]\n"
   ]
  },
  {
   "cell_type": "markdown",
   "metadata": {},
   "source": [
    "- word cloud for each cyberbullying\n",
    "- profanity bar plot for each cyberbullying\n",
    "- number of words for each cyberbullying\n",
    "- \n"
   ]
  },
  {
   "cell_type": "code",
   "execution_count": 7,
   "metadata": {},
   "outputs": [
    {
     "data": {
      "text/html": [
       "<div>\n",
       "<style scoped>\n",
       "    .dataframe tbody tr th:only-of-type {\n",
       "        vertical-align: middle;\n",
       "    }\n",
       "\n",
       "    .dataframe tbody tr th {\n",
       "        vertical-align: top;\n",
       "    }\n",
       "\n",
       "    .dataframe thead th {\n",
       "        text-align: right;\n",
       "    }\n",
       "</style>\n",
       "<table border=\"1\" class=\"dataframe\">\n",
       "  <thead>\n",
       "    <tr style=\"text-align: right;\">\n",
       "      <th></th>\n",
       "      <th>cyberbullying_type</th>\n",
       "      <th>clean_txt_emoji_lemma</th>\n",
       "      <th>Num_words_text</th>\n",
       "      <th>profanity_list</th>\n",
       "      <th>hashtags</th>\n",
       "    </tr>\n",
       "  </thead>\n",
       "  <tbody>\n",
       "    <tr>\n",
       "      <th>0</th>\n",
       "      <td>not_cyberbullying</td>\n",
       "      <td>word food crapilicious</td>\n",
       "      <td>3</td>\n",
       "      <td>NaN</td>\n",
       "      <td>katandandre mkr</td>\n",
       "    </tr>\n",
       "    <tr>\n",
       "      <th>1</th>\n",
       "      <td>not_cyberbullying</td>\n",
       "      <td>white</td>\n",
       "      <td>1</td>\n",
       "      <td>NaN</td>\n",
       "      <td>aussietv MKR theblock ImACelebrityAU today sun...</td>\n",
       "    </tr>\n",
       "    <tr>\n",
       "      <th>2</th>\n",
       "      <td>not_cyberbullying</td>\n",
       "      <td>classy whore red velvet cupcakes</td>\n",
       "      <td>5</td>\n",
       "      <td>NaN</td>\n",
       "      <td>NaN</td>\n",
       "    </tr>\n",
       "    <tr>\n",
       "      <th>3</th>\n",
       "      <td>not_cyberbullying</td>\n",
       "      <td>meh thank head concern another angry dude twitter</td>\n",
       "      <td>8</td>\n",
       "      <td>NaN</td>\n",
       "      <td>NaN</td>\n",
       "    </tr>\n",
       "    <tr>\n",
       "      <th>4</th>\n",
       "      <td>not_cyberbullying</td>\n",
       "      <td>isis account pretend kurdish account like isla...</td>\n",
       "      <td>8</td>\n",
       "      <td>NaN</td>\n",
       "      <td>NaN</td>\n",
       "    </tr>\n",
       "  </tbody>\n",
       "</table>\n",
       "</div>"
      ],
      "text/plain": [
       "  cyberbullying_type                              clean_txt_emoji_lemma  \\\n",
       "0  not_cyberbullying                             word food crapilicious   \n",
       "1  not_cyberbullying                                              white   \n",
       "2  not_cyberbullying                   classy whore red velvet cupcakes   \n",
       "3  not_cyberbullying  meh thank head concern another angry dude twitter   \n",
       "4  not_cyberbullying  isis account pretend kurdish account like isla...   \n",
       "\n",
       "   Num_words_text profanity_list  \\\n",
       "0               3            NaN   \n",
       "1               1            NaN   \n",
       "2               5            NaN   \n",
       "3               8            NaN   \n",
       "4               8            NaN   \n",
       "\n",
       "                                            hashtags  \n",
       "0                                    katandandre mkr  \n",
       "1  aussietv MKR theblock ImACelebrityAU today sun...  \n",
       "2                                                NaN  \n",
       "3                                                NaN  \n",
       "4                                                NaN  "
      ]
     },
     "execution_count": 7,
     "metadata": {},
     "output_type": "execute_result"
    }
   ],
   "source": [
    "df_eda.head()"
   ]
  },
  {
   "cell_type": "code",
   "execution_count": 37,
   "metadata": {},
   "outputs": [],
   "source": [
    "df_eda['profanity_list'] = df_eda['profanity_list'].astype('str')\n",
    "profanity = df_eda[df_eda['profanity_list'] != \"nan\"]"
   ]
  },
  {
   "cell_type": "code",
   "execution_count": 26,
   "metadata": {},
   "outputs": [
    {
     "data": {
      "text/plain": [
       "29.589868321731107"
      ]
     },
     "execution_count": 26,
     "metadata": {},
     "output_type": "execute_result"
    }
   ],
   "source": [
    "# npercentage of entires that had non profanity\n",
    "\n",
    "profanity_len = len(profanity )\n",
    "percent_profanity = (profanity_len/len(df_eda) )* 100\n",
    "percent_profanity "
   ]
  },
  {
   "cell_type": "code",
   "execution_count": 38,
   "metadata": {},
   "outputs": [
    {
     "data": {
      "text/plain": [
       "31743         ti\n",
       "31746    fucking\n",
       "31751     wedgie\n",
       "31753      dicks\n",
       "31755    suicide\n",
       "          ...   \n",
       "39687       crap\n",
       "39703       shit\n",
       "39705        ass\n",
       "39722     bitchy\n",
       "39726      naked\n",
       "Name: profanity_list, Length: 1442, dtype: object"
      ]
     },
     "execution_count": 38,
     "metadata": {},
     "output_type": "execute_result"
    }
   ],
   "source": [
    "#= df[(df.origin == \"JFK\") & (df.carrier == \"B6\")]\n",
    "profanity.query('cyberbullying_type == \"age\"')['profanity_list']"
   ]
  },
  {
   "cell_type": "code",
   "execution_count": 82,
   "metadata": {},
   "outputs": [],
   "source": [
    "from collections import Counter\n",
    "def profanity_bar(label):\n",
    "   #labels = list(df_eda['cyberbullying_type'].unique())\n",
    "   count_obj = profanity.query(f'cyberbullying_type == \"{label}\"')['profanity_list'].apply(lambda x: Counter(x.split(\" \"))).agg(sum).most_common(20)\n",
    "   df = pd.DataFrame(count_obj, columns=['Words', f'{label}'])\n",
    "   df.index = df['Words']\n",
    "   print(f'Bar plot of {label} label')\n",
    "   return df.plot.bar();"
   ]
  },
  {
   "cell_type": "code",
   "execution_count": 83,
   "metadata": {},
   "outputs": [
    {
     "name": "stdout",
     "output_type": "stream",
     "text": [
      "Bar plot of not_cyberbullying label\n"
     ]
    },
    {
     "data": {
      "text/plain": [
       "<AxesSubplot:xlabel='Words'>"
      ]
     },
     "execution_count": 83,
     "metadata": {},
     "output_type": "execute_result"
    },
    {
     "data": {
      "image/png": "[encoded data removed]",
      "text/plain": [
       "<Figure size 432x288 with 1 Axes>"
      ]
     },
     "metadata": {
      "needs_background": "light"
     },
     "output_type": "display_data"
    }
   ],
   "source": [
    "labels = list(df_eda['cyberbullying_type'].unique())\n",
    "profanity_bar(labels[0])\n",
    "\n"
   ]
  },
  {
   "cell_type": "code",
   "execution_count": 84,
   "metadata": {},
   "outputs": [
    {
     "name": "stdout",
     "output_type": "stream",
     "text": [
      "Bar plot of gender label\n"
     ]
    },
    {
     "data": {
      "text/plain": [
       "<AxesSubplot:xlabel='Words'>"
      ]
     },
     "execution_count": 84,
     "metadata": {},
     "output_type": "execute_result"
    },
    {
     "data": {
      "image/png": "[encoded data removed]",
      "text/plain": [
       "<Figure size 432x288 with 1 Axes>"
      ]
     },
     "metadata": {
      "needs_background": "light"
     },
     "output_type": "display_data"
    }
   ],
   "source": [
    "profanity_bar(labels[1])"
   ]
  },
  {
   "cell_type": "code",
   "execution_count": 85,
   "metadata": {},
   "outputs": [
    {
     "name": "stdout",
     "output_type": "stream",
     "text": [
      "Bar plot of religion label\n"
     ]
    },
    {
     "data": {
      "text/plain": [
       "<AxesSubplot:xlabel='Words'>"
      ]
     },
     "execution_count": 85,
     "metadata": {},
     "output_type": "execute_result"
    },
    {
     "data": {
      "image/png": "[encoded data removed]",
      "text/plain": [
       "<Figure size 432x288 with 1 Axes>"
      ]
     },
     "metadata": {
      "needs_background": "light"
     },
     "output_type": "display_data"
    }
   ],
   "source": [
    "\n",
    "profanity_bar(labels[2])\n"
   ]
  },
  {
   "cell_type": "code",
   "execution_count": 86,
   "metadata": {},
   "outputs": [
    {
     "name": "stdout",
     "output_type": "stream",
     "text": [
      "Bar plot of other_cyberbullying label\n"
     ]
    },
    {
     "data": {
      "text/plain": [
       "<AxesSubplot:xlabel='Words'>"
      ]
     },
     "execution_count": 86,
     "metadata": {},
     "output_type": "execute_result"
    },
    {
     "data": {
      "image/png": "[encoded data removed]",
      "text/plain": [
       "<Figure size 432x288 with 1 Axes>"
      ]
     },
     "metadata": {
      "needs_background": "light"
     },
     "output_type": "display_data"
    }
   ],
   "source": [
    "profanity_bar(labels[3])\n"
   ]
  },
  {
   "cell_type": "code",
   "execution_count": 87,
   "metadata": {},
   "outputs": [
    {
     "name": "stdout",
     "output_type": "stream",
     "text": [
      "Bar plot of age label\n"
     ]
    },
    {
     "data": {
      "text/plain": [
       "<AxesSubplot:xlabel='Words'>"
      ]
     },
     "execution_count": 87,
     "metadata": {},
     "output_type": "execute_result"
    },
    {
     "data": {
      "image/png": "[encoded data removed]",
      "text/plain": [
       "<Figure size 432x288 with 1 Axes>"
      ]
     },
     "metadata": {
      "needs_background": "light"
     },
     "output_type": "display_data"
    }
   ],
   "source": [
    "profanity_bar(labels[4])\n"
   ]
  },
  {
   "cell_type": "code",
   "execution_count": 88,
   "metadata": {},
   "outputs": [
    {
     "name": "stdout",
     "output_type": "stream",
     "text": [
      "Bar plot of ethnicity label\n"
     ]
    },
    {
     "data": {
      "text/plain": [
       "<AxesSubplot:xlabel='Words'>"
      ]
     },
     "execution_count": 88,
     "metadata": {},
     "output_type": "execute_result"
    },
    {
     "data": {
      "image/png": "[encoded data removed]",
      "text/plain": [
       "<Figure size 432x288 with 1 Axes>"
      ]
     },
     "metadata": {
      "needs_background": "light"
     },
     "output_type": "display_data"
    }
   ],
   "source": [
    "profanity_bar(labels[5])"
   ]
  },
  {
   "cell_type": "code",
   "execution_count": null,
   "metadata": {},
   "outputs": [],
   "source": []
  }
 ],
 "metadata": {
  "kernelspec": {
   "display_name": "Python 3.9.12 ('dsci572env')",
   "language": "python",
   "name": "python3"
  },
  "language_info": {
   "codemirror_mode": {
    "name": "ipython",
    "version": 3
   },
   "file_extension": ".py",
   "mimetype": "text/x-python",
   "name": "python",
   "nbconvert_exporter": "python",
   "pygments_lexer": "ipython3",
   "version": "3.9.12"
  },
  "orig_nbformat": 4,
  "vscode": {
   "interpreter": {
    "hash": "49c76ddf62ca98de74eedc2bb55b33e27315dcb91d5e2af2ea84b0e3308bb054"
   }
  }
 },
 "nbformat": 4,
 "nbformat_minor": 2
}
